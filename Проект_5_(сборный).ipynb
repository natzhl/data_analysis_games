{
  "cells": [
    {
      "cell_type": "markdown",
      "metadata": {
        "id": "7GzPgeJIElwm"
      },
      "source": [
        "<h1>Исследование работы интернет-магазина \"Стримчик\"</h1>"
      ]
    },
    {
      "cell_type": "markdown",
      "metadata": {
        "id": "GcYBWvGTElwn"
      },
      "source": [
        "# План\n",
        "## Изучение данных\n",
        "## Предобработка\n",
        "* Замените названия столбцов (приведите к нижнему регистру);\n",
        "* Преобразуйте данные в нужные типы;\n",
        "* Обработайте пропуски при необходимости;\n",
        "* Посчитайте суммарные продажи во всех регионах и запишите их в отдельный столбец.\n",
        "## Исследовательский анализ данных\n",
        "* Посмотрите, сколько игр выпускалось в разные годы.\n",
        "* Посмотрите, как менялись продажи по платформам. Выберите платформы с наибольшими суммарными продажами и постройте распределение по годам.\n",
        "* Возьмите данные за соответствующий актуальный период. Не учитывайте в работе данные за предыдущие годы.\n",
        "* Выберите несколько потенциально прибыльных платформ.\n",
        "* Постройте график «ящик с усами» по глобальным продажам игр в разбивке по платформам. \n",
        "* Посмотрите, как влияют на продажи внутри одной популярной платформы отзывы пользователей и критиков. \n",
        "* Посмотрите на общее распределение игр по жанрам. \n",
        "## Портрет пользователя каждого региона\n",
        "Определите для пользователя каждого региона (NA, EU, JP):\n",
        "* Самые популярные платформы (топ-5). \n",
        "* Самые популярные жанры (топ-5). \n",
        "## Проверка гипотезы\n",
        "* Средние пользовательские рейтинги платформ Xbox One и PC одинаковые;\n",
        "* Средние пользовательские рейтинги жанров Action (англ. «действие», экшен-игры) и Sports (англ. «спортивные соревнования») разные.\n",
        "## Общий вывод\n"
      ]
    },
    {
      "cell_type": "markdown",
      "metadata": {
        "id": "fT6SXHrEElwp"
      },
      "source": [
        "# Изучение данных"
      ]
    },
    {
      "cell_type": "code",
      "execution_count": null,
      "metadata": {
        "id": "HW5RoOzOElwq"
      },
      "outputs": [],
      "source": [
        "import pandas as pd\n",
        "import seaborn as sns\n",
        "import numpy as np\n",
        "import matplotlib.pyplot as plt\n",
        "from scipy import stats as st"
      ]
    },
    {
      "cell_type": "code",
      "execution_count": null,
      "metadata": {
        "id": "I3mzgeFJElwt"
      },
      "outputs": [],
      "source": [
        "data = pd.read_csv('/datasets/games.csv')"
      ]
    },
    {
      "cell_type": "code",
      "execution_count": null,
      "metadata": {
        "id": "g1E2jsVnElwu",
        "outputId": "e2c24b76-1df0-4e56-a31f-b538e8abbd5b"
      },
      "outputs": [
        {
          "data": {
            "text/html": [
              "<div>\n",
              "<style scoped>\n",
              "    .dataframe tbody tr th:only-of-type {\n",
              "        vertical-align: middle;\n",
              "    }\n",
              "\n",
              "    .dataframe tbody tr th {\n",
              "        vertical-align: top;\n",
              "    }\n",
              "\n",
              "    .dataframe thead th {\n",
              "        text-align: right;\n",
              "    }\n",
              "</style>\n",
              "<table border=\"1\" class=\"dataframe\">\n",
              "  <thead>\n",
              "    <tr style=\"text-align: right;\">\n",
              "      <th></th>\n",
              "      <th>Name</th>\n",
              "      <th>Platform</th>\n",
              "      <th>Year_of_Release</th>\n",
              "      <th>Genre</th>\n",
              "      <th>NA_sales</th>\n",
              "      <th>EU_sales</th>\n",
              "      <th>JP_sales</th>\n",
              "      <th>Other_sales</th>\n",
              "      <th>Critic_Score</th>\n",
              "      <th>User_Score</th>\n",
              "      <th>Rating</th>\n",
              "    </tr>\n",
              "  </thead>\n",
              "  <tbody>\n",
              "    <tr>\n",
              "      <th>0</th>\n",
              "      <td>Wii Sports</td>\n",
              "      <td>Wii</td>\n",
              "      <td>2006.0</td>\n",
              "      <td>Sports</td>\n",
              "      <td>41.36</td>\n",
              "      <td>28.96</td>\n",
              "      <td>3.77</td>\n",
              "      <td>8.45</td>\n",
              "      <td>76.0</td>\n",
              "      <td>8</td>\n",
              "      <td>E</td>\n",
              "    </tr>\n",
              "    <tr>\n",
              "      <th>1</th>\n",
              "      <td>Super Mario Bros.</td>\n",
              "      <td>NES</td>\n",
              "      <td>1985.0</td>\n",
              "      <td>Platform</td>\n",
              "      <td>29.08</td>\n",
              "      <td>3.58</td>\n",
              "      <td>6.81</td>\n",
              "      <td>0.77</td>\n",
              "      <td>NaN</td>\n",
              "      <td>NaN</td>\n",
              "      <td>NaN</td>\n",
              "    </tr>\n",
              "    <tr>\n",
              "      <th>2</th>\n",
              "      <td>Mario Kart Wii</td>\n",
              "      <td>Wii</td>\n",
              "      <td>2008.0</td>\n",
              "      <td>Racing</td>\n",
              "      <td>15.68</td>\n",
              "      <td>12.76</td>\n",
              "      <td>3.79</td>\n",
              "      <td>3.29</td>\n",
              "      <td>82.0</td>\n",
              "      <td>8.3</td>\n",
              "      <td>E</td>\n",
              "    </tr>\n",
              "    <tr>\n",
              "      <th>3</th>\n",
              "      <td>Wii Sports Resort</td>\n",
              "      <td>Wii</td>\n",
              "      <td>2009.0</td>\n",
              "      <td>Sports</td>\n",
              "      <td>15.61</td>\n",
              "      <td>10.93</td>\n",
              "      <td>3.28</td>\n",
              "      <td>2.95</td>\n",
              "      <td>80.0</td>\n",
              "      <td>8</td>\n",
              "      <td>E</td>\n",
              "    </tr>\n",
              "    <tr>\n",
              "      <th>4</th>\n",
              "      <td>Pokemon Red/Pokemon Blue</td>\n",
              "      <td>GB</td>\n",
              "      <td>1996.0</td>\n",
              "      <td>Role-Playing</td>\n",
              "      <td>11.27</td>\n",
              "      <td>8.89</td>\n",
              "      <td>10.22</td>\n",
              "      <td>1.00</td>\n",
              "      <td>NaN</td>\n",
              "      <td>NaN</td>\n",
              "      <td>NaN</td>\n",
              "    </tr>\n",
              "    <tr>\n",
              "      <th>...</th>\n",
              "      <td>...</td>\n",
              "      <td>...</td>\n",
              "      <td>...</td>\n",
              "      <td>...</td>\n",
              "      <td>...</td>\n",
              "      <td>...</td>\n",
              "      <td>...</td>\n",
              "      <td>...</td>\n",
              "      <td>...</td>\n",
              "      <td>...</td>\n",
              "      <td>...</td>\n",
              "    </tr>\n",
              "    <tr>\n",
              "      <th>16710</th>\n",
              "      <td>Samurai Warriors: Sanada Maru</td>\n",
              "      <td>PS3</td>\n",
              "      <td>2016.0</td>\n",
              "      <td>Action</td>\n",
              "      <td>0.00</td>\n",
              "      <td>0.00</td>\n",
              "      <td>0.01</td>\n",
              "      <td>0.00</td>\n",
              "      <td>NaN</td>\n",
              "      <td>NaN</td>\n",
              "      <td>NaN</td>\n",
              "    </tr>\n",
              "    <tr>\n",
              "      <th>16711</th>\n",
              "      <td>LMA Manager 2007</td>\n",
              "      <td>X360</td>\n",
              "      <td>2006.0</td>\n",
              "      <td>Sports</td>\n",
              "      <td>0.00</td>\n",
              "      <td>0.01</td>\n",
              "      <td>0.00</td>\n",
              "      <td>0.00</td>\n",
              "      <td>NaN</td>\n",
              "      <td>NaN</td>\n",
              "      <td>NaN</td>\n",
              "    </tr>\n",
              "    <tr>\n",
              "      <th>16712</th>\n",
              "      <td>Haitaka no Psychedelica</td>\n",
              "      <td>PSV</td>\n",
              "      <td>2016.0</td>\n",
              "      <td>Adventure</td>\n",
              "      <td>0.00</td>\n",
              "      <td>0.00</td>\n",
              "      <td>0.01</td>\n",
              "      <td>0.00</td>\n",
              "      <td>NaN</td>\n",
              "      <td>NaN</td>\n",
              "      <td>NaN</td>\n",
              "    </tr>\n",
              "    <tr>\n",
              "      <th>16713</th>\n",
              "      <td>Spirits &amp; Spells</td>\n",
              "      <td>GBA</td>\n",
              "      <td>2003.0</td>\n",
              "      <td>Platform</td>\n",
              "      <td>0.01</td>\n",
              "      <td>0.00</td>\n",
              "      <td>0.00</td>\n",
              "      <td>0.00</td>\n",
              "      <td>NaN</td>\n",
              "      <td>NaN</td>\n",
              "      <td>NaN</td>\n",
              "    </tr>\n",
              "    <tr>\n",
              "      <th>16714</th>\n",
              "      <td>Winning Post 8 2016</td>\n",
              "      <td>PSV</td>\n",
              "      <td>2016.0</td>\n",
              "      <td>Simulation</td>\n",
              "      <td>0.00</td>\n",
              "      <td>0.00</td>\n",
              "      <td>0.01</td>\n",
              "      <td>0.00</td>\n",
              "      <td>NaN</td>\n",
              "      <td>NaN</td>\n",
              "      <td>NaN</td>\n",
              "    </tr>\n",
              "  </tbody>\n",
              "</table>\n",
              "<p>16715 rows × 11 columns</p>\n",
              "</div>"
            ],
            "text/plain": [
              "                                Name Platform  Year_of_Release         Genre  \\\n",
              "0                         Wii Sports      Wii           2006.0        Sports   \n",
              "1                  Super Mario Bros.      NES           1985.0      Platform   \n",
              "2                     Mario Kart Wii      Wii           2008.0        Racing   \n",
              "3                  Wii Sports Resort      Wii           2009.0        Sports   \n",
              "4           Pokemon Red/Pokemon Blue       GB           1996.0  Role-Playing   \n",
              "...                              ...      ...              ...           ...   \n",
              "16710  Samurai Warriors: Sanada Maru      PS3           2016.0        Action   \n",
              "16711               LMA Manager 2007     X360           2006.0        Sports   \n",
              "16712        Haitaka no Psychedelica      PSV           2016.0     Adventure   \n",
              "16713               Spirits & Spells      GBA           2003.0      Platform   \n",
              "16714            Winning Post 8 2016      PSV           2016.0    Simulation   \n",
              "\n",
              "       NA_sales  EU_sales  JP_sales  Other_sales  Critic_Score User_Score  \\\n",
              "0         41.36     28.96      3.77         8.45          76.0          8   \n",
              "1         29.08      3.58      6.81         0.77           NaN        NaN   \n",
              "2         15.68     12.76      3.79         3.29          82.0        8.3   \n",
              "3         15.61     10.93      3.28         2.95          80.0          8   \n",
              "4         11.27      8.89     10.22         1.00           NaN        NaN   \n",
              "...         ...       ...       ...          ...           ...        ...   \n",
              "16710      0.00      0.00      0.01         0.00           NaN        NaN   \n",
              "16711      0.00      0.01      0.00         0.00           NaN        NaN   \n",
              "16712      0.00      0.00      0.01         0.00           NaN        NaN   \n",
              "16713      0.01      0.00      0.00         0.00           NaN        NaN   \n",
              "16714      0.00      0.00      0.01         0.00           NaN        NaN   \n",
              "\n",
              "      Rating  \n",
              "0          E  \n",
              "1        NaN  \n",
              "2          E  \n",
              "3          E  \n",
              "4        NaN  \n",
              "...      ...  \n",
              "16710    NaN  \n",
              "16711    NaN  \n",
              "16712    NaN  \n",
              "16713    NaN  \n",
              "16714    NaN  \n",
              "\n",
              "[16715 rows x 11 columns]"
            ]
          },
          "execution_count": 18,
          "metadata": {},
          "output_type": "execute_result"
        }
      ],
      "source": [
        "data"
      ]
    },
    {
      "cell_type": "code",
      "execution_count": null,
      "metadata": {
        "id": "t3jaiZXlElwx",
        "outputId": "f70e0529-7894-4c34-d330-2b02194037ae"
      },
      "outputs": [
        {
          "name": "stdout",
          "output_type": "stream",
          "text": [
            "<class 'pandas.core.frame.DataFrame'>\n",
            "RangeIndex: 16715 entries, 0 to 16714\n",
            "Data columns (total 11 columns):\n",
            " #   Column           Non-Null Count  Dtype  \n",
            "---  ------           --------------  -----  \n",
            " 0   Name             16713 non-null  object \n",
            " 1   Platform         16715 non-null  object \n",
            " 2   Year_of_Release  16446 non-null  float64\n",
            " 3   Genre            16713 non-null  object \n",
            " 4   NA_sales         16715 non-null  float64\n",
            " 5   EU_sales         16715 non-null  float64\n",
            " 6   JP_sales         16715 non-null  float64\n",
            " 7   Other_sales      16715 non-null  float64\n",
            " 8   Critic_Score     8137 non-null   float64\n",
            " 9   User_Score       10014 non-null  object \n",
            " 10  Rating           9949 non-null   object \n",
            "dtypes: float64(6), object(5)\n",
            "memory usage: 1.4+ MB\n"
          ]
        }
      ],
      "source": [
        "data.info()"
      ]
    },
    {
      "cell_type": "markdown",
      "metadata": {
        "id": "1FOSw09rElwy"
      },
      "source": [
        "При предварительном просмотре данных были обнаружены разные регистры в названиях колонок, которые нужно привести к общему виду. Также имеются некорректные типы данных. В столбцах rating, user_score, critic_score есть пропущенные значения."
      ]
    },
    {
      "cell_type": "markdown",
      "metadata": {
        "id": "jxwSvwysElw1"
      },
      "source": [
        "# Предобработка данных"
      ]
    },
    {
      "cell_type": "code",
      "execution_count": null,
      "metadata": {
        "id": "kNlVVIVHElw2"
      },
      "outputs": [],
      "source": [
        "data.columns = data.columns.str.lower() # приводим названия столбцов к нижнему регистру"
      ]
    },
    {
      "cell_type": "code",
      "execution_count": null,
      "metadata": {
        "id": "yhbnzBQEElw2"
      },
      "outputs": [],
      "source": [
        "data.dropna(subset=['name','genre'], inplace=True) #уберем строки с отсутствием имени и жанра"
      ]
    },
    {
      "cell_type": "code",
      "execution_count": null,
      "metadata": {
        "id": "xKDlTBbzElw3"
      },
      "outputs": [],
      "source": [
        "data['year_of_release'] = data['year_of_release'].astype('Int64')\n",
        "data['critic_score'] = data['critic_score'].astype('Int64')\n",
        "data['rating'] = data['rating'].fillna('unknown')"
      ]
    },
    {
      "cell_type": "markdown",
      "metadata": {
        "id": "0WtDgN_lElw3"
      },
      "source": [
        "Аббривиатура tbd означает to be determined, то есть значение еще не опеределено. Такие игры сложно анализировать, так как слишком большой части нет, поэтому заменим эти значения на NaN."
      ]
    },
    {
      "cell_type": "code",
      "execution_count": null,
      "metadata": {
        "id": "n-VldV1mElw3"
      },
      "outputs": [],
      "source": [
        "tbd = data['user_score'] != 'tbd'\n",
        "data['user_score'].where(tbd, np.nan, inplace=True)\n",
        "data['user_score'] = data['user_score'].astype('float64')"
      ]
    },
    {
      "cell_type": "markdown",
      "metadata": {
        "id": "UlnkQZ1rElw4"
      },
      "source": [
        "В данном случае изменим тип данных с столбце года релиза на целочисленный, так как год не может быть дробным значением. Пропуски в этом столбце заменим нулями."
      ]
    },
    {
      "cell_type": "code",
      "execution_count": null,
      "metadata": {
        "id": "W0jvyOISElw4",
        "outputId": "ca0c8763-27f4-4770-c504-1fc7e647d27d"
      },
      "outputs": [
        {
          "data": {
            "text/plain": [
              "name                  0\n",
              "platform              0\n",
              "year_of_release     269\n",
              "genre                 0\n",
              "na_sales              0\n",
              "eu_sales              0\n",
              "jp_sales              0\n",
              "other_sales           0\n",
              "critic_score       8576\n",
              "user_score         9123\n",
              "rating                0\n",
              "dtype: int64"
            ]
          },
          "execution_count": 24,
          "metadata": {},
          "output_type": "execute_result"
        }
      ],
      "source": [
        "data.isna().sum()"
      ]
    },
    {
      "cell_type": "code",
      "execution_count": null,
      "metadata": {
        "id": "ymu_woKlElw5"
      },
      "outputs": [],
      "source": [
        "data['total_sales'] = data['na_sales'] + data['eu_sales'] + data['jp_sales'] + data['other_sales'] "
      ]
    },
    {
      "cell_type": "code",
      "execution_count": null,
      "metadata": {
        "id": "1jzT7-18Elw5",
        "outputId": "00ebe336-f98b-4f4f-c312-64038c5fa7bb"
      },
      "outputs": [
        {
          "data": {
            "text/html": [
              "<div>\n",
              "<style scoped>\n",
              "    .dataframe tbody tr th:only-of-type {\n",
              "        vertical-align: middle;\n",
              "    }\n",
              "\n",
              "    .dataframe tbody tr th {\n",
              "        vertical-align: top;\n",
              "    }\n",
              "\n",
              "    .dataframe thead th {\n",
              "        text-align: right;\n",
              "    }\n",
              "</style>\n",
              "<table border=\"1\" class=\"dataframe\">\n",
              "  <thead>\n",
              "    <tr style=\"text-align: right;\">\n",
              "      <th></th>\n",
              "      <th>name</th>\n",
              "      <th>platform</th>\n",
              "      <th>year_of_release</th>\n",
              "      <th>genre</th>\n",
              "      <th>na_sales</th>\n",
              "      <th>eu_sales</th>\n",
              "      <th>jp_sales</th>\n",
              "      <th>other_sales</th>\n",
              "      <th>critic_score</th>\n",
              "      <th>user_score</th>\n",
              "      <th>rating</th>\n",
              "      <th>total_sales</th>\n",
              "    </tr>\n",
              "  </thead>\n",
              "  <tbody>\n",
              "    <tr>\n",
              "      <th>0</th>\n",
              "      <td>Wii Sports</td>\n",
              "      <td>Wii</td>\n",
              "      <td>2006</td>\n",
              "      <td>Sports</td>\n",
              "      <td>41.36</td>\n",
              "      <td>28.96</td>\n",
              "      <td>3.77</td>\n",
              "      <td>8.45</td>\n",
              "      <td>76</td>\n",
              "      <td>8.0</td>\n",
              "      <td>E</td>\n",
              "      <td>82.54</td>\n",
              "    </tr>\n",
              "    <tr>\n",
              "      <th>1</th>\n",
              "      <td>Super Mario Bros.</td>\n",
              "      <td>NES</td>\n",
              "      <td>1985</td>\n",
              "      <td>Platform</td>\n",
              "      <td>29.08</td>\n",
              "      <td>3.58</td>\n",
              "      <td>6.81</td>\n",
              "      <td>0.77</td>\n",
              "      <td>&lt;NA&gt;</td>\n",
              "      <td>NaN</td>\n",
              "      <td>unknown</td>\n",
              "      <td>40.24</td>\n",
              "    </tr>\n",
              "    <tr>\n",
              "      <th>2</th>\n",
              "      <td>Mario Kart Wii</td>\n",
              "      <td>Wii</td>\n",
              "      <td>2008</td>\n",
              "      <td>Racing</td>\n",
              "      <td>15.68</td>\n",
              "      <td>12.76</td>\n",
              "      <td>3.79</td>\n",
              "      <td>3.29</td>\n",
              "      <td>82</td>\n",
              "      <td>8.3</td>\n",
              "      <td>E</td>\n",
              "      <td>35.52</td>\n",
              "    </tr>\n",
              "    <tr>\n",
              "      <th>3</th>\n",
              "      <td>Wii Sports Resort</td>\n",
              "      <td>Wii</td>\n",
              "      <td>2009</td>\n",
              "      <td>Sports</td>\n",
              "      <td>15.61</td>\n",
              "      <td>10.93</td>\n",
              "      <td>3.28</td>\n",
              "      <td>2.95</td>\n",
              "      <td>80</td>\n",
              "      <td>8.0</td>\n",
              "      <td>E</td>\n",
              "      <td>32.77</td>\n",
              "    </tr>\n",
              "    <tr>\n",
              "      <th>4</th>\n",
              "      <td>Pokemon Red/Pokemon Blue</td>\n",
              "      <td>GB</td>\n",
              "      <td>1996</td>\n",
              "      <td>Role-Playing</td>\n",
              "      <td>11.27</td>\n",
              "      <td>8.89</td>\n",
              "      <td>10.22</td>\n",
              "      <td>1.00</td>\n",
              "      <td>&lt;NA&gt;</td>\n",
              "      <td>NaN</td>\n",
              "      <td>unknown</td>\n",
              "      <td>31.38</td>\n",
              "    </tr>\n",
              "    <tr>\n",
              "      <th>...</th>\n",
              "      <td>...</td>\n",
              "      <td>...</td>\n",
              "      <td>...</td>\n",
              "      <td>...</td>\n",
              "      <td>...</td>\n",
              "      <td>...</td>\n",
              "      <td>...</td>\n",
              "      <td>...</td>\n",
              "      <td>...</td>\n",
              "      <td>...</td>\n",
              "      <td>...</td>\n",
              "      <td>...</td>\n",
              "    </tr>\n",
              "    <tr>\n",
              "      <th>16710</th>\n",
              "      <td>Samurai Warriors: Sanada Maru</td>\n",
              "      <td>PS3</td>\n",
              "      <td>2016</td>\n",
              "      <td>Action</td>\n",
              "      <td>0.00</td>\n",
              "      <td>0.00</td>\n",
              "      <td>0.01</td>\n",
              "      <td>0.00</td>\n",
              "      <td>&lt;NA&gt;</td>\n",
              "      <td>NaN</td>\n",
              "      <td>unknown</td>\n",
              "      <td>0.01</td>\n",
              "    </tr>\n",
              "    <tr>\n",
              "      <th>16711</th>\n",
              "      <td>LMA Manager 2007</td>\n",
              "      <td>X360</td>\n",
              "      <td>2006</td>\n",
              "      <td>Sports</td>\n",
              "      <td>0.00</td>\n",
              "      <td>0.01</td>\n",
              "      <td>0.00</td>\n",
              "      <td>0.00</td>\n",
              "      <td>&lt;NA&gt;</td>\n",
              "      <td>NaN</td>\n",
              "      <td>unknown</td>\n",
              "      <td>0.01</td>\n",
              "    </tr>\n",
              "    <tr>\n",
              "      <th>16712</th>\n",
              "      <td>Haitaka no Psychedelica</td>\n",
              "      <td>PSV</td>\n",
              "      <td>2016</td>\n",
              "      <td>Adventure</td>\n",
              "      <td>0.00</td>\n",
              "      <td>0.00</td>\n",
              "      <td>0.01</td>\n",
              "      <td>0.00</td>\n",
              "      <td>&lt;NA&gt;</td>\n",
              "      <td>NaN</td>\n",
              "      <td>unknown</td>\n",
              "      <td>0.01</td>\n",
              "    </tr>\n",
              "    <tr>\n",
              "      <th>16713</th>\n",
              "      <td>Spirits &amp; Spells</td>\n",
              "      <td>GBA</td>\n",
              "      <td>2003</td>\n",
              "      <td>Platform</td>\n",
              "      <td>0.01</td>\n",
              "      <td>0.00</td>\n",
              "      <td>0.00</td>\n",
              "      <td>0.00</td>\n",
              "      <td>&lt;NA&gt;</td>\n",
              "      <td>NaN</td>\n",
              "      <td>unknown</td>\n",
              "      <td>0.01</td>\n",
              "    </tr>\n",
              "    <tr>\n",
              "      <th>16714</th>\n",
              "      <td>Winning Post 8 2016</td>\n",
              "      <td>PSV</td>\n",
              "      <td>2016</td>\n",
              "      <td>Simulation</td>\n",
              "      <td>0.00</td>\n",
              "      <td>0.00</td>\n",
              "      <td>0.01</td>\n",
              "      <td>0.00</td>\n",
              "      <td>&lt;NA&gt;</td>\n",
              "      <td>NaN</td>\n",
              "      <td>unknown</td>\n",
              "      <td>0.01</td>\n",
              "    </tr>\n",
              "  </tbody>\n",
              "</table>\n",
              "<p>16713 rows × 12 columns</p>\n",
              "</div>"
            ],
            "text/plain": [
              "                                name platform  year_of_release         genre  \\\n",
              "0                         Wii Sports      Wii             2006        Sports   \n",
              "1                  Super Mario Bros.      NES             1985      Platform   \n",
              "2                     Mario Kart Wii      Wii             2008        Racing   \n",
              "3                  Wii Sports Resort      Wii             2009        Sports   \n",
              "4           Pokemon Red/Pokemon Blue       GB             1996  Role-Playing   \n",
              "...                              ...      ...              ...           ...   \n",
              "16710  Samurai Warriors: Sanada Maru      PS3             2016        Action   \n",
              "16711               LMA Manager 2007     X360             2006        Sports   \n",
              "16712        Haitaka no Psychedelica      PSV             2016     Adventure   \n",
              "16713               Spirits & Spells      GBA             2003      Platform   \n",
              "16714            Winning Post 8 2016      PSV             2016    Simulation   \n",
              "\n",
              "       na_sales  eu_sales  jp_sales  other_sales  critic_score  user_score  \\\n",
              "0         41.36     28.96      3.77         8.45            76         8.0   \n",
              "1         29.08      3.58      6.81         0.77          <NA>         NaN   \n",
              "2         15.68     12.76      3.79         3.29            82         8.3   \n",
              "3         15.61     10.93      3.28         2.95            80         8.0   \n",
              "4         11.27      8.89     10.22         1.00          <NA>         NaN   \n",
              "...         ...       ...       ...          ...           ...         ...   \n",
              "16710      0.00      0.00      0.01         0.00          <NA>         NaN   \n",
              "16711      0.00      0.01      0.00         0.00          <NA>         NaN   \n",
              "16712      0.00      0.00      0.01         0.00          <NA>         NaN   \n",
              "16713      0.01      0.00      0.00         0.00          <NA>         NaN   \n",
              "16714      0.00      0.00      0.01         0.00          <NA>         NaN   \n",
              "\n",
              "        rating  total_sales  \n",
              "0            E        82.54  \n",
              "1      unknown        40.24  \n",
              "2            E        35.52  \n",
              "3            E        32.77  \n",
              "4      unknown        31.38  \n",
              "...        ...          ...  \n",
              "16710  unknown         0.01  \n",
              "16711  unknown         0.01  \n",
              "16712  unknown         0.01  \n",
              "16713  unknown         0.01  \n",
              "16714  unknown         0.01  \n",
              "\n",
              "[16713 rows x 12 columns]"
            ]
          },
          "execution_count": 26,
          "metadata": {},
          "output_type": "execute_result"
        }
      ],
      "source": [
        "data"
      ]
    },
    {
      "cell_type": "markdown",
      "metadata": {
        "id": "JiahNqInElw6"
      },
      "source": [
        "В столбце total_sales теперь хранять общие суммы продаж всех регионов по каждой игре."
      ]
    },
    {
      "cell_type": "code",
      "execution_count": null,
      "metadata": {
        "id": "fRVtlwg6Elw6",
        "outputId": "3993919b-9b26-4f91-96db-8d1479cfacd5"
      },
      "outputs": [
        {
          "data": {
            "text/plain": [
              "0"
            ]
          },
          "execution_count": 27,
          "metadata": {},
          "output_type": "execute_result"
        }
      ],
      "source": [
        "data.duplicated().sum()"
      ]
    },
    {
      "cell_type": "markdown",
      "metadata": {
        "id": "jfpyyCZXElxA"
      },
      "source": [
        "После предобработки данных все пропуски, которые можно было заполнить - заполнены. Дубликаты в датафрейме отсутствуют. Названия столбцов приведены к нижнему регистру. Типы данных для дальнейших расчетов преобразованы."
      ]
    },
    {
      "cell_type": "markdown",
      "metadata": {
        "id": "QJarP11dElxB"
      },
      "source": [
        "# Исследовательский анализ данных"
      ]
    },
    {
      "cell_type": "markdown",
      "metadata": {
        "id": "_V6WziE2ElxB"
      },
      "source": [
        "**Посмотрим сколько игр выпускалось в разные годы**"
      ]
    },
    {
      "cell_type": "code",
      "execution_count": 1,
      "metadata": {
        "colab": {
          "base_uri": "https://localhost:8080/",
          "height": 183
        },
        "id": "JZwVtiosElxB",
        "outputId": "8754327b-453d-465d-cb37-ace367f54b43"
      },
      "outputs": [
        {
          "output_type": "error",
          "ename": "NameError",
          "evalue": "ignored",
          "traceback": [
            "\u001b[0;31m---------------------------------------------------------------------------\u001b[0m",
            "\u001b[0;31mNameError\u001b[0m                                 Traceback (most recent call last)",
            "\u001b[0;32m<ipython-input-1-887ef23f5749>\u001b[0m in \u001b[0;36m<module>\u001b[0;34m\u001b[0m\n\u001b[0;32m----> 1\u001b[0;31m \u001b[0mdata\u001b[0m\u001b[0;34m[\u001b[0m\u001b[0;34m'year_of_release'\u001b[0m\u001b[0;34m]\u001b[0m\u001b[0;34m.\u001b[0m\u001b[0mvalue_counts\u001b[0m\u001b[0;34m(\u001b[0m\u001b[0;34m)\u001b[0m\u001b[0;34m\u001b[0m\u001b[0;34m\u001b[0m\u001b[0m\n\u001b[0m\u001b[1;32m      2\u001b[0m \u001b[0mdata\u001b[0m\u001b[0;34m.\u001b[0m\u001b[0mhist\u001b[0m\u001b[0;34m(\u001b[0m\u001b[0;34m'year_of_release'\u001b[0m\u001b[0;34m,\u001b[0m \u001b[0mrange\u001b[0m\u001b[0;34m=\u001b[0m\u001b[0;34m(\u001b[0m\u001b[0;36m1980\u001b[0m\u001b[0;34m,\u001b[0m\u001b[0;36m2008\u001b[0m\u001b[0;34m)\u001b[0m\u001b[0;34m)\u001b[0m\u001b[0;34m\u001b[0m\u001b[0;34m\u001b[0m\u001b[0m\n",
            "\u001b[0;31mNameError\u001b[0m: name 'data' is not defined"
          ]
        }
      ],
      "source": [
        "data['year_of_release'].value_counts()\n",
        "data.hist('year_of_release', range=(1980,2008))"
      ]
    },
    {
      "cell_type": "markdown",
      "metadata": {
        "id": "FRkJGU4zElxC"
      },
      "source": [
        "По графику видно, что с каждым годом выпускалось все больше игр и в 2008 году количество релизов максимальное. Данные за все переоды не так важны, так как главные показатели интереснее изучать с 1995 года и новее."
      ]
    },
    {
      "cell_type": "markdown",
      "metadata": {
        "id": "uBl1WzTqElxC"
      },
      "source": [
        "**Посмотрим продажи по платформам**"
      ]
    },
    {
      "cell_type": "code",
      "execution_count": null,
      "metadata": {
        "id": "t0ixrgupElxD"
      },
      "outputs": [],
      "source": [
        "data['platform'].value_counts()"
      ]
    },
    {
      "cell_type": "code",
      "execution_count": null,
      "metadata": {
        "id": "FTHPAZOCElxD"
      },
      "outputs": [],
      "source": [
        "data['platform'].value_counts()\n",
        "#sns.barplot(x='platform', y='total_sales', data=data)\n",
        "\n",
        "sales_plot = data.pivot_table(index='platform', values='total_sales', aggfunc='sum').sort_values('total_sales', ascending=False)\n",
        "sales_plot.plot(kind='bar',figsize=(10,10))\n",
        "\n",
        "#for platform, group_data in data.groupby('platform'):\n",
        "    #group_data.plot(x='year_of_release',y='total_sales', title=platform, kind='hist',bins=30)"
      ]
    },
    {
      "cell_type": "markdown",
      "metadata": {
        "id": "NrFWLE92ElxE"
      },
      "source": [
        "**Построим отдельные графики для наиболее распространенных платформ**"
      ]
    },
    {
      "cell_type": "code",
      "execution_count": null,
      "metadata": {
        "id": "ai7qADmUElxF"
      },
      "outputs": [],
      "source": [
        "data_pivot = data.query('platform == \"PS2\" and year_of_release >= 1995').pivot_table(index = 'year_of_release', \n",
        "                                                            values = 'total_sales') \n",
        "plt.rcParams['figure.figsize'] = [10, 5]\n",
        "plt.plot(data_pivot)\n",
        "plt.xlabel(\"year_of_release\")\n",
        "plt.ylabel(\"total_sales\")\n",
        "plt.title(\"PS2\")"
      ]
    },
    {
      "cell_type": "code",
      "execution_count": null,
      "metadata": {
        "id": "HtBYjZwWElxF"
      },
      "outputs": [],
      "source": [
        "data_pivot = data.query('platform == \"DS\" and year_of_release >= 1995').pivot_table(index = 'year_of_release', \n",
        "                                                            values = 'total_sales') \n",
        "plt.rcParams['figure.figsize'] = [10, 5]\n",
        "plt.plot(data_pivot)\n",
        "plt.xlabel(\"year_of_release\")\n",
        "plt.ylabel(\"total_sales\")\n",
        "plt.title(\"DS\")"
      ]
    },
    {
      "cell_type": "code",
      "execution_count": null,
      "metadata": {
        "id": "w-nILYFKElxF"
      },
      "outputs": [],
      "source": [
        "data_pivot = data.query('platform == \"PS3\" and year_of_release >= 1995').pivot_table(index = 'year_of_release', \n",
        "                                                            values = 'total_sales') \n",
        "plt.rcParams['figure.figsize'] = [10, 5]\n",
        "plt.plot(data_pivot)\n",
        "plt.xlabel(\"year_of_release\")\n",
        "plt.ylabel(\"total_sales\")\n",
        "plt.title(\"PS3\")"
      ]
    },
    {
      "cell_type": "code",
      "execution_count": null,
      "metadata": {
        "id": "xiVFAQi3ElxG"
      },
      "outputs": [],
      "source": [
        "data_pivot = data.query('platform == \"Wii\" and year_of_release >= 1995').pivot_table(index = 'year_of_release', \n",
        "                                                            values = 'total_sales') \n",
        "plt.rcParams['figure.figsize'] = [15, 5]\n",
        "plt.plot(data_pivot)\n",
        "plt.xlabel(\"year_of_release\")\n",
        "plt.ylabel(\"total_sales\")\n",
        "plt.title(\"Wii\")"
      ]
    },
    {
      "cell_type": "code",
      "execution_count": null,
      "metadata": {
        "id": "PwlbjmwUElxG"
      },
      "outputs": [],
      "source": [
        "data_pivot = data.query('platform == \"X360\" and year_of_release >= 1995').pivot_table(index = 'year_of_release', \n",
        "                                                            values = 'total_sales') \n",
        "plt.rcParams['figure.figsize'] = [10, 5]\n",
        "plt.plot(data_pivot)\n",
        "plt.xlabel(\"year_of_release\")\n",
        "plt.ylabel(\"total_sales\")\n",
        "plt.title(\"X360\")"
      ]
    },
    {
      "cell_type": "code",
      "execution_count": null,
      "metadata": {
        "id": "iU6Yy1-LElxH"
      },
      "outputs": [],
      "source": [
        "data_pivot = data.query('platform == \"PSP\" and year_of_release >= 1995').pivot_table(index = 'year_of_release', \n",
        "                                                            values = 'total_sales') \n",
        "plt.rcParams['figure.figsize'] = [20, 5]\n",
        "plt.plot(data_pivot)\n",
        "plt.xlabel(\"year_of_release\")\n",
        "plt.ylabel(\"total_sales\")\n",
        "plt.title(\"PSP\")"
      ]
    },
    {
      "cell_type": "code",
      "execution_count": null,
      "metadata": {
        "id": "8PQR1yUqElxH"
      },
      "outputs": [],
      "source": [
        "data_pivot = data.query('platform == \"PS\" and year_of_release >= 1995').pivot_table(index = 'year_of_release', \n",
        "                                                            values = 'total_sales') \n",
        "plt.rcParams['figure.figsize'] = [20, 5]\n",
        "plt.plot(data_pivot)\n",
        "plt.xlabel(\"year_of_release\")\n",
        "plt.ylabel(\"total_sales\")\n",
        "plt.title(\"PS\")"
      ]
    },
    {
      "cell_type": "code",
      "execution_count": null,
      "metadata": {
        "id": "JrpUmLLLElxH"
      },
      "outputs": [],
      "source": [
        "data_pivot = data.query('platform == \"XB\" and year_of_release >= 1995').pivot_table(index = 'year_of_release', \n",
        "                                                            values = 'total_sales') \n",
        "plt.rcParams['figure.figsize'] = [10, 5]\n",
        "plt.plot(data_pivot)\n",
        "plt.xlabel(\"year_of_release\")\n",
        "plt.ylabel(\"total_sales\")\n",
        "plt.title(\"XB\")"
      ]
    },
    {
      "cell_type": "markdown",
      "metadata": {
        "id": "nV0U8EUBElxH"
      },
      "source": [
        "Можно отметить, что каждая платформа появляется и исчезает за срок равный примерно 6 лет. Но время актуальности у разных платформ сильно отличается. Например, PS2 была актуальна с 2001 по 2006, но в связи с выходом PS3 стала утрачивать свою актуальность. PS3 оставалась актуально в течение почти 10 лет, но после 2014 года достаточно резко стала терять позиции, вероятно, в связи с выходом следующей версии. Пик актуальности DS был в 2005 году, после этого платформой стали пользоваться все реже и реже, хотя в 2012 произошел небольшой всплеск активности. Пик актуальности Wii тоже остался в 2005 году. Точно такая же ситуация с PSP. \n",
        "На основании этих графиков актуальный период для прогноза 2017 год можно выделить годы с 2005 по 2016."
      ]
    },
    {
      "cell_type": "markdown",
      "metadata": {
        "id": "UtMMY_R-ElxI"
      },
      "source": [
        "**Уберем из исследования неактуальную информацию и будем далее работать с данными после 2013 года**"
      ]
    },
    {
      "cell_type": "code",
      "execution_count": null,
      "metadata": {
        "id": "rvaDpdfFElxI"
      },
      "outputs": [],
      "source": [
        "actual_data = data.query('year_of_release >= 2013')\n",
        "actual_data"
      ]
    },
    {
      "cell_type": "markdown",
      "metadata": {
        "id": "vgacJMu-ElxJ"
      },
      "source": [
        "# Определим тенденции продаж лидирующих платформ"
      ]
    },
    {
      "cell_type": "code",
      "execution_count": null,
      "metadata": {
        "id": "v1DvxyhSElxJ",
        "outputId": "43bcc5d0-6f7f-4358-e77d-9e306db9669d"
      },
      "outputs": [
        {
          "data": {
            "text/plain": [
              "[Text(0.5, 0, 'Год'),\n",
              " Text(0, 0.5, 'Продажи, $ млн.'),\n",
              " Text(0.5, 1.0, 'Продажи каждой платформы по годам')]"
            ]
          },
          "execution_count": 40,
          "metadata": {},
          "output_type": "execute_result"
        },
        {
          "data": {
            "image/png": "[encoded data removed]",
            "text/plain": [
              "<Figure size 1080x720 with 1 Axes>"
            ]
          },
          "metadata": {
            "needs_background": "light"
          },
          "output_type": "display_data"
        }
      ],
      "source": [
        "actual_data.pivot_table(index='year_of_release', \n",
        "                        columns='platform', \n",
        "                        values='total_sales', \n",
        "                        aggfunc='sum').plot(style='o-', \n",
        "                                            grid= True, \n",
        "                                            legend=True, \n",
        "                                            figsize=(15,10)).set(xlabel='Год', \n",
        "                                                                 ylabel='Продажи, $ млн.', \n",
        "                                                                 title='Продажи каждой платформы по годам')"
      ]
    },
    {
      "cell_type": "markdown",
      "metadata": {
        "id": "f7Xj_gr5ElxJ"
      },
      "source": [
        "Теперь здесь отображены продажи по каждой платформе за последние 3 года. На графике хорошо видно все тенденции. В восходящем тренде находятся только платформы PS4, XOne."
      ]
    },
    {
      "cell_type": "code",
      "execution_count": null,
      "metadata": {
        "id": "Zs_ccyjWElxK",
        "outputId": "df22dd0a-1169-42a3-d697-1b275ab6c89c"
      },
      "outputs": [
        {
          "data": {
            "image/png": "[encoded data removed]",
            "text/plain": [
              "<Figure size 1080x360 with 1 Axes>"
            ]
          },
          "metadata": {
            "needs_background": "light"
          },
          "output_type": "display_data"
        }
      ],
      "source": [
        "actual_data.groupby('platform')['total_sales'].sum()\\\n",
        "    .sort_values(ascending = False)\\\n",
        "    .plot(kind = 'bar', figsize = (15,5),\n",
        "         xlabel = \"Платформа\",\n",
        "         ylabel = \"Суммарные продажи\",\n",
        "         title = \"Суммарные продажи по платформам\")\n",
        "plt.xticks(rotation = 0)\n",
        "plt.show()"
      ]
    },
    {
      "cell_type": "markdown",
      "metadata": {
        "id": "B1y1dvLcElxK"
      },
      "source": [
        "На основании анализа построенных графиков и полученных данных ТОП-5 потенциально прибыльных платформ: 3DS, X360, PS4, PS3, XOne. \n",
        "Построим отдельную сводную таблицу с данными по ним:"
      ]
    },
    {
      "cell_type": "markdown",
      "metadata": {
        "id": "_WD-NnoVElxL"
      },
      "source": [
        "# Сформируем отдельную таблицу для ТОП-5 платформ"
      ]
    },
    {
      "cell_type": "code",
      "execution_count": null,
      "metadata": {
        "id": "Hu7LK5Y-ElxM"
      },
      "outputs": [],
      "source": [
        "top5 = actual_data.query('platform in [\"XOne\",\"X360\",\"PS4\",\"PS3\",\"3DS\"]')"
      ]
    },
    {
      "cell_type": "code",
      "execution_count": null,
      "metadata": {
        "id": "1oY3e3QfElxM",
        "outputId": "da65c0ea-e218-40f8-d227-71add6f931fc"
      },
      "outputs": [
        {
          "data": {
            "text/plain": [
              "<AxesSubplot:xlabel='platform', ylabel='total_sales'>"
            ]
          },
          "execution_count": 46,
          "metadata": {},
          "output_type": "execute_result"
        },
        {
          "data": {
            "image/png": "[encoded data removed]",
            "text/plain": [
              "<Figure size 1000x1000 with 1 Axes>"
            ]
          },
          "metadata": {
            "needs_background": "light"
          },
          "output_type": "display_data"
        }
      ],
      "source": [
        "top5_plot = top5.query('total_sales < 5')\n",
        "fig,ax = plt.subplots(figsize=(10,10), dpi=100)\n",
        "\n",
        "sns.boxplot(data=top5_plot, x=\"platform\", y=\"total_sales\", ax=ax)\n",
        "\n"
      ]
    },
    {
      "cell_type": "code",
      "execution_count": null,
      "metadata": {
        "id": "EYxc2IyrElxO",
        "outputId": "a9cfb029-ee96-4523-9a6b-f09b4aacc9b2"
      },
      "outputs": [
        {
          "name": "stdout",
          "output_type": "stream",
          "text": [
            "                mean       count\n",
            "         total_sales total_sales\n",
            "platform                        \n",
            "PS4         0.801378         392\n",
            "PS3         0.525884         345\n",
            "3DS         0.472772         303\n",
            "XOne        0.645020         247\n",
            "X360        0.735484         186\n"
          ]
        }
      ],
      "source": [
        "print(\n",
        "    top5.pivot_table(index='platform',\n",
        "    values='total_sales', \n",
        "    aggfunc=['mean','count'])\\\n",
        "        .sort_values(by=\n",
        "    [('count','total_sales')], \n",
        "    ascending=False)\n",
        ")"
      ]
    },
    {
      "cell_type": "markdown",
      "metadata": {
        "id": "6CdDYiQ9ElxP"
      },
      "source": [
        "По проведенным расчетам и построенным графикам можно сделать выводы, что наиболее прибыльной из всех является платформа PS3, наибольший разброс значений у платформы Wii, по количеству продаж она занимает второе место. Тройку самых прибыльных платформ замыкает X360. Посмотрим как вляют отзывы пользователей и критиков на продажи.   "
      ]
    },
    {
      "cell_type": "code",
      "execution_count": null,
      "metadata": {
        "id": "8E8RoT6bElxP",
        "outputId": "d3bdc87d-00aa-4996-b337-f6375b367c1d"
      },
      "outputs": [
        {
          "data": {
            "text/plain": [
              "<AxesSubplot:xlabel='critic_score', ylabel='user_score'>"
            ]
          },
          "execution_count": 48,
          "metadata": {},
          "output_type": "execute_result"
        },
        {
          "data": {
            "image/png": "[encoded data removed]",
            "text/plain": [
              "<Figure size 1000x1000 with 1 Axes>"
            ]
          },
          "metadata": {
            "needs_background": "light"
          },
          "output_type": "display_data"
        }
      ],
      "source": [
        "PS3 = data.query('platform == \"PS3\"')\n",
        "fig,ax = plt.subplots(figsize=(10,10),dpi=100) \n",
        "sns.scatterplot(\n",
        "    x='critic_score', \n",
        "    y='user_score',\n",
        "    data=PS3)"
      ]
    },
    {
      "cell_type": "markdown",
      "metadata": {
        "id": "Gpb5R8Z4ElxQ"
      },
      "source": [
        "В целом мнение критиков и пользователей чаще совпадает, дальше лучше рассмотривать только мнение критиков, так как в данных разница минимальна, а значения более удобны. Посмотрим корреляцию между отзывами и продажами."
      ]
    },
    {
      "cell_type": "code",
      "execution_count": null,
      "metadata": {
        "id": "1A42J5zjElxQ",
        "outputId": "14ac5ed5-8d40-4972-caa9-cc320809c615"
      },
      "outputs": [
        {
          "name": "stdout",
          "output_type": "stream",
          "text": [
            "top 5               user_score  critic_score  total_sales\n",
            "user_score      1.000000      0.545927    -0.013332\n",
            "critic_score    0.545927      1.000000     0.360374\n",
            "total_sales    -0.013332      0.360374     1.000000\n"
          ]
        },
        {
          "name": "stderr",
          "output_type": "stream",
          "text": [
            "/tmp/ipykernel_99/391899274.py:1: SettingWithCopyWarning: \n",
            "A value is trying to be set on a copy of a slice from a DataFrame.\n",
            "Try using .loc[row_indexer,col_indexer] = value instead\n",
            "\n",
            "See the caveats in the documentation: https://pandas.pydata.org/pandas-docs/stable/user_guide/indexing.html#returning-a-view-versus-a-copy\n",
            "  top5['critic_score'] = top5['critic_score'].fillna(-1)\n"
          ]
        }
      ],
      "source": [
        "top5['critic_score'] = top5['critic_score'].fillna(-1)\n",
        "top5 = top5.query('critic_score > -1')\n",
        "corr_list = ['user_score', 'critic_score', 'total_sales']\n",
        "print('top 5', top5[corr_list].corr())\n"
      ]
    },
    {
      "cell_type": "markdown",
      "metadata": {
        "id": "-sni8NgYElxR"
      },
      "source": [
        "Как и ожидалось, при увеличении рейтинга продажы также растут."
      ]
    },
    {
      "cell_type": "markdown",
      "metadata": {
        "id": "lcQAFIkWElxR"
      },
      "source": [
        "# Проверим как влияют оценки на продажи в рамках двух самых популярных платформ"
      ]
    },
    {
      "cell_type": "code",
      "execution_count": null,
      "metadata": {
        "id": "jnvNLHcgElxS"
      },
      "outputs": [],
      "source": [
        "ps4 = actual_data.query(\"platform == 'PS4'\")\n",
        "xone = actual_data.query(\"platform == 'XOne'\")"
      ]
    },
    {
      "cell_type": "code",
      "execution_count": null,
      "metadata": {
        "id": "rZM3_28uElxS",
        "outputId": "15e6bbe3-4909-499e-f6d8-543bd39ec167"
      },
      "outputs": [
        {
          "data": {
            "image/png": "[encoded data removed]",
            "text/plain": [
              "<Figure size 720x360 with 1 Axes>"
            ]
          },
          "metadata": {
            "needs_background": "light"
          },
          "output_type": "display_data"
        },
        {
          "data": {
            "image/png": "[encoded data removed]",
            "text/plain": [
              "<Figure size 720x360 with 1 Axes>"
            ]
          },
          "metadata": {
            "needs_background": "light"
          },
          "output_type": "display_data"
        }
      ],
      "source": [
        "ps4.plot(x='user_score', y='total_sales', kind='scatter', title='PS4')\n",
        "xone.plot(x='user_score', y='total_sales', kind='scatter', title='Xbox One', color='orange')\n",
        "plt.show()"
      ]
    },
    {
      "cell_type": "code",
      "execution_count": null,
      "metadata": {
        "id": "y5NwyIETElxT",
        "outputId": "45c1909b-6a70-4052-955f-b8d20e5f66b9"
      },
      "outputs": [
        {
          "data": {
            "image/png": "[encoded data removed]",
            "text/plain": [
              "<Figure size 720x360 with 1 Axes>"
            ]
          },
          "metadata": {
            "needs_background": "light"
          },
          "output_type": "display_data"
        },
        {
          "data": {
            "image/png": "[encoded data removed]",
            "text/plain": [
              "<Figure size 720x360 with 1 Axes>"
            ]
          },
          "metadata": {
            "needs_background": "light"
          },
          "output_type": "display_data"
        }
      ],
      "source": [
        "ps4.plot(x='critic_score', y='total_sales', kind='scatter', title='PS4')\n",
        "xone.plot(x='critic_score', y='total_sales', kind='scatter', title='Xbox One', color='orange')\n",
        "plt.show()"
      ]
    },
    {
      "cell_type": "markdown",
      "metadata": {
        "id": "ROv5iTMtElxT"
      },
      "source": [
        "На основе полученных данных видно, что есть корреляция между отзывами критиков и продажами, связи между отзывами пользователей и продажами нет.\n",
        "Чем выше оценка критиков, тем выше продажи, однако нельзя точно утверждать, что такая взаимосвязь будет стабильна, так как обнаруженная корреляция небольшая."
      ]
    },
    {
      "cell_type": "code",
      "execution_count": null,
      "metadata": {
        "id": "OACAZ7bgElxU",
        "outputId": "6fd5950e-a42c-4502-ad92-9ed15abac35c"
      },
      "outputs": [
        {
          "data": {
            "text/plain": [
              "Action          224\n",
              "Shooter         100\n",
              "Sports           96\n",
              "Role-Playing     78\n",
              "Racing           48\n",
              "Fighting         33\n",
              "Platform         31\n",
              "Misc             30\n",
              "Adventure        29\n",
              "Simulation       12\n",
              "Strategy          9\n",
              "Puzzle            4\n",
              "Name: genre, dtype: int64"
            ]
          },
          "execution_count": 53,
          "metadata": {},
          "output_type": "execute_result"
        }
      ],
      "source": [
        "top5['genre'].value_counts()"
      ]
    },
    {
      "cell_type": "markdown",
      "metadata": {
        "id": "Ug5a4NlMElxU"
      },
      "source": [
        "По жанрам игры распределены следующим образом: самым популярным жанром является Action, за ним Sports, Shooter, Misc, Role-playing. Самый редко встречающийся жанр - Puzzle."
      ]
    },
    {
      "cell_type": "code",
      "execution_count": null,
      "metadata": {
        "id": "xfmPRMIlElxU",
        "outputId": "c19def19-ba2d-41a8-aa15-5a6b11a36ce0"
      },
      "outputs": [
        {
          "data": {
            "text/plain": [
              "<AxesSubplot:xlabel='total_sales', ylabel='genre'>"
            ]
          },
          "execution_count": 54,
          "metadata": {},
          "output_type": "execute_result"
        },
        {
          "data": {
            "image/png": "[encoded data removed]",
            "text/plain": [
              "<Figure size 720x360 with 1 Axes>"
            ]
          },
          "metadata": {
            "needs_background": "light"
          },
          "output_type": "display_data"
        }
      ],
      "source": [
        "sns.barplot(x = 'total_sales', y = 'genre', data = top5)"
      ]
    },
    {
      "cell_type": "markdown",
      "metadata": {
        "id": "dAgzKP7lElxV"
      },
      "source": [
        "По данным продаж лидирует жанр Shooter, PLatform и Sports. В конце списка Stretegy и Adventure. Самый прибыльный жанр Shooter и Platform, они явно выделяются на фоне остальных. Видимо отстающего жанра нет."
      ]
    },
    {
      "cell_type": "markdown",
      "metadata": {
        "id": "HYA-dP-AElxV"
      },
      "source": [
        "# Портрет пользователя каждого региона"
      ]
    },
    {
      "cell_type": "markdown",
      "metadata": {
        "id": "Vr5sFbPFElxV"
      },
      "source": [
        "Проанализируем суммы продаж по регионам"
      ]
    },
    {
      "cell_type": "code",
      "execution_count": null,
      "metadata": {
        "id": "FH91m1hKElxV",
        "outputId": "1de20bd1-a2a4-4139-921f-ed1dd3ee2867"
      },
      "outputs": [
        {
          "data": {
            "image/png": "[encoded data removed]",
            "text/plain": [
              "<Figure size 1152x432 with 1 Axes>"
            ]
          },
          "metadata": {
            "needs_background": "light"
          },
          "output_type": "display_data"
        },
        {
          "data": {
            "image/png": "[encoded data removed]",
            "text/plain": [
              "<Figure size 864x864 with 1 Axes>"
            ]
          },
          "metadata": {},
          "output_type": "display_data"
        },
        {
          "data": {
            "image/png": "[encoded data removed]",
            "text/plain": [
              "<Figure size 1152x432 with 1 Axes>"
            ]
          },
          "metadata": {
            "needs_background": "light"
          },
          "output_type": "display_data"
        },
        {
          "data": {
            "image/png": "[encoded data removed]",
            "text/plain": [
              "<Figure size 864x864 with 1 Axes>"
            ]
          },
          "metadata": {},
          "output_type": "display_data"
        },
        {
          "data": {
            "image/png": "[encoded data removed]",
            "text/plain": [
              "<Figure size 1152x432 with 1 Axes>"
            ]
          },
          "metadata": {
            "needs_background": "light"
          },
          "output_type": "display_data"
        },
        {
          "data": {
            "image/png": "[encoded data removed]",
            "text/plain": [
              "<Figure size 864x864 with 1 Axes>"
            ]
          },
          "metadata": {},
          "output_type": "display_data"
        }
      ],
      "source": [
        "regions = ['na_sales', 'eu_sales', 'jp_sales']\n",
        "for i in regions:\n",
        "    platform_regions = (actual_data.pivot_table(index='platform', values=i, aggfunc=['sum', 'count'])\n",
        "                                    .set_axis(['sum', 'count'], axis=1, inplace=False)\n",
        "                                    .sort_values(by=('sum'), ascending=False)\n",
        "                               )\n",
        "    plt.figure(figsize=(16, 6))\n",
        "    sns.barplot(x=platform_regions.index, y='sum', data=platform_regions)\n",
        "    plt.title(i)\n",
        "    plt.show()\n",
        "    platform_regions.plot(kind='pie', y='sum', figsize=(12, 12), autopct = '%.1f')\n",
        "    plt.show()    \n",
        "\n"
      ]
    },
    {
      "cell_type": "markdown",
      "metadata": {
        "id": "2QwGnKveElxW"
      },
      "source": [
        "В регионе NA топ 5 самых популярных платформ выглядит следующим образом: X360, XOne, PS4. В регионе EU топ 5 такой: PS4, PS3, XOne. Топ 5 региона JP выглядит так: 3DS, PS3, PSV.\n",
        "\n",
        "Самые популярные платформы региона JP сильно отличаются от топа EU и NA."
      ]
    },
    {
      "cell_type": "markdown",
      "metadata": {
        "id": "LQGCtNoMElxW"
      },
      "source": [
        "Теперь проанализируем суммы продаж жанров по регионам"
      ]
    },
    {
      "cell_type": "code",
      "execution_count": null,
      "metadata": {
        "id": "kQAj2W3PElxW",
        "outputId": "7d1f3b54-9ccc-474e-b6a4-0ae6e1b3a96c"
      },
      "outputs": [
        {
          "data": {
            "image/png": "[encoded data removed]",
            "text/plain": [
              "<Figure size 864x432 with 1 Axes>"
            ]
          },
          "metadata": {
            "needs_background": "light"
          },
          "output_type": "display_data"
        },
        {
          "data": {
            "image/png": "[encoded data removed]",
            "text/plain": [
              "<Figure size 576x576 with 1 Axes>"
            ]
          },
          "metadata": {},
          "output_type": "display_data"
        },
        {
          "data": {
            "image/png": "[encoded data removed]",
            "text/plain": [
              "<Figure size 864x432 with 1 Axes>"
            ]
          },
          "metadata": {
            "needs_background": "light"
          },
          "output_type": "display_data"
        },
        {
          "data": {
            "image/png": "[encoded data removed]",
            "text/plain": [
              "<Figure size 576x576 with 1 Axes>"
            ]
          },
          "metadata": {},
          "output_type": "display_data"
        },
        {
          "data": {
            "image/png": "[encoded data removed]",
            "text/plain": [
              "<Figure size 864x432 with 1 Axes>"
            ]
          },
          "metadata": {
            "needs_background": "light"
          },
          "output_type": "display_data"
        },
        {
          "data": {
            "image/png": "[encoded data removed]",
            "text/plain": [
              "<Figure size 576x576 with 1 Axes>"
            ]
          },
          "metadata": {},
          "output_type": "display_data"
        }
      ],
      "source": [
        "for i in regions:\n",
        "    genre_regions = (actual_data.pivot_table(index='genre', values=i, aggfunc=['sum', 'count'])\n",
        "                                 .set_axis(['sum', 'count'], axis=1, inplace=False)\n",
        "                                 .sort_values(by=('sum'), ascending=False)\n",
        "                               )\n",
        "    plt.figure(figsize=(12, 6))\n",
        "    sns.barplot(x=genre_regions.index, y='sum', data=genre_regions)\n",
        "    plt.title(i)\n",
        "    plt.show()\n",
        "    genre_regions.plot(kind='pie', y='sum', figsize=(8, 8), autopct = '%.1f')\n",
        "    plt.show()    \n"
      ]
    },
    {
      "cell_type": "markdown",
      "metadata": {
        "id": "MhsqBsVcElxX"
      },
      "source": [
        "В регионе NA топ жанров: Action, Shooter, Sports. В регионе EU: Action, Shooter, Sports. В JP: Role-Playing, Action, Misc. В общем итоге во всех топах оказался только жанр Action."
      ]
    },
    {
      "cell_type": "markdown",
      "metadata": {
        "id": "g6zUY72eElxY"
      },
      "source": [
        "В столбце rating представлена оценка игр ESRB, которая присваивает им категорию в зависимости от различных факторов. Категории: T, E, M, E10+, AO, EC, RP.  "
      ]
    },
    {
      "cell_type": "code",
      "execution_count": null,
      "metadata": {
        "id": "s9Rpn-BoElxY",
        "outputId": "1e5d4804-8cad-43ff-db7e-ab6faba934a9"
      },
      "outputs": [
        {
          "data": {
            "image/png": "[encoded data removed]",
            "text/plain": [
              "<Figure size 864x432 with 1 Axes>"
            ]
          },
          "metadata": {
            "needs_background": "light"
          },
          "output_type": "display_data"
        },
        {
          "data": {
            "image/png": "[encoded data removed]",
            "text/plain": [
              "<Figure size 576x576 with 1 Axes>"
            ]
          },
          "metadata": {},
          "output_type": "display_data"
        },
        {
          "data": {
            "image/png": "[encoded data removed]",
            "text/plain": [
              "<Figure size 864x432 with 1 Axes>"
            ]
          },
          "metadata": {
            "needs_background": "light"
          },
          "output_type": "display_data"
        },
        {
          "data": {
            "image/png": "[encoded data removed]",
            "text/plain": [
              "<Figure size 576x576 with 1 Axes>"
            ]
          },
          "metadata": {},
          "output_type": "display_data"
        },
        {
          "data": {
            "image/png": "[encoded data removed]",
            "text/plain": [
              "<Figure size 864x432 with 1 Axes>"
            ]
          },
          "metadata": {
            "needs_background": "light"
          },
          "output_type": "display_data"
        },
        {
          "data": {
            "image/png": "[encoded data removed]",
            "text/plain": [
              "<Figure size 576x576 with 1 Axes>"
            ]
          },
          "metadata": {},
          "output_type": "display_data"
        }
      ],
      "source": [
        "for i in regions:\n",
        "    rating_regions = (actual_data.pivot_table(index='rating', values=i, aggfunc=['sum', 'count'])\n",
        "                                 .set_axis(['sum', 'count'], axis=1, inplace=False)\n",
        "                                 .sort_values(by=('sum'), ascending=False)\n",
        "                               )\n",
        "    plt.figure(figsize=(12, 6))\n",
        "    sns.barplot(x=rating_regions.index, y='sum', data=rating_regions)\n",
        "    plt.title(i)\n",
        "    plt.show()\n",
        "    rating_regions.plot(kind='pie', y='sum', figsize=(8, 8), autopct = '%.1f')\n",
        "    plt.show()    \n"
      ]
    },
    {
      "cell_type": "markdown",
      "metadata": {
        "id": "wmLR2jzBElxY"
      },
      "source": [
        "Распределения в регионах EU, NA практически идентичны, поэтому фактор влияния категории в этих случаях практически отсутствует. В регионе JP нет игр категории AO, зато преимущество у игр категории Е. Я считаю, что категория имеет влияние на продажи только в случае региона JP. Как и в предыдущих результатах он довольно сильно отличается. Но стоит отметить, что в этом регионе также наибольшее количество неизвестных значений."
      ]
    },
    {
      "cell_type": "markdown",
      "metadata": {
        "id": "BOjpVLiNElxZ"
      },
      "source": [
        "# Проверка гипотез"
      ]
    },
    {
      "cell_type": "markdown",
      "metadata": {
        "id": "7mAKlFj5ElxZ"
      },
      "source": [
        "H_0: Средние пользовательские рейтинги (user_score) платформ Xbox One и PC одинаковые.\n",
        "\n",
        "\n",
        "H_a: Средние пользовательские рейтинги (user_score) платформ Xbox One и PC не равны.\n",
        "\n",
        "H_0: Средние пользовательские рейтинги (user_score) жанров Action и Sports одинаковые.\n",
        "\n",
        "\n",
        "\n",
        "H_a: Средние пользовательские рейтинги (user_score) жанров Action и Sports разные.\n",
        "\n",
        "alpha = 0.05"
      ]
    },
    {
      "cell_type": "code",
      "execution_count": null,
      "metadata": {
        "id": "tPY29KwKElxa",
        "outputId": "0442d8d2-44fd-4c1f-bd8d-3b856b4b890d"
      },
      "outputs": [
        {
          "name": "stdout",
          "output_type": "stream",
          "text": [
            "p-значение: 0.1475959401343032\n",
            "Средние пользовательские рейтинги платформ Xbox One и PC одинаковые\n"
          ]
        }
      ],
      "source": [
        "pc = actual_data.query(\"platform == 'PC'\")\n",
        "xone = actual_data.query(\"platform == 'XOne'\")\n",
        "results = st.ttest_ind(\n",
        "    xone['user_score'],\n",
        "    pc['user_score'],\n",
        "    equal_var=False,  \n",
        "    nan_policy='omit' # игнорируем пропуски\n",
        ")\n",
        "alpha = 0.05\n",
        "print('p-значение:', results.pvalue)\n",
        "\n",
        "if (results.pvalue < alpha):\n",
        "    print(\"Средние пользовательские рейтинги платформ Xbox One и PC различаются\")\n",
        "else:\n",
        "    print(\"Средние пользовательские рейтинги платформ Xbox One и PC одинаковые\")\n"
      ]
    },
    {
      "cell_type": "markdown",
      "metadata": {
        "id": "sTcuqlbQElxa"
      },
      "source": [
        "**Нулевую гипотезу равенства пользовательских рейтингов платформ Xbox One и PC отвергнуть не получилось.** Средние пользовательские рейтинги платформ Xbox One и PC могут различаться."
      ]
    },
    {
      "cell_type": "code",
      "execution_count": null,
      "metadata": {
        "id": "3GlBQAhUElxb",
        "outputId": "52b221fe-54da-4e97-9135-31ee1692f438"
      },
      "outputs": [
        {
          "name": "stdout",
          "output_type": "stream",
          "text": [
            "p-значение: 1.0517832389139422e-27\n",
            "Отвергаем нулевую гипотезу\n"
          ]
        }
      ],
      "source": [
        "action = actual_data.query(\"genre == 'Action'\")\n",
        "sports = actual_data.query(\"genre == 'Sports'\")\n",
        "\n",
        "results = st.ttest_ind(\n",
        "    action['user_score'],\n",
        "    sports['user_score'],\n",
        "    nan_policy='omit' # игнорируем пропуски\n",
        ")\n",
        "\n",
        "print('p-значение:', results.pvalue)\n",
        "\n",
        "if (results.pvalue < alpha):\n",
        "    print(\"Отвергаем нулевую гипотезу\")\n",
        "else:\n",
        "    print(\"Не получилось отвергнуть нулевую гипотезу\")\n"
      ]
    },
    {
      "cell_type": "markdown",
      "metadata": {
        "id": "1wGPEG1SElxc"
      },
      "source": [
        "**Гипотеза \"средние пользовательские рейтинги жанров Action и Sports одинаковые\" была отвергнута.** Низкое значение p-value означает, что случайно получить различия в рейтинге не получится."
      ]
    },
    {
      "cell_type": "markdown",
      "metadata": {
        "id": "ftcpwcb0Elxd"
      },
      "source": [
        "# Общий вывод"
      ]
    },
    {
      "cell_type": "markdown",
      "metadata": {
        "id": "dq7kh8w3Elxd"
      },
      "source": [
        "В ходе анализа данных интернет-магазина \"Стримчик\" были сделаны следующие выводы:\n",
        "\n",
        "* Временной отрезок актуальности платформ примерно 10 лет.\n",
        "\n",
        "* ТОП-5 самых актуальных платформ сейчас выглядит так: Playstation 4, Xbox One, X360, Playstation 3, 3DS\n",
        "\n",
        "* Регион JP довольно сильно отличается от остальных регионов.  Там лидируют жанры Role-Playing, Action, Misc. Самые популярные платформы региона JP сильно отличаются от топа EU и NA, там в основном более популярны портативные консоли. В регионах NA и EU топ жанров одинаковый: Action, Shooter, Sports. Во всех странах в лидерах жанр Action. \n",
        "\n",
        "* Значительную долю рынка занимают игры категории, нацеленной на детей и подростков.\n",
        "\n",
        "* Гипотеза о равенстве средней оценки пользователя между платформами Xbox One и PC не подвердилась, зато подтвердилась гипотеза о различии средней оценки пользователя между жанрами Action и Sports. Вероятнее всего, гипотеза верна."
      ]
    },
    {
      "cell_type": "markdown",
      "metadata": {
        "id": "mLJm_x9vElxe"
      },
      "source": [
        "Отделу маркетинга можно порекомендовать в основном делать упор на самые популярные сейчас платформы: PS4 и Xbox One. Среди жанров по всем регионам выделяются игры Action. Среди категорий стоит обратить особое внимание на игры для детей и подростков.\n",
        "\n",
        "Также стоит отметить, что рынок JP имеет свои отличия и особенности, поэтому при планировании продаж в этом регионе стоит их учесть."
      ]
    }
  ],
  "metadata": {
    "ExecuteTimeLog": [
      {
        "duration": 47,
        "start_time": "2022-11-21T09:06:55.102Z"
      },
      {
        "duration": 1351,
        "start_time": "2022-11-21T09:35:36.564Z"
      },
      {
        "duration": 91,
        "start_time": "2022-11-21T09:36:05.344Z"
      },
      {
        "duration": 22,
        "start_time": "2022-11-21T09:36:08.277Z"
      },
      {
        "duration": 15,
        "start_time": "2022-11-21T10:00:12.148Z"
      },
      {
        "duration": 730,
        "start_time": "2022-11-21T10:01:37.859Z"
      },
      {
        "duration": 62,
        "start_time": "2022-11-21T10:04:16.471Z"
      },
      {
        "duration": 8,
        "start_time": "2022-11-21T10:04:48.252Z"
      },
      {
        "duration": 12,
        "start_time": "2022-11-21T10:04:57.638Z"
      },
      {
        "duration": 11,
        "start_time": "2022-11-21T10:06:40.929Z"
      },
      {
        "duration": 1084,
        "start_time": "2022-11-21T10:06:59.711Z"
      },
      {
        "duration": 60,
        "start_time": "2022-11-21T10:07:00.797Z"
      },
      {
        "duration": 22,
        "start_time": "2022-11-21T10:07:00.859Z"
      },
      {
        "duration": 20,
        "start_time": "2022-11-21T10:07:00.883Z"
      },
      {
        "duration": 120,
        "start_time": "2022-11-21T10:07:00.905Z"
      },
      {
        "duration": 12,
        "start_time": "2022-11-21T10:07:23.381Z"
      },
      {
        "duration": 3,
        "start_time": "2022-11-21T10:07:28.871Z"
      },
      {
        "duration": 62,
        "start_time": "2022-11-21T10:07:28.876Z"
      },
      {
        "duration": 20,
        "start_time": "2022-11-21T10:07:28.939Z"
      },
      {
        "duration": 33,
        "start_time": "2022-11-21T10:07:28.961Z"
      },
      {
        "duration": 22,
        "start_time": "2022-11-21T10:07:28.996Z"
      },
      {
        "duration": 1141,
        "start_time": "2022-11-21T10:07:37.353Z"
      },
      {
        "duration": 50,
        "start_time": "2022-11-21T10:07:38.496Z"
      },
      {
        "duration": 20,
        "start_time": "2022-11-21T10:07:38.548Z"
      },
      {
        "duration": 23,
        "start_time": "2022-11-21T10:07:38.570Z"
      },
      {
        "duration": 100,
        "start_time": "2022-11-21T10:07:38.594Z"
      },
      {
        "duration": 12,
        "start_time": "2022-11-21T10:08:53.811Z"
      },
      {
        "duration": 9,
        "start_time": "2022-11-21T10:09:36.562Z"
      },
      {
        "duration": 10,
        "start_time": "2022-11-21T10:10:05.478Z"
      },
      {
        "duration": 9,
        "start_time": "2022-11-21T10:10:14.561Z"
      },
      {
        "duration": 9,
        "start_time": "2022-11-21T10:15:13.022Z"
      },
      {
        "duration": 11,
        "start_time": "2022-11-21T10:17:07.327Z"
      },
      {
        "duration": 2,
        "start_time": "2022-11-21T10:17:21.195Z"
      },
      {
        "duration": 49,
        "start_time": "2022-11-21T10:17:21.612Z"
      },
      {
        "duration": 20,
        "start_time": "2022-11-21T10:17:22.034Z"
      },
      {
        "duration": 14,
        "start_time": "2022-11-21T10:17:22.449Z"
      },
      {
        "duration": 22,
        "start_time": "2022-11-21T10:17:23.359Z"
      },
      {
        "duration": 944,
        "start_time": "2022-11-21T10:20:26.880Z"
      },
      {
        "duration": 866,
        "start_time": "2022-11-21T10:22:44.723Z"
      },
      {
        "duration": 5,
        "start_time": "2022-11-21T10:23:19.828Z"
      },
      {
        "duration": 15,
        "start_time": "2022-11-21T10:23:20.653Z"
      },
      {
        "duration": 48,
        "start_time": "2022-11-21T10:23:36.333Z"
      },
      {
        "duration": 13,
        "start_time": "2022-11-21T10:23:39.605Z"
      },
      {
        "duration": 936,
        "start_time": "2022-11-21T10:24:21.966Z"
      },
      {
        "duration": 1083,
        "start_time": "2022-11-21T10:24:34.525Z"
      },
      {
        "duration": 14,
        "start_time": "2022-11-21T10:24:45.889Z"
      },
      {
        "duration": 5,
        "start_time": "2022-11-21T10:25:25.599Z"
      },
      {
        "duration": 9,
        "start_time": "2022-11-21T10:25:34.116Z"
      },
      {
        "duration": 1170,
        "start_time": "2022-11-21T10:25:56.247Z"
      },
      {
        "duration": 51,
        "start_time": "2022-11-21T10:25:57.419Z"
      },
      {
        "duration": 22,
        "start_time": "2022-11-21T10:25:57.471Z"
      },
      {
        "duration": 22,
        "start_time": "2022-11-21T10:25:57.496Z"
      },
      {
        "duration": 9,
        "start_time": "2022-11-21T10:25:57.519Z"
      },
      {
        "duration": 33,
        "start_time": "2022-11-21T10:25:57.529Z"
      },
      {
        "duration": 110,
        "start_time": "2022-11-21T10:25:57.563Z"
      },
      {
        "duration": 5,
        "start_time": "2022-11-21T10:33:00.534Z"
      },
      {
        "duration": 14,
        "start_time": "2022-11-21T10:41:13.767Z"
      },
      {
        "duration": 15,
        "start_time": "2022-11-21T10:43:17.838Z"
      },
      {
        "duration": 4,
        "start_time": "2022-11-21T10:44:27.691Z"
      },
      {
        "duration": 20,
        "start_time": "2022-11-21T10:44:33.751Z"
      },
      {
        "duration": 10,
        "start_time": "2022-11-21T10:47:00.344Z"
      },
      {
        "duration": 6,
        "start_time": "2022-11-21T10:48:52.120Z"
      },
      {
        "duration": 5,
        "start_time": "2022-11-21T10:49:41.581Z"
      },
      {
        "duration": 8,
        "start_time": "2022-11-21T10:50:13.524Z"
      },
      {
        "duration": 1270,
        "start_time": "2022-11-21T10:52:04.723Z"
      },
      {
        "duration": 3583,
        "start_time": "2022-11-21T10:52:18.120Z"
      },
      {
        "duration": 1164,
        "start_time": "2022-11-21T10:52:29.319Z"
      },
      {
        "duration": 5,
        "start_time": "2022-11-21T10:56:13.545Z"
      },
      {
        "duration": 4,
        "start_time": "2022-11-21T10:57:07.620Z"
      },
      {
        "duration": 23,
        "start_time": "2022-11-21T10:57:30.514Z"
      },
      {
        "duration": 15,
        "start_time": "2022-11-21T10:58:17.698Z"
      },
      {
        "duration": 12,
        "start_time": "2022-11-21T11:00:23.397Z"
      },
      {
        "duration": 12,
        "start_time": "2022-11-21T11:00:56.114Z"
      },
      {
        "duration": 45,
        "start_time": "2022-11-23T10:13:57.338Z"
      },
      {
        "duration": 1245,
        "start_time": "2022-11-23T10:14:01.571Z"
      },
      {
        "duration": 242,
        "start_time": "2022-11-23T10:14:02.818Z"
      },
      {
        "duration": 28,
        "start_time": "2022-11-23T10:14:03.062Z"
      },
      {
        "duration": 14,
        "start_time": "2022-11-23T10:14:03.091Z"
      },
      {
        "duration": 4,
        "start_time": "2022-11-23T10:14:03.107Z"
      },
      {
        "duration": 68,
        "start_time": "2022-11-23T10:14:03.113Z"
      },
      {
        "duration": 0,
        "start_time": "2022-11-23T10:14:03.182Z"
      },
      {
        "duration": 0,
        "start_time": "2022-11-23T10:14:03.183Z"
      },
      {
        "duration": 0,
        "start_time": "2022-11-23T10:14:03.184Z"
      },
      {
        "duration": 0,
        "start_time": "2022-11-23T10:14:03.185Z"
      },
      {
        "duration": 6,
        "start_time": "2022-11-23T10:14:33.449Z"
      },
      {
        "duration": 9,
        "start_time": "2022-11-23T10:14:38.049Z"
      },
      {
        "duration": 12,
        "start_time": "2022-11-23T10:15:23.176Z"
      },
      {
        "duration": 14,
        "start_time": "2022-11-23T10:15:26.039Z"
      },
      {
        "duration": 20,
        "start_time": "2022-11-23T10:15:51.457Z"
      },
      {
        "duration": 5,
        "start_time": "2022-11-23T10:16:05.508Z"
      },
      {
        "duration": 8,
        "start_time": "2022-11-23T10:16:27.020Z"
      },
      {
        "duration": 10,
        "start_time": "2022-11-23T10:16:28.118Z"
      },
      {
        "duration": 5,
        "start_time": "2022-11-23T10:16:29.536Z"
      },
      {
        "duration": 6,
        "start_time": "2022-11-23T10:16:32.531Z"
      },
      {
        "duration": 58,
        "start_time": "2022-11-23T10:16:36.063Z"
      },
      {
        "duration": 12,
        "start_time": "2022-11-23T10:16:42.781Z"
      },
      {
        "duration": 4,
        "start_time": "2022-11-23T10:16:51.731Z"
      },
      {
        "duration": 20,
        "start_time": "2022-11-23T10:18:35.824Z"
      },
      {
        "duration": 1203,
        "start_time": "2022-11-23T10:18:50.131Z"
      },
      {
        "duration": 53,
        "start_time": "2022-11-23T10:18:51.336Z"
      },
      {
        "duration": 24,
        "start_time": "2022-11-23T10:18:51.391Z"
      },
      {
        "duration": 14,
        "start_time": "2022-11-23T10:18:51.416Z"
      },
      {
        "duration": 4,
        "start_time": "2022-11-23T10:18:51.431Z"
      },
      {
        "duration": 22,
        "start_time": "2022-11-23T10:18:51.437Z"
      },
      {
        "duration": 12,
        "start_time": "2022-11-23T10:18:51.461Z"
      },
      {
        "duration": 9,
        "start_time": "2022-11-23T10:18:51.474Z"
      },
      {
        "duration": 7,
        "start_time": "2022-11-23T10:18:51.485Z"
      },
      {
        "duration": 21,
        "start_time": "2022-11-23T10:18:51.494Z"
      },
      {
        "duration": 21,
        "start_time": "2022-11-23T10:18:51.517Z"
      },
      {
        "duration": 7,
        "start_time": "2022-11-23T10:25:59.757Z"
      },
      {
        "duration": 19,
        "start_time": "2022-11-23T10:26:06.339Z"
      },
      {
        "duration": 388,
        "start_time": "2022-11-23T10:26:34.258Z"
      },
      {
        "duration": 6,
        "start_time": "2022-11-23T10:26:46.854Z"
      },
      {
        "duration": 21,
        "start_time": "2022-11-23T10:26:47.234Z"
      },
      {
        "duration": 1055,
        "start_time": "2022-11-23T10:27:04.855Z"
      },
      {
        "duration": 4,
        "start_time": "2022-11-23T10:27:18.743Z"
      },
      {
        "duration": 22,
        "start_time": "2022-11-23T10:27:23.188Z"
      },
      {
        "duration": 7,
        "start_time": "2022-11-23T10:30:29.237Z"
      },
      {
        "duration": 23,
        "start_time": "2022-11-23T10:30:29.779Z"
      },
      {
        "duration": 6,
        "start_time": "2022-11-23T10:30:57.933Z"
      },
      {
        "duration": 25,
        "start_time": "2022-11-23T10:30:59.413Z"
      },
      {
        "duration": 5,
        "start_time": "2022-11-23T10:32:41.355Z"
      },
      {
        "duration": 5,
        "start_time": "2022-11-23T10:32:48.372Z"
      },
      {
        "duration": 25,
        "start_time": "2022-11-23T10:32:48.807Z"
      },
      {
        "duration": 1048,
        "start_time": "2022-11-23T10:33:10.465Z"
      },
      {
        "duration": 52,
        "start_time": "2022-11-23T10:33:11.515Z"
      },
      {
        "duration": 23,
        "start_time": "2022-11-23T10:33:11.569Z"
      },
      {
        "duration": 13,
        "start_time": "2022-11-23T10:33:11.594Z"
      },
      {
        "duration": 4,
        "start_time": "2022-11-23T10:33:11.608Z"
      },
      {
        "duration": 10,
        "start_time": "2022-11-23T10:33:11.613Z"
      },
      {
        "duration": 8,
        "start_time": "2022-11-23T10:33:11.625Z"
      },
      {
        "duration": 5,
        "start_time": "2022-11-23T10:33:11.634Z"
      },
      {
        "duration": 6,
        "start_time": "2022-11-23T10:33:11.641Z"
      },
      {
        "duration": 5,
        "start_time": "2022-11-23T10:33:11.649Z"
      },
      {
        "duration": 19,
        "start_time": "2022-11-23T10:33:11.655Z"
      },
      {
        "duration": 37,
        "start_time": "2022-11-23T10:33:11.676Z"
      },
      {
        "duration": 21,
        "start_time": "2022-11-23T10:33:11.715Z"
      },
      {
        "duration": 149,
        "start_time": "2022-11-23T10:35:50.972Z"
      },
      {
        "duration": 172,
        "start_time": "2022-11-23T10:36:10.783Z"
      },
      {
        "duration": 136,
        "start_time": "2022-11-23T10:36:19.583Z"
      },
      {
        "duration": 132,
        "start_time": "2022-11-23T10:36:25.754Z"
      },
      {
        "duration": 4,
        "start_time": "2022-11-23T10:36:42.593Z"
      },
      {
        "duration": 5,
        "start_time": "2022-11-23T10:37:00.981Z"
      },
      {
        "duration": 74,
        "start_time": "2022-11-23T10:38:09.274Z"
      },
      {
        "duration": 146,
        "start_time": "2022-11-23T10:38:14.663Z"
      },
      {
        "duration": 5,
        "start_time": "2022-11-23T10:41:26.894Z"
      },
      {
        "duration": 6,
        "start_time": "2022-11-23T10:41:36.977Z"
      },
      {
        "duration": 802,
        "start_time": "2022-11-23T10:43:55.574Z"
      },
      {
        "duration": 90,
        "start_time": "2022-11-23T10:44:29.229Z"
      },
      {
        "duration": 28,
        "start_time": "2022-11-23T10:45:27.802Z"
      },
      {
        "duration": 253,
        "start_time": "2022-11-23T10:46:04.887Z"
      },
      {
        "duration": 836,
        "start_time": "2022-11-23T10:46:22.736Z"
      },
      {
        "duration": 637,
        "start_time": "2022-11-23T10:46:51.029Z"
      },
      {
        "duration": 820,
        "start_time": "2022-11-23T10:47:49.502Z"
      },
      {
        "duration": 8356,
        "start_time": "2022-11-23T10:59:47.829Z"
      },
      {
        "duration": 1270,
        "start_time": "2022-11-23T11:01:21.432Z"
      },
      {
        "duration": 936,
        "start_time": "2022-11-23T11:01:31.932Z"
      },
      {
        "duration": 175,
        "start_time": "2022-11-23T11:03:25.392Z"
      },
      {
        "duration": 6324,
        "start_time": "2022-11-23T11:03:46.604Z"
      },
      {
        "duration": 6418,
        "start_time": "2022-11-23T11:04:27.386Z"
      },
      {
        "duration": 6606,
        "start_time": "2022-11-23T11:07:37.090Z"
      },
      {
        "duration": 12,
        "start_time": "2022-11-23T11:07:46.491Z"
      },
      {
        "duration": 14,
        "start_time": "2022-11-23T11:08:06.885Z"
      },
      {
        "duration": 191,
        "start_time": "2022-11-23T11:11:07.173Z"
      },
      {
        "duration": 7649,
        "start_time": "2022-11-23T11:15:09.889Z"
      },
      {
        "duration": 6748,
        "start_time": "2022-11-23T11:15:49.272Z"
      },
      {
        "duration": 7781,
        "start_time": "2022-11-23T11:16:27.209Z"
      },
      {
        "duration": 6683,
        "start_time": "2022-11-23T11:17:10.770Z"
      },
      {
        "duration": 6,
        "start_time": "2022-11-23T11:21:42.325Z"
      },
      {
        "duration": 16,
        "start_time": "2022-11-23T11:22:15.611Z"
      },
      {
        "duration": 5488,
        "start_time": "2022-11-23T11:23:29.282Z"
      },
      {
        "duration": 14,
        "start_time": "2022-11-23T11:25:58.567Z"
      },
      {
        "duration": 180,
        "start_time": "2022-11-23T11:29:25.773Z"
      },
      {
        "duration": 179,
        "start_time": "2022-11-23T11:30:29.754Z"
      },
      {
        "duration": 198,
        "start_time": "2022-11-23T11:31:39.711Z"
      },
      {
        "duration": 116,
        "start_time": "2022-11-23T11:32:12.468Z"
      },
      {
        "duration": 29,
        "start_time": "2022-11-23T11:33:13.946Z"
      },
      {
        "duration": 136,
        "start_time": "2022-11-23T11:33:29.710Z"
      },
      {
        "duration": 114,
        "start_time": "2022-11-23T11:34:07.130Z"
      },
      {
        "duration": 139,
        "start_time": "2022-11-23T11:36:38.592Z"
      },
      {
        "duration": 120,
        "start_time": "2022-11-23T11:36:48.755Z"
      },
      {
        "duration": 138,
        "start_time": "2022-11-23T11:38:14.620Z"
      },
      {
        "duration": 1026,
        "start_time": "2022-11-23T11:38:36.754Z"
      },
      {
        "duration": 119,
        "start_time": "2022-11-23T11:38:40.778Z"
      },
      {
        "duration": 119,
        "start_time": "2022-11-23T11:40:23.590Z"
      },
      {
        "duration": 132,
        "start_time": "2022-11-23T11:40:36.811Z"
      },
      {
        "duration": 138,
        "start_time": "2022-11-23T11:41:09.043Z"
      },
      {
        "duration": 135,
        "start_time": "2022-11-23T11:41:30.605Z"
      },
      {
        "duration": 133,
        "start_time": "2022-11-23T11:41:57.334Z"
      },
      {
        "duration": 122,
        "start_time": "2022-11-23T11:42:14.019Z"
      },
      {
        "duration": 158,
        "start_time": "2022-11-23T11:42:45.852Z"
      },
      {
        "duration": 147,
        "start_time": "2022-11-23T11:43:06.609Z"
      },
      {
        "duration": 144,
        "start_time": "2022-11-23T11:44:02.996Z"
      },
      {
        "duration": 140,
        "start_time": "2022-11-23T11:44:38.280Z"
      },
      {
        "duration": 6,
        "start_time": "2022-11-23T11:55:56.507Z"
      },
      {
        "duration": 758,
        "start_time": "2022-11-23T11:56:52.278Z"
      },
      {
        "duration": 16,
        "start_time": "2022-11-23T11:57:29.223Z"
      },
      {
        "duration": 13,
        "start_time": "2022-11-23T11:57:45.722Z"
      },
      {
        "duration": 15,
        "start_time": "2022-11-23T11:58:25.771Z"
      },
      {
        "duration": 14,
        "start_time": "2022-11-23T11:58:45.265Z"
      },
      {
        "duration": 21,
        "start_time": "2022-11-23T11:58:52.829Z"
      },
      {
        "duration": 135,
        "start_time": "2022-11-23T11:59:22.847Z"
      },
      {
        "duration": 489,
        "start_time": "2022-11-23T12:04:11.648Z"
      },
      {
        "duration": 155,
        "start_time": "2022-11-23T12:07:31.562Z"
      },
      {
        "duration": 133,
        "start_time": "2022-11-23T12:07:46.556Z"
      },
      {
        "duration": 147,
        "start_time": "2022-11-23T12:07:52.694Z"
      },
      {
        "duration": 175,
        "start_time": "2022-11-23T12:08:21.395Z"
      },
      {
        "duration": 153,
        "start_time": "2022-11-23T12:09:21.123Z"
      },
      {
        "duration": 188,
        "start_time": "2022-11-23T12:09:28.920Z"
      },
      {
        "duration": 149,
        "start_time": "2022-11-23T12:10:58.958Z"
      },
      {
        "duration": 151,
        "start_time": "2022-11-23T12:11:16.761Z"
      },
      {
        "duration": 50,
        "start_time": "2022-12-02T10:06:40.034Z"
      },
      {
        "duration": 1384,
        "start_time": "2022-12-02T10:06:49.262Z"
      },
      {
        "duration": 499,
        "start_time": "2022-12-02T10:06:50.648Z"
      },
      {
        "duration": 27,
        "start_time": "2022-12-02T10:06:51.149Z"
      },
      {
        "duration": 15,
        "start_time": "2022-12-02T10:06:51.178Z"
      },
      {
        "duration": 5,
        "start_time": "2022-12-02T10:06:51.194Z"
      },
      {
        "duration": 37,
        "start_time": "2022-12-02T10:06:51.204Z"
      },
      {
        "duration": 22,
        "start_time": "2022-12-02T10:06:51.243Z"
      },
      {
        "duration": 13,
        "start_time": "2022-12-02T10:06:51.267Z"
      },
      {
        "duration": 11,
        "start_time": "2022-12-02T10:06:51.282Z"
      },
      {
        "duration": 29,
        "start_time": "2022-12-02T10:06:51.295Z"
      },
      {
        "duration": 43,
        "start_time": "2022-12-02T10:06:51.326Z"
      },
      {
        "duration": 19,
        "start_time": "2022-12-02T10:06:51.371Z"
      },
      {
        "duration": 33,
        "start_time": "2022-12-02T10:06:51.392Z"
      },
      {
        "duration": 191,
        "start_time": "2022-12-02T10:06:51.427Z"
      },
      {
        "duration": 9,
        "start_time": "2022-12-02T10:06:51.621Z"
      },
      {
        "duration": 917,
        "start_time": "2022-12-02T10:06:51.631Z"
      },
      {
        "duration": 149,
        "start_time": "2022-12-02T10:06:52.549Z"
      },
      {
        "duration": 194,
        "start_time": "2022-12-02T10:06:52.704Z"
      },
      {
        "duration": 184,
        "start_time": "2022-12-02T10:06:52.899Z"
      },
      {
        "duration": 167,
        "start_time": "2022-12-02T10:06:53.085Z"
      },
      {
        "duration": 171,
        "start_time": "2022-12-02T10:06:53.253Z"
      },
      {
        "duration": 196,
        "start_time": "2022-12-02T10:06:53.426Z"
      },
      {
        "duration": 286,
        "start_time": "2022-12-02T10:06:53.624Z"
      },
      {
        "duration": 159,
        "start_time": "2022-12-02T10:06:53.919Z"
      },
      {
        "duration": 52,
        "start_time": "2022-12-02T10:06:54.080Z"
      },
      {
        "duration": 620,
        "start_time": "2022-12-02T10:06:54.134Z"
      },
      {
        "duration": 176,
        "start_time": "2022-12-02T10:06:54.756Z"
      },
      {
        "duration": 189,
        "start_time": "2022-12-02T10:06:54.938Z"
      },
      {
        "duration": 204,
        "start_time": "2022-12-02T10:07:00.072Z"
      },
      {
        "duration": 100,
        "start_time": "2022-12-02T10:11:00.120Z"
      },
      {
        "duration": 7,
        "start_time": "2022-12-02T10:11:28.186Z"
      },
      {
        "duration": 33,
        "start_time": "2022-12-02T10:11:33.686Z"
      },
      {
        "duration": 252,
        "start_time": "2022-12-02T10:19:07.821Z"
      },
      {
        "duration": 267,
        "start_time": "2022-12-02T10:19:39.792Z"
      },
      {
        "duration": 299,
        "start_time": "2022-12-02T10:23:17.889Z"
      },
      {
        "duration": 244,
        "start_time": "2022-12-02T10:30:59.653Z"
      },
      {
        "duration": 324,
        "start_time": "2022-12-02T10:31:24.126Z"
      },
      {
        "duration": 455,
        "start_time": "2022-12-02T10:31:37.232Z"
      },
      {
        "duration": 332,
        "start_time": "2022-12-02T10:34:00.053Z"
      },
      {
        "duration": 263,
        "start_time": "2022-12-02T10:34:10.767Z"
      },
      {
        "duration": 305,
        "start_time": "2022-12-02T10:34:18.736Z"
      },
      {
        "duration": 310,
        "start_time": "2022-12-02T10:34:25.190Z"
      },
      {
        "duration": 251,
        "start_time": "2022-12-02T10:35:21.270Z"
      },
      {
        "duration": 244,
        "start_time": "2022-12-02T10:35:33.089Z"
      },
      {
        "duration": 291,
        "start_time": "2022-12-02T10:35:54.069Z"
      },
      {
        "duration": 19,
        "start_time": "2022-12-02T10:40:47.204Z"
      },
      {
        "duration": 18,
        "start_time": "2022-12-02T10:41:02.545Z"
      },
      {
        "duration": 303,
        "start_time": "2022-12-02T10:43:02.969Z"
      },
      {
        "duration": 310,
        "start_time": "2022-12-02T10:43:08.668Z"
      },
      {
        "duration": 708,
        "start_time": "2022-12-02T10:49:53.883Z"
      },
      {
        "duration": 228,
        "start_time": "2022-12-02T10:50:08.859Z"
      },
      {
        "duration": 1181,
        "start_time": "2022-12-02T10:52:39.965Z"
      },
      {
        "duration": 54,
        "start_time": "2022-12-02T10:52:41.149Z"
      },
      {
        "duration": 28,
        "start_time": "2022-12-02T10:52:41.204Z"
      },
      {
        "duration": 15,
        "start_time": "2022-12-02T10:52:41.234Z"
      },
      {
        "duration": 5,
        "start_time": "2022-12-02T10:52:41.251Z"
      },
      {
        "duration": 130,
        "start_time": "2022-12-02T10:52:41.258Z"
      },
      {
        "duration": 0,
        "start_time": "2022-12-02T10:52:41.391Z"
      },
      {
        "duration": 0,
        "start_time": "2022-12-02T10:52:41.392Z"
      },
      {
        "duration": 0,
        "start_time": "2022-12-02T10:52:41.393Z"
      },
      {
        "duration": 0,
        "start_time": "2022-12-02T10:52:41.394Z"
      },
      {
        "duration": 0,
        "start_time": "2022-12-02T10:52:41.395Z"
      },
      {
        "duration": 0,
        "start_time": "2022-12-02T10:52:41.406Z"
      },
      {
        "duration": 0,
        "start_time": "2022-12-02T10:52:41.407Z"
      },
      {
        "duration": 0,
        "start_time": "2022-12-02T10:52:41.407Z"
      },
      {
        "duration": 0,
        "start_time": "2022-12-02T10:52:41.408Z"
      },
      {
        "duration": 0,
        "start_time": "2022-12-02T10:52:41.409Z"
      },
      {
        "duration": 0,
        "start_time": "2022-12-02T10:52:41.409Z"
      },
      {
        "duration": 0,
        "start_time": "2022-12-02T10:52:41.410Z"
      },
      {
        "duration": 0,
        "start_time": "2022-12-02T10:52:41.411Z"
      },
      {
        "duration": 0,
        "start_time": "2022-12-02T10:52:41.411Z"
      },
      {
        "duration": 0,
        "start_time": "2022-12-02T10:52:41.413Z"
      },
      {
        "duration": 0,
        "start_time": "2022-12-02T10:52:41.414Z"
      },
      {
        "duration": 0,
        "start_time": "2022-12-02T10:52:41.415Z"
      },
      {
        "duration": 0,
        "start_time": "2022-12-02T10:52:41.416Z"
      },
      {
        "duration": 0,
        "start_time": "2022-12-02T10:52:41.417Z"
      },
      {
        "duration": 0,
        "start_time": "2022-12-02T10:52:41.418Z"
      },
      {
        "duration": 0,
        "start_time": "2022-12-02T10:52:41.421Z"
      },
      {
        "duration": 0,
        "start_time": "2022-12-02T10:52:41.423Z"
      },
      {
        "duration": 0,
        "start_time": "2022-12-02T10:52:41.425Z"
      },
      {
        "duration": 0,
        "start_time": "2022-12-02T10:52:41.426Z"
      },
      {
        "duration": 0,
        "start_time": "2022-12-02T10:52:41.428Z"
      },
      {
        "duration": 0,
        "start_time": "2022-12-02T10:52:41.430Z"
      },
      {
        "duration": 0,
        "start_time": "2022-12-02T10:52:41.431Z"
      },
      {
        "duration": 929,
        "start_time": "2022-12-02T10:52:57.668Z"
      },
      {
        "duration": 3,
        "start_time": "2022-12-02T10:53:09.242Z"
      },
      {
        "duration": 76,
        "start_time": "2022-12-02T10:53:09.247Z"
      },
      {
        "duration": 19,
        "start_time": "2022-12-02T10:53:09.325Z"
      },
      {
        "duration": 35,
        "start_time": "2022-12-02T10:53:09.345Z"
      },
      {
        "duration": 21,
        "start_time": "2022-12-02T10:53:09.382Z"
      },
      {
        "duration": 45,
        "start_time": "2022-12-02T10:53:09.412Z"
      },
      {
        "duration": 0,
        "start_time": "2022-12-02T10:53:09.460Z"
      },
      {
        "duration": 0,
        "start_time": "2022-12-02T10:53:09.461Z"
      },
      {
        "duration": 0,
        "start_time": "2022-12-02T10:53:09.462Z"
      },
      {
        "duration": 0,
        "start_time": "2022-12-02T10:53:09.463Z"
      },
      {
        "duration": 0,
        "start_time": "2022-12-02T10:53:09.465Z"
      },
      {
        "duration": 0,
        "start_time": "2022-12-02T10:53:09.466Z"
      },
      {
        "duration": 0,
        "start_time": "2022-12-02T10:53:09.468Z"
      },
      {
        "duration": 0,
        "start_time": "2022-12-02T10:53:09.469Z"
      },
      {
        "duration": 0,
        "start_time": "2022-12-02T10:53:09.471Z"
      },
      {
        "duration": 0,
        "start_time": "2022-12-02T10:53:09.472Z"
      },
      {
        "duration": 0,
        "start_time": "2022-12-02T10:53:09.474Z"
      },
      {
        "duration": 0,
        "start_time": "2022-12-02T10:53:09.475Z"
      },
      {
        "duration": 0,
        "start_time": "2022-12-02T10:53:09.477Z"
      },
      {
        "duration": 0,
        "start_time": "2022-12-02T10:53:09.478Z"
      },
      {
        "duration": 0,
        "start_time": "2022-12-02T10:53:09.479Z"
      },
      {
        "duration": 0,
        "start_time": "2022-12-02T10:53:09.481Z"
      },
      {
        "duration": 0,
        "start_time": "2022-12-02T10:53:09.482Z"
      },
      {
        "duration": 0,
        "start_time": "2022-12-02T10:53:09.483Z"
      },
      {
        "duration": 0,
        "start_time": "2022-12-02T10:53:09.485Z"
      },
      {
        "duration": 0,
        "start_time": "2022-12-02T10:53:09.486Z"
      },
      {
        "duration": 0,
        "start_time": "2022-12-02T10:53:09.487Z"
      },
      {
        "duration": 1,
        "start_time": "2022-12-02T10:53:09.487Z"
      },
      {
        "duration": 0,
        "start_time": "2022-12-02T10:53:09.488Z"
      },
      {
        "duration": 0,
        "start_time": "2022-12-02T10:53:09.506Z"
      },
      {
        "duration": 0,
        "start_time": "2022-12-02T10:53:09.509Z"
      },
      {
        "duration": 0,
        "start_time": "2022-12-02T10:53:09.510Z"
      },
      {
        "duration": 0,
        "start_time": "2022-12-02T10:53:09.511Z"
      },
      {
        "duration": 860,
        "start_time": "2022-12-02T10:53:33.121Z"
      },
      {
        "duration": 886,
        "start_time": "2022-12-02T10:54:03.898Z"
      },
      {
        "duration": 836,
        "start_time": "2022-12-02T10:54:31.375Z"
      },
      {
        "duration": 965,
        "start_time": "2022-12-02T10:54:44.363Z"
      },
      {
        "duration": 18,
        "start_time": "2022-12-02T10:55:26.438Z"
      },
      {
        "duration": 3171,
        "start_time": "2022-12-02T10:55:47.654Z"
      },
      {
        "duration": 2964,
        "start_time": "2022-12-02T10:57:29.424Z"
      },
      {
        "duration": 86,
        "start_time": "2022-12-02T10:57:58.762Z"
      },
      {
        "duration": 2946,
        "start_time": "2022-12-02T10:58:06.395Z"
      },
      {
        "duration": 973,
        "start_time": "2022-12-02T11:00:31.350Z"
      },
      {
        "duration": 76,
        "start_time": "2022-12-02T11:02:12.200Z"
      },
      {
        "duration": 1016,
        "start_time": "2022-12-02T11:02:19.408Z"
      },
      {
        "duration": 1024,
        "start_time": "2022-12-02T11:03:41.907Z"
      },
      {
        "duration": 893,
        "start_time": "2022-12-02T11:04:13.872Z"
      },
      {
        "duration": 977,
        "start_time": "2022-12-02T11:17:15.718Z"
      },
      {
        "duration": 120,
        "start_time": "2022-12-02T11:17:37.791Z"
      },
      {
        "duration": 965,
        "start_time": "2022-12-02T11:17:42.193Z"
      },
      {
        "duration": 18,
        "start_time": "2022-12-02T11:21:00.319Z"
      },
      {
        "duration": 913,
        "start_time": "2022-12-02T11:21:29.902Z"
      },
      {
        "duration": 862,
        "start_time": "2022-12-02T11:21:39.782Z"
      },
      {
        "duration": 83,
        "start_time": "2022-12-02T11:22:32.305Z"
      },
      {
        "duration": 222,
        "start_time": "2022-12-02T11:22:37.266Z"
      },
      {
        "duration": 25,
        "start_time": "2022-12-02T11:26:24.792Z"
      },
      {
        "duration": 1181,
        "start_time": "2022-12-02T11:27:57.824Z"
      },
      {
        "duration": 10,
        "start_time": "2022-12-02T11:28:15.197Z"
      },
      {
        "duration": 2,
        "start_time": "2022-12-02T11:28:25.913Z"
      },
      {
        "duration": 57,
        "start_time": "2022-12-02T11:28:25.917Z"
      },
      {
        "duration": 22,
        "start_time": "2022-12-02T11:28:25.976Z"
      },
      {
        "duration": 23,
        "start_time": "2022-12-02T11:28:26.000Z"
      },
      {
        "duration": 6,
        "start_time": "2022-12-02T11:28:26.025Z"
      },
      {
        "duration": 16,
        "start_time": "2022-12-02T11:28:26.032Z"
      },
      {
        "duration": 0,
        "start_time": "2022-12-02T11:28:26.050Z"
      },
      {
        "duration": 0,
        "start_time": "2022-12-02T11:28:26.051Z"
      },
      {
        "duration": 0,
        "start_time": "2022-12-02T11:28:26.053Z"
      },
      {
        "duration": 0,
        "start_time": "2022-12-02T11:28:26.054Z"
      },
      {
        "duration": 0,
        "start_time": "2022-12-02T11:28:26.055Z"
      },
      {
        "duration": 0,
        "start_time": "2022-12-02T11:28:26.056Z"
      },
      {
        "duration": 0,
        "start_time": "2022-12-02T11:28:26.057Z"
      },
      {
        "duration": 0,
        "start_time": "2022-12-02T11:28:26.058Z"
      },
      {
        "duration": 0,
        "start_time": "2022-12-02T11:28:26.059Z"
      },
      {
        "duration": 0,
        "start_time": "2022-12-02T11:28:26.061Z"
      },
      {
        "duration": 0,
        "start_time": "2022-12-02T11:28:26.063Z"
      },
      {
        "duration": 0,
        "start_time": "2022-12-02T11:28:26.064Z"
      },
      {
        "duration": 0,
        "start_time": "2022-12-02T11:28:26.105Z"
      },
      {
        "duration": 0,
        "start_time": "2022-12-02T11:28:26.106Z"
      },
      {
        "duration": 1,
        "start_time": "2022-12-02T11:28:26.107Z"
      },
      {
        "duration": 0,
        "start_time": "2022-12-02T11:28:26.108Z"
      },
      {
        "duration": 0,
        "start_time": "2022-12-02T11:28:26.109Z"
      },
      {
        "duration": 0,
        "start_time": "2022-12-02T11:28:26.111Z"
      },
      {
        "duration": 0,
        "start_time": "2022-12-02T11:28:26.111Z"
      },
      {
        "duration": 0,
        "start_time": "2022-12-02T11:28:26.112Z"
      },
      {
        "duration": 0,
        "start_time": "2022-12-02T11:28:26.114Z"
      },
      {
        "duration": 0,
        "start_time": "2022-12-02T11:28:26.115Z"
      },
      {
        "duration": 0,
        "start_time": "2022-12-02T11:28:26.116Z"
      },
      {
        "duration": 0,
        "start_time": "2022-12-02T11:28:26.117Z"
      },
      {
        "duration": 0,
        "start_time": "2022-12-02T11:28:26.118Z"
      },
      {
        "duration": 0,
        "start_time": "2022-12-02T11:28:26.119Z"
      },
      {
        "duration": 0,
        "start_time": "2022-12-02T11:28:26.120Z"
      },
      {
        "duration": 1153,
        "start_time": "2022-12-02T11:30:20.705Z"
      },
      {
        "duration": 52,
        "start_time": "2022-12-02T11:30:21.860Z"
      },
      {
        "duration": 33,
        "start_time": "2022-12-02T11:30:21.914Z"
      },
      {
        "duration": 14,
        "start_time": "2022-12-02T11:30:21.950Z"
      },
      {
        "duration": 5,
        "start_time": "2022-12-02T11:30:21.965Z"
      },
      {
        "duration": 126,
        "start_time": "2022-12-02T11:30:21.971Z"
      },
      {
        "duration": 0,
        "start_time": "2022-12-02T11:30:22.100Z"
      },
      {
        "duration": 0,
        "start_time": "2022-12-02T11:30:22.104Z"
      },
      {
        "duration": 0,
        "start_time": "2022-12-02T11:30:22.106Z"
      },
      {
        "duration": 0,
        "start_time": "2022-12-02T11:30:22.107Z"
      },
      {
        "duration": 0,
        "start_time": "2022-12-02T11:30:22.110Z"
      },
      {
        "duration": 0,
        "start_time": "2022-12-02T11:30:22.111Z"
      },
      {
        "duration": 0,
        "start_time": "2022-12-02T11:30:22.113Z"
      },
      {
        "duration": 0,
        "start_time": "2022-12-02T11:30:22.114Z"
      },
      {
        "duration": 0,
        "start_time": "2022-12-02T11:30:22.115Z"
      },
      {
        "duration": 0,
        "start_time": "2022-12-02T11:30:22.116Z"
      },
      {
        "duration": 0,
        "start_time": "2022-12-02T11:30:22.118Z"
      },
      {
        "duration": 0,
        "start_time": "2022-12-02T11:30:22.119Z"
      },
      {
        "duration": 0,
        "start_time": "2022-12-02T11:30:22.120Z"
      },
      {
        "duration": 0,
        "start_time": "2022-12-02T11:30:22.121Z"
      },
      {
        "duration": 0,
        "start_time": "2022-12-02T11:30:22.122Z"
      },
      {
        "duration": 0,
        "start_time": "2022-12-02T11:30:22.123Z"
      },
      {
        "duration": 0,
        "start_time": "2022-12-02T11:30:22.125Z"
      },
      {
        "duration": 0,
        "start_time": "2022-12-02T11:30:22.126Z"
      },
      {
        "duration": 0,
        "start_time": "2022-12-02T11:30:22.127Z"
      },
      {
        "duration": 0,
        "start_time": "2022-12-02T11:30:22.128Z"
      },
      {
        "duration": 0,
        "start_time": "2022-12-02T11:30:22.132Z"
      },
      {
        "duration": 0,
        "start_time": "2022-12-02T11:30:22.133Z"
      },
      {
        "duration": 0,
        "start_time": "2022-12-02T11:30:22.133Z"
      },
      {
        "duration": 0,
        "start_time": "2022-12-02T11:30:22.134Z"
      },
      {
        "duration": 0,
        "start_time": "2022-12-02T11:30:22.135Z"
      },
      {
        "duration": 0,
        "start_time": "2022-12-02T11:30:22.136Z"
      },
      {
        "duration": 0,
        "start_time": "2022-12-02T11:30:22.136Z"
      },
      {
        "duration": 3,
        "start_time": "2022-12-02T11:30:38.995Z"
      },
      {
        "duration": 75,
        "start_time": "2022-12-02T11:30:39.000Z"
      },
      {
        "duration": 24,
        "start_time": "2022-12-02T11:30:39.077Z"
      },
      {
        "duration": 14,
        "start_time": "2022-12-02T11:30:39.104Z"
      },
      {
        "duration": 4,
        "start_time": "2022-12-02T11:30:39.120Z"
      },
      {
        "duration": 21,
        "start_time": "2022-12-02T11:30:39.125Z"
      },
      {
        "duration": 0,
        "start_time": "2022-12-02T11:30:39.149Z"
      },
      {
        "duration": 0,
        "start_time": "2022-12-02T11:30:39.150Z"
      },
      {
        "duration": 0,
        "start_time": "2022-12-02T11:30:39.152Z"
      },
      {
        "duration": 0,
        "start_time": "2022-12-02T11:30:39.153Z"
      },
      {
        "duration": 0,
        "start_time": "2022-12-02T11:30:39.155Z"
      },
      {
        "duration": 0,
        "start_time": "2022-12-02T11:30:39.156Z"
      },
      {
        "duration": 0,
        "start_time": "2022-12-02T11:30:39.158Z"
      },
      {
        "duration": 0,
        "start_time": "2022-12-02T11:30:39.159Z"
      },
      {
        "duration": 0,
        "start_time": "2022-12-02T11:30:39.160Z"
      },
      {
        "duration": 0,
        "start_time": "2022-12-02T11:30:39.162Z"
      },
      {
        "duration": 0,
        "start_time": "2022-12-02T11:30:39.163Z"
      },
      {
        "duration": 0,
        "start_time": "2022-12-02T11:30:39.164Z"
      },
      {
        "duration": 0,
        "start_time": "2022-12-02T11:30:39.205Z"
      },
      {
        "duration": 0,
        "start_time": "2022-12-02T11:30:39.206Z"
      },
      {
        "duration": 0,
        "start_time": "2022-12-02T11:30:39.207Z"
      },
      {
        "duration": 0,
        "start_time": "2022-12-02T11:30:39.208Z"
      },
      {
        "duration": 0,
        "start_time": "2022-12-02T11:30:39.209Z"
      },
      {
        "duration": 0,
        "start_time": "2022-12-02T11:30:39.210Z"
      },
      {
        "duration": 0,
        "start_time": "2022-12-02T11:30:39.212Z"
      },
      {
        "duration": 0,
        "start_time": "2022-12-02T11:30:39.213Z"
      },
      {
        "duration": 0,
        "start_time": "2022-12-02T11:30:39.214Z"
      },
      {
        "duration": 0,
        "start_time": "2022-12-02T11:30:39.215Z"
      },
      {
        "duration": 0,
        "start_time": "2022-12-02T11:30:39.216Z"
      },
      {
        "duration": 0,
        "start_time": "2022-12-02T11:30:39.217Z"
      },
      {
        "duration": 0,
        "start_time": "2022-12-02T11:30:39.218Z"
      },
      {
        "duration": 0,
        "start_time": "2022-12-02T11:30:39.219Z"
      },
      {
        "duration": 0,
        "start_time": "2022-12-02T11:30:39.220Z"
      },
      {
        "duration": 17,
        "start_time": "2022-12-02T11:32:53.969Z"
      },
      {
        "duration": 1130,
        "start_time": "2022-12-02T11:33:25.988Z"
      },
      {
        "duration": 52,
        "start_time": "2022-12-02T11:33:27.120Z"
      },
      {
        "duration": 22,
        "start_time": "2022-12-02T11:33:27.173Z"
      },
      {
        "duration": 12,
        "start_time": "2022-12-02T11:33:27.197Z"
      },
      {
        "duration": 4,
        "start_time": "2022-12-02T11:33:27.211Z"
      },
      {
        "duration": 111,
        "start_time": "2022-12-02T11:33:27.216Z"
      },
      {
        "duration": 0,
        "start_time": "2022-12-02T11:33:27.329Z"
      },
      {
        "duration": 0,
        "start_time": "2022-12-02T11:33:27.330Z"
      },
      {
        "duration": 0,
        "start_time": "2022-12-02T11:33:27.331Z"
      },
      {
        "duration": 0,
        "start_time": "2022-12-02T11:33:27.332Z"
      },
      {
        "duration": 0,
        "start_time": "2022-12-02T11:33:27.333Z"
      },
      {
        "duration": 0,
        "start_time": "2022-12-02T11:33:27.334Z"
      },
      {
        "duration": 0,
        "start_time": "2022-12-02T11:33:27.335Z"
      },
      {
        "duration": 0,
        "start_time": "2022-12-02T11:33:27.336Z"
      },
      {
        "duration": 0,
        "start_time": "2022-12-02T11:33:27.337Z"
      },
      {
        "duration": 0,
        "start_time": "2022-12-02T11:33:27.338Z"
      },
      {
        "duration": 0,
        "start_time": "2022-12-02T11:33:27.340Z"
      },
      {
        "duration": 0,
        "start_time": "2022-12-02T11:33:27.340Z"
      },
      {
        "duration": 0,
        "start_time": "2022-12-02T11:33:27.342Z"
      },
      {
        "duration": 0,
        "start_time": "2022-12-02T11:33:27.343Z"
      },
      {
        "duration": 0,
        "start_time": "2022-12-02T11:33:27.343Z"
      },
      {
        "duration": 0,
        "start_time": "2022-12-02T11:33:27.344Z"
      },
      {
        "duration": 0,
        "start_time": "2022-12-02T11:33:27.345Z"
      },
      {
        "duration": 0,
        "start_time": "2022-12-02T11:33:27.346Z"
      },
      {
        "duration": 0,
        "start_time": "2022-12-02T11:33:27.347Z"
      },
      {
        "duration": 0,
        "start_time": "2022-12-02T11:33:27.348Z"
      },
      {
        "duration": 0,
        "start_time": "2022-12-02T11:33:27.349Z"
      },
      {
        "duration": 0,
        "start_time": "2022-12-02T11:33:27.350Z"
      },
      {
        "duration": 0,
        "start_time": "2022-12-02T11:33:27.351Z"
      },
      {
        "duration": 0,
        "start_time": "2022-12-02T11:33:27.352Z"
      },
      {
        "duration": 0,
        "start_time": "2022-12-02T11:33:27.353Z"
      },
      {
        "duration": 0,
        "start_time": "2022-12-02T11:33:27.354Z"
      },
      {
        "duration": 0,
        "start_time": "2022-12-02T11:33:27.355Z"
      },
      {
        "duration": 17,
        "start_time": "2022-12-02T11:34:27.388Z"
      },
      {
        "duration": 15,
        "start_time": "2022-12-02T11:42:27.950Z"
      },
      {
        "duration": 22,
        "start_time": "2022-12-02T11:44:10.146Z"
      },
      {
        "duration": 6,
        "start_time": "2022-12-02T11:44:40.834Z"
      },
      {
        "duration": 4,
        "start_time": "2022-12-02T11:44:49.566Z"
      },
      {
        "duration": 6,
        "start_time": "2022-12-02T11:45:06.938Z"
      },
      {
        "duration": 1156,
        "start_time": "2022-12-02T11:45:21.662Z"
      },
      {
        "duration": 53,
        "start_time": "2022-12-02T11:45:22.821Z"
      },
      {
        "duration": 24,
        "start_time": "2022-12-02T11:45:22.876Z"
      },
      {
        "duration": 13,
        "start_time": "2022-12-02T11:45:22.902Z"
      },
      {
        "duration": 13,
        "start_time": "2022-12-02T11:45:22.917Z"
      },
      {
        "duration": 104,
        "start_time": "2022-12-02T11:45:22.931Z"
      },
      {
        "duration": 0,
        "start_time": "2022-12-02T11:45:23.037Z"
      },
      {
        "duration": 0,
        "start_time": "2022-12-02T11:45:23.038Z"
      },
      {
        "duration": 0,
        "start_time": "2022-12-02T11:45:23.039Z"
      },
      {
        "duration": 0,
        "start_time": "2022-12-02T11:45:23.041Z"
      },
      {
        "duration": 0,
        "start_time": "2022-12-02T11:45:23.042Z"
      },
      {
        "duration": 0,
        "start_time": "2022-12-02T11:45:23.043Z"
      },
      {
        "duration": 0,
        "start_time": "2022-12-02T11:45:23.044Z"
      },
      {
        "duration": 0,
        "start_time": "2022-12-02T11:45:23.046Z"
      },
      {
        "duration": 0,
        "start_time": "2022-12-02T11:45:23.047Z"
      },
      {
        "duration": 0,
        "start_time": "2022-12-02T11:45:23.049Z"
      },
      {
        "duration": 0,
        "start_time": "2022-12-02T11:45:23.050Z"
      },
      {
        "duration": 0,
        "start_time": "2022-12-02T11:45:23.051Z"
      },
      {
        "duration": 0,
        "start_time": "2022-12-02T11:45:23.053Z"
      },
      {
        "duration": 0,
        "start_time": "2022-12-02T11:45:23.055Z"
      },
      {
        "duration": 0,
        "start_time": "2022-12-02T11:45:23.056Z"
      },
      {
        "duration": 0,
        "start_time": "2022-12-02T11:45:23.057Z"
      },
      {
        "duration": 0,
        "start_time": "2022-12-02T11:45:23.058Z"
      },
      {
        "duration": 0,
        "start_time": "2022-12-02T11:45:23.060Z"
      },
      {
        "duration": 0,
        "start_time": "2022-12-02T11:45:23.061Z"
      },
      {
        "duration": 0,
        "start_time": "2022-12-02T11:45:23.063Z"
      },
      {
        "duration": 0,
        "start_time": "2022-12-02T11:45:23.064Z"
      },
      {
        "duration": 0,
        "start_time": "2022-12-02T11:45:23.105Z"
      },
      {
        "duration": 0,
        "start_time": "2022-12-02T11:45:23.107Z"
      },
      {
        "duration": 0,
        "start_time": "2022-12-02T11:45:23.109Z"
      },
      {
        "duration": 0,
        "start_time": "2022-12-02T11:45:23.110Z"
      },
      {
        "duration": 0,
        "start_time": "2022-12-02T11:45:23.112Z"
      },
      {
        "duration": 0,
        "start_time": "2022-12-02T11:45:23.113Z"
      },
      {
        "duration": 0,
        "start_time": "2022-12-02T11:45:23.114Z"
      },
      {
        "duration": 5,
        "start_time": "2022-12-02T11:47:00.934Z"
      },
      {
        "duration": 4,
        "start_time": "2022-12-02T11:47:28.833Z"
      },
      {
        "duration": 26,
        "start_time": "2022-12-02T11:47:32.882Z"
      },
      {
        "duration": 5,
        "start_time": "2022-12-02T11:52:21.575Z"
      },
      {
        "duration": 6,
        "start_time": "2022-12-02T11:55:14.090Z"
      },
      {
        "duration": 14,
        "start_time": "2022-12-02T11:55:18.083Z"
      },
      {
        "duration": 6,
        "start_time": "2022-12-02T11:56:22.242Z"
      },
      {
        "duration": 6,
        "start_time": "2022-12-02T11:56:26.240Z"
      },
      {
        "duration": 5,
        "start_time": "2022-12-02T11:57:05.821Z"
      },
      {
        "duration": 7,
        "start_time": "2022-12-02T11:57:06.883Z"
      },
      {
        "duration": 7,
        "start_time": "2022-12-02T11:57:21.765Z"
      },
      {
        "duration": 6,
        "start_time": "2022-12-02T11:57:41.335Z"
      },
      {
        "duration": 1115,
        "start_time": "2022-12-02T11:57:49.427Z"
      },
      {
        "duration": 51,
        "start_time": "2022-12-02T11:57:50.544Z"
      },
      {
        "duration": 23,
        "start_time": "2022-12-02T11:57:50.597Z"
      },
      {
        "duration": 16,
        "start_time": "2022-12-02T11:57:50.622Z"
      },
      {
        "duration": 4,
        "start_time": "2022-12-02T11:57:50.639Z"
      },
      {
        "duration": 9,
        "start_time": "2022-12-02T11:57:50.645Z"
      },
      {
        "duration": 20,
        "start_time": "2022-12-02T11:57:50.655Z"
      },
      {
        "duration": 134,
        "start_time": "2022-12-02T11:57:50.677Z"
      },
      {
        "duration": 0,
        "start_time": "2022-12-02T11:57:50.814Z"
      },
      {
        "duration": 0,
        "start_time": "2022-12-02T11:57:50.814Z"
      },
      {
        "duration": 0,
        "start_time": "2022-12-02T11:57:50.815Z"
      },
      {
        "duration": 0,
        "start_time": "2022-12-02T11:57:50.816Z"
      },
      {
        "duration": 0,
        "start_time": "2022-12-02T11:57:50.817Z"
      },
      {
        "duration": 0,
        "start_time": "2022-12-02T11:57:50.818Z"
      },
      {
        "duration": 0,
        "start_time": "2022-12-02T11:57:50.819Z"
      },
      {
        "duration": 0,
        "start_time": "2022-12-02T11:57:50.821Z"
      },
      {
        "duration": 0,
        "start_time": "2022-12-02T11:57:50.822Z"
      },
      {
        "duration": 0,
        "start_time": "2022-12-02T11:57:50.823Z"
      },
      {
        "duration": 0,
        "start_time": "2022-12-02T11:57:50.824Z"
      },
      {
        "duration": 0,
        "start_time": "2022-12-02T11:57:50.824Z"
      },
      {
        "duration": 0,
        "start_time": "2022-12-02T11:57:50.825Z"
      },
      {
        "duration": 0,
        "start_time": "2022-12-02T11:57:50.826Z"
      },
      {
        "duration": 0,
        "start_time": "2022-12-02T11:57:50.827Z"
      },
      {
        "duration": 0,
        "start_time": "2022-12-02T11:57:50.828Z"
      },
      {
        "duration": 0,
        "start_time": "2022-12-02T11:57:50.829Z"
      },
      {
        "duration": 0,
        "start_time": "2022-12-02T11:57:50.830Z"
      },
      {
        "duration": 0,
        "start_time": "2022-12-02T11:57:50.831Z"
      },
      {
        "duration": 0,
        "start_time": "2022-12-02T11:57:50.832Z"
      },
      {
        "duration": 0,
        "start_time": "2022-12-02T11:57:50.833Z"
      },
      {
        "duration": 0,
        "start_time": "2022-12-02T11:57:50.834Z"
      },
      {
        "duration": 0,
        "start_time": "2022-12-02T11:57:50.835Z"
      },
      {
        "duration": 6,
        "start_time": "2022-12-02T11:58:48.935Z"
      },
      {
        "duration": 40,
        "start_time": "2022-12-02T12:14:23.971Z"
      },
      {
        "duration": 25,
        "start_time": "2022-12-02T12:14:30.121Z"
      },
      {
        "duration": 44,
        "start_time": "2022-12-02T12:15:16.648Z"
      },
      {
        "duration": 34,
        "start_time": "2022-12-02T12:15:54.112Z"
      },
      {
        "duration": 16,
        "start_time": "2022-12-02T12:15:58.465Z"
      },
      {
        "duration": 10,
        "start_time": "2022-12-02T12:16:00.453Z"
      },
      {
        "duration": 3,
        "start_time": "2022-12-02T12:16:05.544Z"
      },
      {
        "duration": 82,
        "start_time": "2022-12-02T12:16:05.549Z"
      },
      {
        "duration": 19,
        "start_time": "2022-12-02T12:16:05.633Z"
      },
      {
        "duration": 41,
        "start_time": "2022-12-02T12:16:05.653Z"
      },
      {
        "duration": 26,
        "start_time": "2022-12-02T12:16:05.696Z"
      },
      {
        "duration": 32,
        "start_time": "2022-12-02T12:16:05.723Z"
      },
      {
        "duration": 51,
        "start_time": "2022-12-02T12:16:05.757Z"
      },
      {
        "duration": 42,
        "start_time": "2022-12-02T12:16:05.810Z"
      },
      {
        "duration": 31,
        "start_time": "2022-12-02T12:16:05.854Z"
      },
      {
        "duration": 34,
        "start_time": "2022-12-02T12:16:05.887Z"
      },
      {
        "duration": 56,
        "start_time": "2022-12-02T12:16:05.924Z"
      },
      {
        "duration": 183,
        "start_time": "2022-12-02T12:16:05.982Z"
      },
      {
        "duration": 8,
        "start_time": "2022-12-02T12:16:06.166Z"
      },
      {
        "duration": 831,
        "start_time": "2022-12-02T12:16:06.175Z"
      },
      {
        "duration": 169,
        "start_time": "2022-12-02T12:16:07.008Z"
      },
      {
        "duration": 127,
        "start_time": "2022-12-02T12:16:07.179Z"
      },
      {
        "duration": 176,
        "start_time": "2022-12-02T12:16:07.308Z"
      },
      {
        "duration": 194,
        "start_time": "2022-12-02T12:16:07.486Z"
      },
      {
        "duration": 213,
        "start_time": "2022-12-02T12:16:07.682Z"
      },
      {
        "duration": 163,
        "start_time": "2022-12-02T12:16:07.905Z"
      },
      {
        "duration": 313,
        "start_time": "2022-12-02T12:16:08.071Z"
      },
      {
        "duration": 187,
        "start_time": "2022-12-02T12:16:08.386Z"
      },
      {
        "duration": 34,
        "start_time": "2022-12-02T12:16:08.575Z"
      },
      {
        "duration": 540,
        "start_time": "2022-12-02T12:16:08.611Z"
      },
      {
        "duration": 164,
        "start_time": "2022-12-02T12:16:09.152Z"
      },
      {
        "duration": 164,
        "start_time": "2022-12-02T12:16:09.318Z"
      },
      {
        "duration": 7,
        "start_time": "2022-12-02T12:16:09.483Z"
      },
      {
        "duration": 323,
        "start_time": "2022-12-02T12:16:09.491Z"
      },
      {
        "duration": 18,
        "start_time": "2022-12-02T12:16:09.817Z"
      },
      {
        "duration": 21485,
        "start_time": "2022-12-02T12:16:09.836Z"
      },
      {
        "duration": 78,
        "start_time": "2022-12-02T12:16:31.323Z"
      },
      {
        "duration": 471,
        "start_time": "2022-12-02T12:17:19.024Z"
      },
      {
        "duration": 292,
        "start_time": "2022-12-02T12:17:29.734Z"
      },
      {
        "duration": 314,
        "start_time": "2022-12-02T12:17:37.533Z"
      },
      {
        "duration": 1085,
        "start_time": "2022-12-02T12:18:28.158Z"
      },
      {
        "duration": 54,
        "start_time": "2022-12-02T12:18:29.245Z"
      },
      {
        "duration": 22,
        "start_time": "2022-12-02T12:18:29.300Z"
      },
      {
        "duration": 13,
        "start_time": "2022-12-02T12:18:37.922Z"
      },
      {
        "duration": 5,
        "start_time": "2022-12-02T12:18:44.868Z"
      },
      {
        "duration": 7,
        "start_time": "2022-12-02T12:18:46.186Z"
      },
      {
        "duration": 106,
        "start_time": "2022-12-02T12:20:24.873Z"
      },
      {
        "duration": 11,
        "start_time": "2022-12-02T12:20:33.232Z"
      },
      {
        "duration": 13,
        "start_time": "2022-12-02T12:21:49.031Z"
      },
      {
        "duration": 6,
        "start_time": "2022-12-02T12:25:23.064Z"
      },
      {
        "duration": 9,
        "start_time": "2022-12-02T12:25:26.576Z"
      },
      {
        "duration": 7,
        "start_time": "2022-12-02T12:25:27.682Z"
      },
      {
        "duration": 29,
        "start_time": "2022-12-02T12:25:28.499Z"
      },
      {
        "duration": 162,
        "start_time": "2022-12-02T12:25:47.744Z"
      },
      {
        "duration": 8,
        "start_time": "2022-12-02T12:25:49.006Z"
      },
      {
        "duration": 841,
        "start_time": "2022-12-02T12:25:49.494Z"
      },
      {
        "duration": 132,
        "start_time": "2022-12-02T12:25:50.497Z"
      },
      {
        "duration": 131,
        "start_time": "2022-12-02T12:25:51.330Z"
      },
      {
        "duration": 152,
        "start_time": "2022-12-02T12:25:51.883Z"
      },
      {
        "duration": 154,
        "start_time": "2022-12-02T12:25:52.324Z"
      },
      {
        "duration": 130,
        "start_time": "2022-12-02T12:25:52.984Z"
      },
      {
        "duration": 148,
        "start_time": "2022-12-02T12:25:53.486Z"
      },
      {
        "duration": 283,
        "start_time": "2022-12-02T12:25:54.066Z"
      },
      {
        "duration": 147,
        "start_time": "2022-12-02T12:25:55.021Z"
      },
      {
        "duration": 34,
        "start_time": "2022-12-02T12:25:56.219Z"
      },
      {
        "duration": 557,
        "start_time": "2022-12-02T12:26:01.577Z"
      },
      {
        "duration": 188,
        "start_time": "2022-12-02T12:26:02.410Z"
      },
      {
        "duration": 207,
        "start_time": "2022-12-02T12:26:03.971Z"
      },
      {
        "duration": 7,
        "start_time": "2022-12-02T12:26:05.110Z"
      },
      {
        "duration": 308,
        "start_time": "2022-12-02T12:26:05.759Z"
      },
      {
        "duration": 25,
        "start_time": "2022-12-02T12:26:07.506Z"
      },
      {
        "duration": 1159,
        "start_time": "2022-12-02T12:26:09.278Z"
      },
      {
        "duration": 900,
        "start_time": "2022-12-02T12:26:23.401Z"
      },
      {
        "duration": 984,
        "start_time": "2022-12-02T12:26:47.545Z"
      },
      {
        "duration": 941,
        "start_time": "2022-12-02T12:26:56.876Z"
      },
      {
        "duration": 71,
        "start_time": "2022-12-02T12:28:20.332Z"
      },
      {
        "duration": 937,
        "start_time": "2022-12-02T12:28:24.118Z"
      },
      {
        "duration": 128,
        "start_time": "2022-12-02T12:44:54.036Z"
      },
      {
        "duration": 275,
        "start_time": "2022-12-02T12:45:26.132Z"
      },
      {
        "duration": 122,
        "start_time": "2022-12-02T12:45:46.972Z"
      },
      {
        "duration": 23,
        "start_time": "2022-12-02T12:48:04.234Z"
      },
      {
        "duration": 9,
        "start_time": "2022-12-02T12:48:42.325Z"
      },
      {
        "duration": 8,
        "start_time": "2022-12-02T12:49:07.623Z"
      },
      {
        "duration": 9,
        "start_time": "2022-12-02T12:53:46.943Z"
      },
      {
        "duration": 5,
        "start_time": "2022-12-02T12:54:18.848Z"
      },
      {
        "duration": 253,
        "start_time": "2022-12-02T12:55:15.054Z"
      },
      {
        "duration": 6,
        "start_time": "2022-12-02T12:56:36.962Z"
      },
      {
        "duration": 270,
        "start_time": "2022-12-02T12:59:13.152Z"
      },
      {
        "duration": 101,
        "start_time": "2022-12-02T13:05:10.931Z"
      },
      {
        "duration": 1416,
        "start_time": "2022-12-02T13:05:21.389Z"
      },
      {
        "duration": 1250,
        "start_time": "2022-12-02T13:05:48.592Z"
      },
      {
        "duration": 1238,
        "start_time": "2022-12-02T13:06:24.581Z"
      },
      {
        "duration": 14,
        "start_time": "2022-12-02T13:07:56.525Z"
      },
      {
        "duration": 432,
        "start_time": "2022-12-02T13:13:44.678Z"
      },
      {
        "duration": 70,
        "start_time": "2022-12-02T13:15:38.373Z"
      },
      {
        "duration": 23,
        "start_time": "2022-12-02T13:19:12.433Z"
      },
      {
        "duration": 369,
        "start_time": "2022-12-02T13:39:04.869Z"
      },
      {
        "duration": 397,
        "start_time": "2022-12-02T13:39:18.847Z"
      },
      {
        "duration": 21,
        "start_time": "2022-12-02T13:39:38.007Z"
      },
      {
        "duration": 15,
        "start_time": "2022-12-02T13:43:45.728Z"
      },
      {
        "duration": 1669,
        "start_time": "2022-12-02T13:46:17.504Z"
      },
      {
        "duration": 14,
        "start_time": "2022-12-02T13:46:34.474Z"
      },
      {
        "duration": 19,
        "start_time": "2022-12-02T13:47:09.016Z"
      },
      {
        "duration": 529,
        "start_time": "2022-12-02T13:47:41.983Z"
      },
      {
        "duration": 502,
        "start_time": "2022-12-02T13:50:14.071Z"
      },
      {
        "duration": 514,
        "start_time": "2022-12-02T13:50:33.314Z"
      },
      {
        "duration": 76,
        "start_time": "2022-12-02T13:51:46.098Z"
      },
      {
        "duration": 480,
        "start_time": "2022-12-02T13:56:38.121Z"
      },
      {
        "duration": 420,
        "start_time": "2022-12-02T13:56:40.424Z"
      },
      {
        "duration": 419,
        "start_time": "2022-12-02T13:56:41.396Z"
      },
      {
        "duration": 1246,
        "start_time": "2022-12-02T14:04:57.776Z"
      },
      {
        "duration": 1156,
        "start_time": "2022-12-02T14:05:55.690Z"
      },
      {
        "duration": 1143,
        "start_time": "2022-12-02T14:06:17.626Z"
      },
      {
        "duration": 17,
        "start_time": "2022-12-02T14:16:13.848Z"
      },
      {
        "duration": 19,
        "start_time": "2022-12-02T14:16:51.735Z"
      },
      {
        "duration": 67,
        "start_time": "2022-12-02T14:17:53.524Z"
      },
      {
        "duration": 153,
        "start_time": "2022-12-02T14:18:34.096Z"
      },
      {
        "duration": 303,
        "start_time": "2022-12-02T14:21:15.218Z"
      },
      {
        "duration": 9,
        "start_time": "2022-12-02T14:21:28.767Z"
      },
      {
        "duration": 256,
        "start_time": "2022-12-02T14:22:44.484Z"
      },
      {
        "duration": 1196,
        "start_time": "2022-12-02T14:23:21.494Z"
      },
      {
        "duration": 7600,
        "start_time": "2022-12-02T14:23:50.687Z"
      },
      {
        "duration": 178,
        "start_time": "2022-12-02T14:37:46.897Z"
      },
      {
        "duration": 7602,
        "start_time": "2022-12-02T14:39:48.790Z"
      },
      {
        "duration": 7603,
        "start_time": "2022-12-02T14:49:57.716Z"
      },
      {
        "duration": 426,
        "start_time": "2022-12-02T14:50:22.483Z"
      },
      {
        "duration": 46,
        "start_time": "2022-12-03T16:25:02.739Z"
      },
      {
        "duration": 1302,
        "start_time": "2022-12-03T16:25:37.164Z"
      },
      {
        "duration": 197,
        "start_time": "2022-12-03T16:25:38.467Z"
      },
      {
        "duration": 24,
        "start_time": "2022-12-03T16:25:38.665Z"
      },
      {
        "duration": 13,
        "start_time": "2022-12-03T16:25:38.691Z"
      },
      {
        "duration": 4,
        "start_time": "2022-12-03T16:25:38.706Z"
      },
      {
        "duration": 9,
        "start_time": "2022-12-03T16:25:38.711Z"
      },
      {
        "duration": 7,
        "start_time": "2022-12-03T16:25:38.722Z"
      },
      {
        "duration": 9,
        "start_time": "2022-12-03T16:25:38.731Z"
      },
      {
        "duration": 8,
        "start_time": "2022-12-03T16:25:38.742Z"
      },
      {
        "duration": 36,
        "start_time": "2022-12-03T16:25:38.752Z"
      },
      {
        "duration": 160,
        "start_time": "2022-12-03T16:25:38.790Z"
      },
      {
        "duration": 6,
        "start_time": "2022-12-03T16:25:38.952Z"
      },
      {
        "duration": 812,
        "start_time": "2022-12-03T16:25:38.959Z"
      },
      {
        "duration": 147,
        "start_time": "2022-12-03T16:25:39.777Z"
      },
      {
        "duration": 142,
        "start_time": "2022-12-03T16:25:39.926Z"
      },
      {
        "duration": 154,
        "start_time": "2022-12-03T16:25:40.078Z"
      },
      {
        "duration": 155,
        "start_time": "2022-12-03T16:25:40.233Z"
      },
      {
        "duration": 147,
        "start_time": "2022-12-03T16:25:40.390Z"
      },
      {
        "duration": 163,
        "start_time": "2022-12-03T16:25:40.539Z"
      },
      {
        "duration": 258,
        "start_time": "2022-12-03T16:25:40.704Z"
      },
      {
        "duration": 175,
        "start_time": "2022-12-03T16:25:40.964Z"
      },
      {
        "duration": 24,
        "start_time": "2022-12-03T16:25:41.141Z"
      },
      {
        "duration": 517,
        "start_time": "2022-12-03T16:25:41.177Z"
      },
      {
        "duration": 163,
        "start_time": "2022-12-03T16:25:41.696Z"
      },
      {
        "duration": 154,
        "start_time": "2022-12-03T16:25:41.860Z"
      },
      {
        "duration": 7,
        "start_time": "2022-12-03T16:25:42.016Z"
      },
      {
        "duration": 293,
        "start_time": "2022-12-03T16:25:42.025Z"
      },
      {
        "duration": 17,
        "start_time": "2022-12-03T16:25:42.319Z"
      },
      {
        "duration": 878,
        "start_time": "2022-12-03T16:25:42.338Z"
      },
      {
        "duration": 241,
        "start_time": "2022-12-03T16:25:43.218Z"
      },
      {
        "duration": 6,
        "start_time": "2022-12-03T16:25:43.461Z"
      },
      {
        "duration": 400,
        "start_time": "2022-12-03T16:25:43.469Z"
      },
      {
        "duration": 587,
        "start_time": "2022-12-03T16:25:43.871Z"
      },
      {
        "duration": 610,
        "start_time": "2022-12-03T16:25:44.460Z"
      },
      {
        "duration": 518,
        "start_time": "2022-12-03T16:25:45.072Z"
      },
      {
        "duration": 467,
        "start_time": "2022-12-03T16:25:45.592Z"
      },
      {
        "duration": 440,
        "start_time": "2022-12-03T16:25:46.061Z"
      },
      {
        "duration": 432,
        "start_time": "2022-12-03T16:25:46.503Z"
      },
      {
        "duration": 8,
        "start_time": "2022-12-03T16:25:46.938Z"
      },
      {
        "duration": 34,
        "start_time": "2022-12-03T16:25:46.948Z"
      },
      {
        "duration": 86,
        "start_time": "2022-12-03T16:25:46.986Z"
      },
      {
        "duration": 33,
        "start_time": "2022-12-03T16:27:11.450Z"
      },
      {
        "duration": 363,
        "start_time": "2022-12-03T16:28:11.630Z"
      },
      {
        "duration": 21,
        "start_time": "2022-12-03T16:28:26.629Z"
      },
      {
        "duration": 27,
        "start_time": "2022-12-03T16:28:47.150Z"
      },
      {
        "duration": 25,
        "start_time": "2022-12-03T16:28:51.883Z"
      },
      {
        "duration": 1262,
        "start_time": "2022-12-03T16:29:07.489Z"
      },
      {
        "duration": 276,
        "start_time": "2022-12-03T16:29:54.440Z"
      },
      {
        "duration": 25,
        "start_time": "2022-12-03T16:30:17.373Z"
      },
      {
        "duration": 21,
        "start_time": "2022-12-03T16:30:30.043Z"
      },
      {
        "duration": 11,
        "start_time": "2022-12-03T16:32:56.525Z"
      },
      {
        "duration": 6,
        "start_time": "2022-12-03T16:33:10.652Z"
      },
      {
        "duration": 71,
        "start_time": "2022-12-03T16:38:40.293Z"
      },
      {
        "duration": 447,
        "start_time": "2022-12-03T16:38:49.165Z"
      },
      {
        "duration": 451,
        "start_time": "2022-12-03T16:39:22.405Z"
      },
      {
        "duration": 552,
        "start_time": "2022-12-03T16:39:33.471Z"
      },
      {
        "duration": 494,
        "start_time": "2022-12-03T16:39:43.862Z"
      },
      {
        "duration": 549,
        "start_time": "2022-12-03T16:41:26.376Z"
      },
      {
        "duration": 428,
        "start_time": "2022-12-03T16:41:48.100Z"
      },
      {
        "duration": 22,
        "start_time": "2022-12-03T17:22:46.350Z"
      },
      {
        "duration": 3,
        "start_time": "2022-12-03T17:24:20.055Z"
      },
      {
        "duration": 15,
        "start_time": "2022-12-03T17:31:41.639Z"
      },
      {
        "duration": 18,
        "start_time": "2022-12-03T17:48:33.748Z"
      },
      {
        "duration": 1088,
        "start_time": "2022-12-03T18:36:17.409Z"
      },
      {
        "duration": 57,
        "start_time": "2022-12-03T18:36:18.500Z"
      },
      {
        "duration": 29,
        "start_time": "2022-12-03T18:36:18.559Z"
      },
      {
        "duration": 13,
        "start_time": "2022-12-03T18:36:18.589Z"
      },
      {
        "duration": 5,
        "start_time": "2022-12-03T18:36:18.604Z"
      },
      {
        "duration": 10,
        "start_time": "2022-12-03T18:36:18.611Z"
      },
      {
        "duration": 7,
        "start_time": "2022-12-03T18:36:18.623Z"
      },
      {
        "duration": 9,
        "start_time": "2022-12-03T18:36:18.632Z"
      },
      {
        "duration": 7,
        "start_time": "2022-12-03T18:36:18.642Z"
      },
      {
        "duration": 25,
        "start_time": "2022-12-03T18:36:18.678Z"
      },
      {
        "duration": 177,
        "start_time": "2022-12-03T18:36:18.704Z"
      },
      {
        "duration": 7,
        "start_time": "2022-12-03T18:36:18.883Z"
      },
      {
        "duration": 926,
        "start_time": "2022-12-03T18:36:18.892Z"
      },
      {
        "duration": 159,
        "start_time": "2022-12-03T18:36:19.820Z"
      },
      {
        "duration": 147,
        "start_time": "2022-12-03T18:36:19.981Z"
      },
      {
        "duration": 179,
        "start_time": "2022-12-03T18:36:20.130Z"
      },
      {
        "duration": 167,
        "start_time": "2022-12-03T18:36:20.311Z"
      },
      {
        "duration": 154,
        "start_time": "2022-12-03T18:36:20.479Z"
      },
      {
        "duration": 165,
        "start_time": "2022-12-03T18:36:20.635Z"
      },
      {
        "duration": 267,
        "start_time": "2022-12-03T18:36:20.802Z"
      },
      {
        "duration": 171,
        "start_time": "2022-12-03T18:36:21.070Z"
      },
      {
        "duration": 24,
        "start_time": "2022-12-03T18:36:21.242Z"
      },
      {
        "duration": 510,
        "start_time": "2022-12-03T18:36:21.268Z"
      },
      {
        "duration": 166,
        "start_time": "2022-12-03T18:36:21.779Z"
      },
      {
        "duration": 160,
        "start_time": "2022-12-03T18:36:21.947Z"
      },
      {
        "duration": 7,
        "start_time": "2022-12-03T18:36:22.108Z"
      },
      {
        "duration": 285,
        "start_time": "2022-12-03T18:36:22.117Z"
      },
      {
        "duration": 20,
        "start_time": "2022-12-03T18:36:22.405Z"
      },
      {
        "duration": 928,
        "start_time": "2022-12-03T18:36:22.428Z"
      },
      {
        "duration": 249,
        "start_time": "2022-12-03T18:36:23.358Z"
      },
      {
        "duration": 6,
        "start_time": "2022-12-03T18:36:23.608Z"
      },
      {
        "duration": 445,
        "start_time": "2022-12-03T18:36:23.616Z"
      },
      {
        "duration": 539,
        "start_time": "2022-12-03T18:36:24.063Z"
      },
      {
        "duration": 588,
        "start_time": "2022-12-03T18:36:24.604Z"
      },
      {
        "duration": 511,
        "start_time": "2022-12-03T18:36:25.194Z"
      },
      {
        "duration": 467,
        "start_time": "2022-12-03T18:36:25.707Z"
      },
      {
        "duration": 412,
        "start_time": "2022-12-03T18:36:26.177Z"
      },
      {
        "duration": 441,
        "start_time": "2022-12-03T18:36:26.591Z"
      },
      {
        "duration": 478,
        "start_time": "2022-12-03T18:36:27.034Z"
      },
      {
        "duration": 424,
        "start_time": "2022-12-03T18:36:27.514Z"
      },
      {
        "duration": 441,
        "start_time": "2022-12-03T18:36:27.940Z"
      },
      {
        "duration": 72,
        "start_time": "2022-12-03T18:36:28.383Z"
      },
      {
        "duration": 0,
        "start_time": "2022-12-03T18:36:28.457Z"
      },
      {
        "duration": 0,
        "start_time": "2022-12-03T18:36:28.458Z"
      },
      {
        "duration": 0,
        "start_time": "2022-12-03T18:36:28.460Z"
      },
      {
        "duration": 10,
        "start_time": "2022-12-03T18:36:41.490Z"
      },
      {
        "duration": 104,
        "start_time": "2022-12-03T18:36:42.143Z"
      },
      {
        "duration": 25,
        "start_time": "2022-12-03T18:38:19.986Z"
      },
      {
        "duration": 11,
        "start_time": "2022-12-03T18:46:57.013Z"
      },
      {
        "duration": 12,
        "start_time": "2022-12-03T18:47:03.706Z"
      },
      {
        "duration": 6,
        "start_time": "2022-12-03T18:47:03.957Z"
      },
      {
        "duration": 22,
        "start_time": "2022-12-03T18:47:04.638Z"
      },
      {
        "duration": 148,
        "start_time": "2022-12-03T18:47:05.323Z"
      },
      {
        "duration": 8,
        "start_time": "2022-12-03T18:47:05.742Z"
      },
      {
        "duration": 806,
        "start_time": "2022-12-03T18:47:05.939Z"
      },
      {
        "duration": 268,
        "start_time": "2022-12-03T18:47:06.747Z"
      },
      {
        "duration": 138,
        "start_time": "2022-12-03T18:47:07.016Z"
      },
      {
        "duration": 166,
        "start_time": "2022-12-03T18:47:07.156Z"
      },
      {
        "duration": 164,
        "start_time": "2022-12-03T18:47:07.324Z"
      },
      {
        "duration": 166,
        "start_time": "2022-12-03T18:47:07.490Z"
      },
      {
        "duration": 182,
        "start_time": "2022-12-03T18:47:07.658Z"
      },
      {
        "duration": 201,
        "start_time": "2022-12-03T18:47:07.843Z"
      },
      {
        "duration": 174,
        "start_time": "2022-12-03T18:47:08.046Z"
      },
      {
        "duration": 24,
        "start_time": "2022-12-03T18:47:08.222Z"
      },
      {
        "duration": 526,
        "start_time": "2022-12-03T18:47:08.247Z"
      },
      {
        "duration": 166,
        "start_time": "2022-12-03T18:47:08.775Z"
      },
      {
        "duration": 161,
        "start_time": "2022-12-03T18:47:08.943Z"
      },
      {
        "duration": 7,
        "start_time": "2022-12-03T18:47:09.106Z"
      },
      {
        "duration": 307,
        "start_time": "2022-12-03T18:47:09.115Z"
      },
      {
        "duration": 18,
        "start_time": "2022-12-03T18:47:09.424Z"
      },
      {
        "duration": 193,
        "start_time": "2022-12-03T18:47:09.444Z"
      },
      {
        "duration": 258,
        "start_time": "2022-12-03T18:47:09.639Z"
      },
      {
        "duration": 6,
        "start_time": "2022-12-03T18:47:09.900Z"
      },
      {
        "duration": 406,
        "start_time": "2022-12-03T18:47:09.908Z"
      },
      {
        "duration": 512,
        "start_time": "2022-12-03T18:47:10.317Z"
      },
      {
        "duration": 564,
        "start_time": "2022-12-03T18:47:10.830Z"
      },
      {
        "duration": 684,
        "start_time": "2022-12-03T18:47:11.396Z"
      },
      {
        "duration": 475,
        "start_time": "2022-12-03T18:47:12.082Z"
      },
      {
        "duration": 465,
        "start_time": "2022-12-03T18:47:12.559Z"
      },
      {
        "duration": 470,
        "start_time": "2022-12-03T18:47:13.027Z"
      },
      {
        "duration": 488,
        "start_time": "2022-12-03T18:47:13.499Z"
      },
      {
        "duration": 541,
        "start_time": "2022-12-03T18:47:13.989Z"
      },
      {
        "duration": 512,
        "start_time": "2022-12-03T18:47:14.532Z"
      },
      {
        "duration": 72,
        "start_time": "2022-12-03T18:47:15.046Z"
      },
      {
        "duration": 0,
        "start_time": "2022-12-03T18:47:15.121Z"
      },
      {
        "duration": 0,
        "start_time": "2022-12-03T18:47:15.123Z"
      },
      {
        "duration": 0,
        "start_time": "2022-12-03T18:47:15.124Z"
      },
      {
        "duration": 0,
        "start_time": "2022-12-03T18:47:15.126Z"
      },
      {
        "duration": 9,
        "start_time": "2022-12-03T18:47:24.929Z"
      },
      {
        "duration": 9,
        "start_time": "2022-12-03T18:47:28.088Z"
      },
      {
        "duration": 10,
        "start_time": "2022-12-03T19:05:09.592Z"
      },
      {
        "duration": 24,
        "start_time": "2022-12-03T19:19:44.866Z"
      },
      {
        "duration": 23,
        "start_time": "2022-12-03T19:30:07.932Z"
      },
      {
        "duration": 6,
        "start_time": "2022-12-03T19:36:06.828Z"
      },
      {
        "duration": 8,
        "start_time": "2022-12-03T19:36:10.620Z"
      },
      {
        "duration": 6,
        "start_time": "2022-12-03T19:36:10.966Z"
      },
      {
        "duration": 24,
        "start_time": "2022-12-03T19:36:11.220Z"
      },
      {
        "duration": 165,
        "start_time": "2022-12-03T19:36:12.005Z"
      },
      {
        "duration": 8,
        "start_time": "2022-12-03T19:36:12.540Z"
      },
      {
        "duration": 927,
        "start_time": "2022-12-03T19:36:12.767Z"
      },
      {
        "duration": 160,
        "start_time": "2022-12-03T19:36:13.696Z"
      },
      {
        "duration": 212,
        "start_time": "2022-12-03T19:36:13.858Z"
      },
      {
        "duration": 217,
        "start_time": "2022-12-03T19:36:14.077Z"
      },
      {
        "duration": 186,
        "start_time": "2022-12-03T19:36:14.295Z"
      },
      {
        "duration": 177,
        "start_time": "2022-12-03T19:36:14.488Z"
      },
      {
        "duration": 202,
        "start_time": "2022-12-03T19:36:14.668Z"
      },
      {
        "duration": 231,
        "start_time": "2022-12-03T19:36:14.878Z"
      },
      {
        "duration": 209,
        "start_time": "2022-12-03T19:36:15.111Z"
      },
      {
        "duration": 28,
        "start_time": "2022-12-03T19:36:15.323Z"
      },
      {
        "duration": 571,
        "start_time": "2022-12-03T19:36:15.353Z"
      },
      {
        "duration": 323,
        "start_time": "2022-12-03T19:36:15.925Z"
      },
      {
        "duration": 160,
        "start_time": "2022-12-03T19:36:16.250Z"
      },
      {
        "duration": 7,
        "start_time": "2022-12-03T19:36:16.411Z"
      },
      {
        "duration": 295,
        "start_time": "2022-12-03T19:36:16.419Z"
      },
      {
        "duration": 18,
        "start_time": "2022-12-03T19:36:16.716Z"
      },
      {
        "duration": 200,
        "start_time": "2022-12-03T19:36:16.735Z"
      },
      {
        "duration": 270,
        "start_time": "2022-12-03T19:36:16.937Z"
      },
      {
        "duration": 6,
        "start_time": "2022-12-03T19:36:17.208Z"
      },
      {
        "duration": 434,
        "start_time": "2022-12-03T19:36:17.216Z"
      },
      {
        "duration": 521,
        "start_time": "2022-12-03T19:36:17.652Z"
      },
      {
        "duration": 504,
        "start_time": "2022-12-03T19:36:18.177Z"
      },
      {
        "duration": 525,
        "start_time": "2022-12-03T19:36:18.692Z"
      },
      {
        "duration": 487,
        "start_time": "2022-12-03T19:36:19.221Z"
      },
      {
        "duration": 475,
        "start_time": "2022-12-03T19:36:19.710Z"
      },
      {
        "duration": 455,
        "start_time": "2022-12-03T19:36:20.193Z"
      },
      {
        "duration": 463,
        "start_time": "2022-12-03T19:36:20.650Z"
      },
      {
        "duration": 460,
        "start_time": "2022-12-03T19:36:21.115Z"
      },
      {
        "duration": 438,
        "start_time": "2022-12-03T19:36:21.577Z"
      },
      {
        "duration": 94,
        "start_time": "2022-12-03T19:36:22.017Z"
      },
      {
        "duration": 0,
        "start_time": "2022-12-03T19:36:22.112Z"
      },
      {
        "duration": 9,
        "start_time": "2022-12-03T19:36:24.392Z"
      },
      {
        "duration": 53,
        "start_time": "2022-12-04T03:17:18.745Z"
      },
      {
        "duration": 1388,
        "start_time": "2022-12-04T03:17:24.180Z"
      },
      {
        "duration": 204,
        "start_time": "2022-12-04T03:17:25.570Z"
      },
      {
        "duration": 40,
        "start_time": "2022-12-04T03:17:25.776Z"
      },
      {
        "duration": 20,
        "start_time": "2022-12-04T03:17:25.984Z"
      },
      {
        "duration": 5,
        "start_time": "2022-12-04T03:17:27.970Z"
      },
      {
        "duration": 10,
        "start_time": "2022-12-04T03:17:28.927Z"
      },
      {
        "duration": 8,
        "start_time": "2022-12-04T03:17:52.074Z"
      },
      {
        "duration": 75,
        "start_time": "2022-12-04T03:19:40.353Z"
      },
      {
        "duration": 13,
        "start_time": "2022-12-04T03:20:18.294Z"
      },
      {
        "duration": 4,
        "start_time": "2022-12-04T03:20:25.486Z"
      },
      {
        "duration": 48,
        "start_time": "2022-12-04T03:20:27.727Z"
      },
      {
        "duration": 21,
        "start_time": "2022-12-04T03:20:28.006Z"
      },
      {
        "duration": 13,
        "start_time": "2022-12-04T03:20:28.323Z"
      },
      {
        "duration": 5,
        "start_time": "2022-12-04T03:20:29.009Z"
      },
      {
        "duration": 11,
        "start_time": "2022-12-04T03:20:29.574Z"
      },
      {
        "duration": 9,
        "start_time": "2022-12-04T03:20:30.675Z"
      },
      {
        "duration": 9,
        "start_time": "2022-12-04T03:20:32.819Z"
      },
      {
        "duration": 5,
        "start_time": "2022-12-04T03:21:54.672Z"
      },
      {
        "duration": 8,
        "start_time": "2022-12-04T03:22:28.678Z"
      },
      {
        "duration": 10,
        "start_time": "2022-12-04T03:22:30.179Z"
      },
      {
        "duration": 5,
        "start_time": "2022-12-04T03:22:31.461Z"
      },
      {
        "duration": 24,
        "start_time": "2022-12-04T03:22:32.233Z"
      },
      {
        "duration": 164,
        "start_time": "2022-12-04T03:22:50.392Z"
      },
      {
        "duration": 9,
        "start_time": "2022-12-04T03:24:09.925Z"
      },
      {
        "duration": 817,
        "start_time": "2022-12-04T03:24:10.117Z"
      },
      {
        "duration": 148,
        "start_time": "2022-12-04T03:24:10.938Z"
      },
      {
        "duration": 144,
        "start_time": "2022-12-04T03:24:11.088Z"
      },
      {
        "duration": 155,
        "start_time": "2022-12-04T03:24:11.234Z"
      },
      {
        "duration": 170,
        "start_time": "2022-12-04T03:24:11.391Z"
      },
      {
        "duration": 167,
        "start_time": "2022-12-04T03:24:11.563Z"
      },
      {
        "duration": 188,
        "start_time": "2022-12-04T03:24:11.732Z"
      },
      {
        "duration": 278,
        "start_time": "2022-12-04T03:24:11.922Z"
      },
      {
        "duration": 179,
        "start_time": "2022-12-04T03:24:12.202Z"
      },
      {
        "duration": 26,
        "start_time": "2022-12-04T03:24:12.797Z"
      },
      {
        "duration": 597,
        "start_time": "2022-12-04T03:24:13.108Z"
      },
      {
        "duration": 197,
        "start_time": "2022-12-04T03:24:13.760Z"
      },
      {
        "duration": 208,
        "start_time": "2022-12-04T03:24:14.048Z"
      },
      {
        "duration": 7,
        "start_time": "2022-12-04T03:24:14.903Z"
      },
      {
        "duration": 366,
        "start_time": "2022-12-04T03:24:15.195Z"
      },
      {
        "duration": 34,
        "start_time": "2022-12-04T03:24:15.563Z"
      },
      {
        "duration": 209,
        "start_time": "2022-12-04T03:24:16.582Z"
      },
      {
        "duration": 243,
        "start_time": "2022-12-04T03:24:17.426Z"
      },
      {
        "duration": 229,
        "start_time": "2022-12-04T03:26:36.621Z"
      },
      {
        "duration": 248,
        "start_time": "2022-12-04T03:29:40.974Z"
      },
      {
        "duration": 10,
        "start_time": "2022-12-04T03:31:03.242Z"
      },
      {
        "duration": 8,
        "start_time": "2022-12-04T03:31:53.389Z"
      },
      {
        "duration": 436,
        "start_time": "2022-12-04T03:31:54.785Z"
      },
      {
        "duration": 590,
        "start_time": "2022-12-04T03:31:55.834Z"
      },
      {
        "duration": 560,
        "start_time": "2022-12-04T03:31:56.552Z"
      },
      {
        "duration": 496,
        "start_time": "2022-12-04T03:31:57.387Z"
      },
      {
        "duration": 610,
        "start_time": "2022-12-04T03:32:00.357Z"
      },
      {
        "duration": 507,
        "start_time": "2022-12-04T03:32:00.969Z"
      },
      {
        "duration": 489,
        "start_time": "2022-12-04T03:32:01.478Z"
      },
      {
        "duration": 319,
        "start_time": "2022-12-04T03:33:05.444Z"
      },
      {
        "duration": 10,
        "start_time": "2022-12-04T03:37:10.640Z"
      },
      {
        "duration": 15,
        "start_time": "2022-12-04T03:38:10.197Z"
      },
      {
        "duration": 5,
        "start_time": "2022-12-04T03:42:01.780Z"
      },
      {
        "duration": 5,
        "start_time": "2022-12-04T03:42:02.525Z"
      },
      {
        "duration": 1219,
        "start_time": "2022-12-04T03:42:14.722Z"
      },
      {
        "duration": 55,
        "start_time": "2022-12-04T03:42:15.943Z"
      },
      {
        "duration": 26,
        "start_time": "2022-12-04T03:42:15.999Z"
      },
      {
        "duration": 16,
        "start_time": "2022-12-04T03:42:16.027Z"
      },
      {
        "duration": 5,
        "start_time": "2022-12-04T03:42:16.045Z"
      },
      {
        "duration": 32,
        "start_time": "2022-12-04T03:42:16.052Z"
      },
      {
        "duration": 7,
        "start_time": "2022-12-04T03:42:16.086Z"
      },
      {
        "duration": 7,
        "start_time": "2022-12-04T03:42:16.095Z"
      },
      {
        "duration": 11,
        "start_time": "2022-12-04T03:42:16.104Z"
      },
      {
        "duration": 5,
        "start_time": "2022-12-04T03:42:16.117Z"
      },
      {
        "duration": 25,
        "start_time": "2022-12-04T03:42:16.123Z"
      },
      {
        "duration": 182,
        "start_time": "2022-12-04T03:42:16.149Z"
      },
      {
        "duration": 7,
        "start_time": "2022-12-04T03:42:16.333Z"
      },
      {
        "duration": 835,
        "start_time": "2022-12-04T03:42:16.342Z"
      },
      {
        "duration": 136,
        "start_time": "2022-12-04T03:42:17.179Z"
      },
      {
        "duration": 123,
        "start_time": "2022-12-04T03:42:17.317Z"
      },
      {
        "duration": 153,
        "start_time": "2022-12-04T03:42:17.442Z"
      },
      {
        "duration": 146,
        "start_time": "2022-12-04T03:42:17.597Z"
      },
      {
        "duration": 148,
        "start_time": "2022-12-04T03:42:17.744Z"
      },
      {
        "duration": 159,
        "start_time": "2022-12-04T03:42:17.893Z"
      },
      {
        "duration": 247,
        "start_time": "2022-12-04T03:42:18.053Z"
      },
      {
        "duration": 147,
        "start_time": "2022-12-04T03:42:18.302Z"
      },
      {
        "duration": 29,
        "start_time": "2022-12-04T03:42:18.451Z"
      },
      {
        "duration": 498,
        "start_time": "2022-12-04T03:42:18.482Z"
      },
      {
        "duration": 166,
        "start_time": "2022-12-04T03:42:18.981Z"
      },
      {
        "duration": 163,
        "start_time": "2022-12-04T03:42:19.148Z"
      },
      {
        "duration": 7,
        "start_time": "2022-12-04T03:42:19.312Z"
      },
      {
        "duration": 281,
        "start_time": "2022-12-04T03:42:19.322Z"
      },
      {
        "duration": 17,
        "start_time": "2022-12-04T03:42:19.605Z"
      },
      {
        "duration": 193,
        "start_time": "2022-12-04T03:42:19.623Z"
      },
      {
        "duration": 11,
        "start_time": "2022-12-04T03:42:19.818Z"
      },
      {
        "duration": 6,
        "start_time": "2022-12-04T03:42:19.830Z"
      },
      {
        "duration": 400,
        "start_time": "2022-12-04T03:42:19.837Z"
      },
      {
        "duration": 487,
        "start_time": "2022-12-04T03:42:20.239Z"
      },
      {
        "duration": 500,
        "start_time": "2022-12-04T03:42:20.727Z"
      },
      {
        "duration": 501,
        "start_time": "2022-12-04T03:42:21.229Z"
      },
      {
        "duration": 509,
        "start_time": "2022-12-04T03:42:21.731Z"
      },
      {
        "duration": 419,
        "start_time": "2022-12-04T03:42:22.242Z"
      },
      {
        "duration": 426,
        "start_time": "2022-12-04T03:42:22.662Z"
      },
      {
        "duration": 280,
        "start_time": "2022-12-04T03:42:23.089Z"
      },
      {
        "duration": 69,
        "start_time": "2022-12-04T03:42:23.378Z"
      },
      {
        "duration": 0,
        "start_time": "2022-12-04T03:42:23.449Z"
      },
      {
        "duration": 0,
        "start_time": "2022-12-04T03:42:23.450Z"
      },
      {
        "duration": 0,
        "start_time": "2022-12-04T03:42:23.451Z"
      },
      {
        "duration": 0,
        "start_time": "2022-12-04T03:42:23.452Z"
      },
      {
        "duration": 10,
        "start_time": "2022-12-04T03:42:39.357Z"
      },
      {
        "duration": 91,
        "start_time": "2022-12-04T03:46:24.494Z"
      },
      {
        "duration": 13,
        "start_time": "2022-12-04T03:46:39.400Z"
      },
      {
        "duration": 13,
        "start_time": "2022-12-04T03:47:22.907Z"
      },
      {
        "duration": 12,
        "start_time": "2022-12-04T03:50:02.853Z"
      },
      {
        "duration": 23,
        "start_time": "2022-12-04T04:00:29.159Z"
      },
      {
        "duration": 11,
        "start_time": "2022-12-04T04:00:47.919Z"
      },
      {
        "duration": 9,
        "start_time": "2022-12-04T04:01:18.500Z"
      },
      {
        "duration": 5,
        "start_time": "2022-12-04T04:01:40.690Z"
      },
      {
        "duration": 6,
        "start_time": "2022-12-04T04:02:55.696Z"
      },
      {
        "duration": 1163,
        "start_time": "2022-12-04T08:33:24.399Z"
      },
      {
        "duration": 52,
        "start_time": "2022-12-04T08:33:25.564Z"
      },
      {
        "duration": 24,
        "start_time": "2022-12-04T08:33:25.618Z"
      },
      {
        "duration": 14,
        "start_time": "2022-12-04T08:33:25.645Z"
      },
      {
        "duration": 4,
        "start_time": "2022-12-04T08:33:25.660Z"
      },
      {
        "duration": 13,
        "start_time": "2022-12-04T08:33:25.666Z"
      },
      {
        "duration": 31,
        "start_time": "2022-12-04T08:33:25.681Z"
      },
      {
        "duration": 7,
        "start_time": "2022-12-04T08:33:25.714Z"
      },
      {
        "duration": 11,
        "start_time": "2022-12-04T08:33:25.722Z"
      },
      {
        "duration": 4,
        "start_time": "2022-12-04T08:33:25.736Z"
      },
      {
        "duration": 24,
        "start_time": "2022-12-04T08:33:25.741Z"
      },
      {
        "duration": 186,
        "start_time": "2022-12-04T08:33:25.766Z"
      },
      {
        "duration": 7,
        "start_time": "2022-12-04T08:33:25.953Z"
      },
      {
        "duration": 972,
        "start_time": "2022-12-04T08:33:25.961Z"
      },
      {
        "duration": 150,
        "start_time": "2022-12-04T08:33:26.934Z"
      },
      {
        "duration": 148,
        "start_time": "2022-12-04T08:33:27.086Z"
      },
      {
        "duration": 176,
        "start_time": "2022-12-04T08:33:27.236Z"
      },
      {
        "duration": 168,
        "start_time": "2022-12-04T08:33:27.414Z"
      },
      {
        "duration": 155,
        "start_time": "2022-12-04T08:33:27.584Z"
      },
      {
        "duration": 167,
        "start_time": "2022-12-04T08:33:27.741Z"
      },
      {
        "duration": 254,
        "start_time": "2022-12-04T08:33:27.910Z"
      },
      {
        "duration": 172,
        "start_time": "2022-12-04T08:33:28.166Z"
      },
      {
        "duration": 27,
        "start_time": "2022-12-04T08:33:28.339Z"
      },
      {
        "duration": 546,
        "start_time": "2022-12-04T08:33:28.368Z"
      },
      {
        "duration": 176,
        "start_time": "2022-12-04T08:33:28.915Z"
      },
      {
        "duration": 178,
        "start_time": "2022-12-04T08:33:29.092Z"
      },
      {
        "duration": 7,
        "start_time": "2022-12-04T08:33:29.272Z"
      },
      {
        "duration": 332,
        "start_time": "2022-12-04T08:33:29.283Z"
      },
      {
        "duration": 18,
        "start_time": "2022-12-04T08:33:29.616Z"
      },
      {
        "duration": 194,
        "start_time": "2022-12-04T08:33:29.635Z"
      },
      {
        "duration": 11,
        "start_time": "2022-12-04T08:33:29.831Z"
      },
      {
        "duration": 6,
        "start_time": "2022-12-04T08:33:29.843Z"
      },
      {
        "duration": 445,
        "start_time": "2022-12-04T08:33:29.851Z"
      },
      {
        "duration": 545,
        "start_time": "2022-12-04T08:33:30.298Z"
      },
      {
        "duration": 555,
        "start_time": "2022-12-04T08:33:30.845Z"
      },
      {
        "duration": 565,
        "start_time": "2022-12-04T08:33:31.402Z"
      },
      {
        "duration": 600,
        "start_time": "2022-12-04T08:33:31.969Z"
      },
      {
        "duration": 496,
        "start_time": "2022-12-04T08:33:32.571Z"
      },
      {
        "duration": 508,
        "start_time": "2022-12-04T08:33:33.068Z"
      },
      {
        "duration": 313,
        "start_time": "2022-12-04T08:33:33.577Z"
      },
      {
        "duration": 21,
        "start_time": "2022-12-04T08:33:33.892Z"
      },
      {
        "duration": 47,
        "start_time": "2022-12-04T08:33:33.915Z"
      },
      {
        "duration": 186,
        "start_time": "2022-12-04T08:44:37.797Z"
      },
      {
        "duration": 220,
        "start_time": "2022-12-04T08:45:06.428Z"
      },
      {
        "duration": 199,
        "start_time": "2022-12-04T08:46:23.491Z"
      },
      {
        "duration": 47,
        "start_time": "2022-12-04T10:07:17.737Z"
      },
      {
        "duration": 1349,
        "start_time": "2022-12-04T10:07:23.782Z"
      },
      {
        "duration": 118,
        "start_time": "2022-12-04T10:07:25.133Z"
      },
      {
        "duration": 36,
        "start_time": "2022-12-04T10:07:25.253Z"
      },
      {
        "duration": 21,
        "start_time": "2022-12-04T10:07:25.292Z"
      },
      {
        "duration": 5,
        "start_time": "2022-12-04T10:07:27.133Z"
      },
      {
        "duration": 13,
        "start_time": "2022-12-04T10:07:28.362Z"
      },
      {
        "duration": 8,
        "start_time": "2022-12-04T10:07:29.594Z"
      },
      {
        "duration": 7,
        "start_time": "2022-12-04T10:07:30.549Z"
      },
      {
        "duration": 10,
        "start_time": "2022-12-04T10:07:32.064Z"
      },
      {
        "duration": 6,
        "start_time": "2022-12-04T10:07:34.067Z"
      },
      {
        "duration": 26,
        "start_time": "2022-12-04T10:07:34.397Z"
      },
      {
        "duration": 14,
        "start_time": "2022-12-04T10:07:36.654Z"
      },
      {
        "duration": 820,
        "start_time": "2022-12-04T10:13:53.921Z"
      },
      {
        "duration": 262,
        "start_time": "2022-12-04T10:15:03.035Z"
      },
      {
        "duration": 18,
        "start_time": "2022-12-04T10:15:19.198Z"
      },
      {
        "duration": 290,
        "start_time": "2022-12-04T10:15:39.174Z"
      },
      {
        "duration": 657,
        "start_time": "2022-12-04T10:15:50.347Z"
      },
      {
        "duration": 1131,
        "start_time": "2022-12-04T10:16:01.554Z"
      },
      {
        "duration": 334,
        "start_time": "2022-12-04T10:16:18.519Z"
      },
      {
        "duration": 24,
        "start_time": "2022-12-04T10:17:31.433Z"
      },
      {
        "duration": 350,
        "start_time": "2022-12-04T10:17:35.235Z"
      },
      {
        "duration": 56,
        "start_time": "2022-12-04T10:32:10.513Z"
      },
      {
        "duration": 308,
        "start_time": "2022-12-04T10:32:33.176Z"
      },
      {
        "duration": 23,
        "start_time": "2022-12-04T10:33:22.212Z"
      },
      {
        "duration": 297,
        "start_time": "2022-12-04T10:33:23.265Z"
      },
      {
        "duration": 311,
        "start_time": "2022-12-04T10:34:00.962Z"
      },
      {
        "duration": 1146,
        "start_time": "2022-12-04T10:34:21.807Z"
      },
      {
        "duration": 50,
        "start_time": "2022-12-04T10:34:22.955Z"
      },
      {
        "duration": 21,
        "start_time": "2022-12-04T10:34:23.006Z"
      },
      {
        "duration": 13,
        "start_time": "2022-12-04T10:34:23.031Z"
      },
      {
        "duration": 5,
        "start_time": "2022-12-04T10:34:23.045Z"
      },
      {
        "duration": 14,
        "start_time": "2022-12-04T10:34:23.052Z"
      },
      {
        "duration": 6,
        "start_time": "2022-12-04T10:34:23.067Z"
      },
      {
        "duration": 12,
        "start_time": "2022-12-04T10:34:23.074Z"
      },
      {
        "duration": 9,
        "start_time": "2022-12-04T10:34:23.088Z"
      },
      {
        "duration": 22,
        "start_time": "2022-12-04T10:34:23.100Z"
      },
      {
        "duration": 23,
        "start_time": "2022-12-04T10:34:23.123Z"
      },
      {
        "duration": 15,
        "start_time": "2022-12-04T10:34:23.148Z"
      },
      {
        "duration": 171,
        "start_time": "2022-12-04T10:34:23.165Z"
      },
      {
        "duration": 7,
        "start_time": "2022-12-04T10:34:23.338Z"
      },
      {
        "duration": 309,
        "start_time": "2022-12-04T10:34:23.347Z"
      },
      {
        "duration": 145,
        "start_time": "2022-12-04T10:34:23.658Z"
      },
      {
        "duration": 145,
        "start_time": "2022-12-04T10:34:23.805Z"
      },
      {
        "duration": 153,
        "start_time": "2022-12-04T10:34:23.952Z"
      },
      {
        "duration": 157,
        "start_time": "2022-12-04T10:34:24.107Z"
      },
      {
        "duration": 163,
        "start_time": "2022-12-04T10:34:24.266Z"
      },
      {
        "duration": 178,
        "start_time": "2022-12-04T10:34:24.430Z"
      },
      {
        "duration": 254,
        "start_time": "2022-12-04T10:34:24.611Z"
      },
      {
        "duration": 149,
        "start_time": "2022-12-04T10:34:24.866Z"
      },
      {
        "duration": 27,
        "start_time": "2022-12-04T10:34:25.017Z"
      },
      {
        "duration": 362,
        "start_time": "2022-12-04T10:34:25.046Z"
      },
      {
        "duration": 210,
        "start_time": "2022-12-04T10:34:25.410Z"
      },
      {
        "duration": 171,
        "start_time": "2022-12-04T10:34:25.621Z"
      },
      {
        "duration": 163,
        "start_time": "2022-12-04T10:34:25.795Z"
      },
      {
        "duration": 6,
        "start_time": "2022-12-04T10:34:25.960Z"
      },
      {
        "duration": 287,
        "start_time": "2022-12-04T10:34:25.967Z"
      },
      {
        "duration": 17,
        "start_time": "2022-12-04T10:34:26.256Z"
      },
      {
        "duration": 192,
        "start_time": "2022-12-04T10:34:26.275Z"
      },
      {
        "duration": 11,
        "start_time": "2022-12-04T10:34:26.468Z"
      },
      {
        "duration": 6,
        "start_time": "2022-12-04T10:34:26.480Z"
      },
      {
        "duration": 438,
        "start_time": "2022-12-04T10:34:26.487Z"
      },
      {
        "duration": 367,
        "start_time": "2022-12-04T10:34:26.927Z"
      },
      {
        "duration": 367,
        "start_time": "2022-12-04T10:34:27.296Z"
      },
      {
        "duration": 474,
        "start_time": "2022-12-04T10:34:27.665Z"
      },
      {
        "duration": 401,
        "start_time": "2022-12-04T10:34:28.141Z"
      },
      {
        "duration": 404,
        "start_time": "2022-12-04T10:34:28.543Z"
      },
      {
        "duration": 381,
        "start_time": "2022-12-04T10:34:28.949Z"
      },
      {
        "duration": 293,
        "start_time": "2022-12-04T10:34:29.331Z"
      },
      {
        "duration": 13,
        "start_time": "2022-12-04T10:34:29.626Z"
      },
      {
        "duration": 30,
        "start_time": "2022-12-04T10:34:29.640Z"
      },
      {
        "duration": 35,
        "start_time": "2022-12-04T10:35:10.704Z"
      },
      {
        "duration": 300,
        "start_time": "2022-12-04T10:35:11.651Z"
      },
      {
        "duration": 47,
        "start_time": "2022-12-04T10:38:31.843Z"
      },
      {
        "duration": 2,
        "start_time": "2022-12-04T10:38:46.611Z"
      },
      {
        "duration": 45,
        "start_time": "2022-12-04T10:39:09.063Z"
      },
      {
        "duration": 2,
        "start_time": "2022-12-04T10:39:13.085Z"
      },
      {
        "duration": 52,
        "start_time": "2022-12-04T10:43:28.107Z"
      },
      {
        "duration": 16,
        "start_time": "2022-12-04T10:43:35.028Z"
      },
      {
        "duration": 31,
        "start_time": "2022-12-04T10:45:09.299Z"
      },
      {
        "duration": 7,
        "start_time": "2022-12-04T10:49:09.759Z"
      },
      {
        "duration": 279,
        "start_time": "2022-12-04T10:49:10.667Z"
      },
      {
        "duration": 277,
        "start_time": "2022-12-04T10:51:16.262Z"
      },
      {
        "duration": 304,
        "start_time": "2022-12-04T10:51:21.107Z"
      },
      {
        "duration": 289,
        "start_time": "2022-12-04T10:51:25.981Z"
      },
      {
        "duration": 368,
        "start_time": "2022-12-04T10:51:30.976Z"
      },
      {
        "duration": 327,
        "start_time": "2022-12-04T10:51:35.584Z"
      },
      {
        "duration": 360,
        "start_time": "2022-12-04T10:54:21.136Z"
      },
      {
        "duration": 393,
        "start_time": "2022-12-04T10:54:34.401Z"
      },
      {
        "duration": 302,
        "start_time": "2022-12-04T10:56:15.236Z"
      },
      {
        "duration": 274,
        "start_time": "2022-12-04T10:59:52.188Z"
      },
      {
        "duration": 299,
        "start_time": "2022-12-04T11:00:01.646Z"
      },
      {
        "duration": 275,
        "start_time": "2022-12-04T11:00:07.319Z"
      },
      {
        "duration": 279,
        "start_time": "2022-12-04T11:00:14.163Z"
      },
      {
        "duration": 364,
        "start_time": "2022-12-04T11:02:33.325Z"
      },
      {
        "duration": 103,
        "start_time": "2022-12-04T11:03:32.401Z"
      },
      {
        "duration": 15,
        "start_time": "2022-12-04T11:03:41.742Z"
      },
      {
        "duration": 14,
        "start_time": "2022-12-04T11:03:51.635Z"
      },
      {
        "duration": 403,
        "start_time": "2022-12-04T11:04:23.030Z"
      },
      {
        "duration": 200,
        "start_time": "2022-12-04T11:04:40.832Z"
      },
      {
        "duration": 213,
        "start_time": "2022-12-04T11:04:58.192Z"
      },
      {
        "duration": 16,
        "start_time": "2022-12-04T11:05:16.958Z"
      },
      {
        "duration": 172,
        "start_time": "2022-12-04T11:05:20.781Z"
      },
      {
        "duration": 11,
        "start_time": "2022-12-04T11:05:31.739Z"
      },
      {
        "duration": 6,
        "start_time": "2022-12-04T11:05:51.273Z"
      },
      {
        "duration": 381,
        "start_time": "2022-12-04T11:05:54.227Z"
      },
      {
        "duration": 471,
        "start_time": "2022-12-04T11:06:06.899Z"
      },
      {
        "duration": 331,
        "start_time": "2022-12-04T11:06:10.481Z"
      },
      {
        "duration": 341,
        "start_time": "2022-12-04T11:06:13.315Z"
      },
      {
        "duration": 380,
        "start_time": "2022-12-04T11:06:15.454Z"
      },
      {
        "duration": 385,
        "start_time": "2022-12-04T11:06:15.836Z"
      },
      {
        "duration": 379,
        "start_time": "2022-12-04T11:06:16.223Z"
      },
      {
        "duration": 272,
        "start_time": "2022-12-04T11:06:18.156Z"
      },
      {
        "duration": 9,
        "start_time": "2022-12-04T11:06:21.849Z"
      },
      {
        "duration": 11,
        "start_time": "2022-12-04T11:06:24.046Z"
      },
      {
        "duration": 8,
        "start_time": "2022-12-04T11:14:46.588Z"
      },
      {
        "duration": 279,
        "start_time": "2022-12-04T11:15:20.505Z"
      },
      {
        "duration": 259,
        "start_time": "2022-12-04T11:15:35.084Z"
      },
      {
        "duration": 282,
        "start_time": "2022-12-04T11:15:44.212Z"
      },
      {
        "duration": 284,
        "start_time": "2022-12-04T11:16:30.112Z"
      },
      {
        "duration": 261,
        "start_time": "2022-12-04T11:16:36.963Z"
      },
      {
        "duration": 7,
        "start_time": "2022-12-04T11:22:15.322Z"
      },
      {
        "duration": 374,
        "start_time": "2022-12-04T11:22:18.094Z"
      },
      {
        "duration": 379,
        "start_time": "2022-12-04T11:24:18.173Z"
      },
      {
        "duration": 385,
        "start_time": "2022-12-04T11:26:57.436Z"
      },
      {
        "duration": 450,
        "start_time": "2022-12-04T11:28:25.266Z"
      },
      {
        "duration": 3,
        "start_time": "2022-12-04T11:32:56.002Z"
      },
      {
        "duration": 3,
        "start_time": "2022-12-04T11:33:02.256Z"
      },
      {
        "duration": 2,
        "start_time": "2022-12-04T11:33:06.367Z"
      },
      {
        "duration": 2,
        "start_time": "2022-12-04T11:33:09.981Z"
      },
      {
        "duration": 2,
        "start_time": "2022-12-04T11:33:18.745Z"
      },
      {
        "duration": 385,
        "start_time": "2022-12-04T11:41:10.688Z"
      },
      {
        "duration": 576,
        "start_time": "2022-12-04T11:41:14.429Z"
      },
      {
        "duration": 3,
        "start_time": "2022-12-04T11:47:15.570Z"
      },
      {
        "duration": 41,
        "start_time": "2022-12-04T11:51:38.045Z"
      },
      {
        "duration": 48,
        "start_time": "2022-12-04T11:51:54.995Z"
      },
      {
        "duration": 27,
        "start_time": "2022-12-04T11:52:16.966Z"
      },
      {
        "duration": 23,
        "start_time": "2022-12-04T11:52:28.746Z"
      },
      {
        "duration": 10,
        "start_time": "2022-12-04T11:53:25.670Z"
      },
      {
        "duration": 1630,
        "start_time": "2022-12-04T11:55:20.404Z"
      },
      {
        "duration": 1547,
        "start_time": "2022-12-04T12:02:30.620Z"
      },
      {
        "duration": 43,
        "start_time": "2022-12-04T12:04:47.234Z"
      },
      {
        "duration": 56,
        "start_time": "2022-12-04T12:04:59.113Z"
      },
      {
        "duration": 49,
        "start_time": "2022-12-04T12:05:06.897Z"
      },
      {
        "duration": 60,
        "start_time": "2022-12-04T12:05:18.917Z"
      },
      {
        "duration": 300,
        "start_time": "2022-12-04T12:05:24.819Z"
      },
      {
        "duration": 1138,
        "start_time": "2022-12-04T12:07:46.366Z"
      },
      {
        "duration": 22,
        "start_time": "2022-12-04T12:08:59.941Z"
      },
      {
        "duration": 760,
        "start_time": "2022-12-04T12:09:30.718Z"
      },
      {
        "duration": 7,
        "start_time": "2022-12-04T12:09:39.513Z"
      },
      {
        "duration": 1289,
        "start_time": "2022-12-04T13:59:56.425Z"
      },
      {
        "duration": 201,
        "start_time": "2022-12-04T13:59:57.716Z"
      },
      {
        "duration": 30,
        "start_time": "2022-12-04T13:59:57.919Z"
      },
      {
        "duration": 14,
        "start_time": "2022-12-04T13:59:57.951Z"
      },
      {
        "duration": 5,
        "start_time": "2022-12-04T13:59:57.966Z"
      },
      {
        "duration": 14,
        "start_time": "2022-12-04T13:59:57.973Z"
      },
      {
        "duration": 25,
        "start_time": "2022-12-04T13:59:57.989Z"
      },
      {
        "duration": 8,
        "start_time": "2022-12-04T13:59:58.016Z"
      },
      {
        "duration": 11,
        "start_time": "2022-12-04T13:59:58.025Z"
      },
      {
        "duration": 5,
        "start_time": "2022-12-04T13:59:58.039Z"
      },
      {
        "duration": 30,
        "start_time": "2022-12-04T13:59:58.045Z"
      },
      {
        "duration": 39,
        "start_time": "2022-12-04T13:59:58.076Z"
      },
      {
        "duration": 162,
        "start_time": "2022-12-04T13:59:58.117Z"
      },
      {
        "duration": 7,
        "start_time": "2022-12-04T13:59:58.280Z"
      },
      {
        "duration": 314,
        "start_time": "2022-12-04T13:59:58.289Z"
      },
      {
        "duration": 144,
        "start_time": "2022-12-04T13:59:58.605Z"
      },
      {
        "duration": 150,
        "start_time": "2022-12-04T13:59:58.751Z"
      },
      {
        "duration": 163,
        "start_time": "2022-12-04T13:59:58.903Z"
      },
      {
        "duration": 156,
        "start_time": "2022-12-04T13:59:59.067Z"
      },
      {
        "duration": 160,
        "start_time": "2022-12-04T13:59:59.224Z"
      },
      {
        "duration": 164,
        "start_time": "2022-12-04T13:59:59.386Z"
      },
      {
        "duration": 245,
        "start_time": "2022-12-04T13:59:59.552Z"
      },
      {
        "duration": 153,
        "start_time": "2022-12-04T13:59:59.799Z"
      },
      {
        "duration": 25,
        "start_time": "2022-12-04T13:59:59.953Z"
      },
      {
        "duration": 378,
        "start_time": "2022-12-04T13:59:59.979Z"
      },
      {
        "duration": 196,
        "start_time": "2022-12-04T14:00:00.360Z"
      },
      {
        "duration": 2,
        "start_time": "2022-12-04T14:00:00.558Z"
      },
      {
        "duration": 24,
        "start_time": "2022-12-04T14:00:00.563Z"
      },
      {
        "duration": 15,
        "start_time": "2022-12-04T14:00:00.589Z"
      },
      {
        "duration": 216,
        "start_time": "2022-12-04T14:00:00.606Z"
      },
      {
        "duration": 17,
        "start_time": "2022-12-04T14:00:00.824Z"
      },
      {
        "duration": 240,
        "start_time": "2022-12-04T14:00:00.843Z"
      },
      {
        "duration": 13,
        "start_time": "2022-12-04T14:00:01.084Z"
      },
      {
        "duration": 21,
        "start_time": "2022-12-04T14:00:01.099Z"
      },
      {
        "duration": 312,
        "start_time": "2022-12-04T14:00:01.122Z"
      },
      {
        "duration": 325,
        "start_time": "2022-12-04T14:00:01.436Z"
      },
      {
        "duration": 5,
        "start_time": "2022-12-04T14:00:01.763Z"
      },
      {
        "duration": 478,
        "start_time": "2022-12-04T14:00:01.770Z"
      },
      {
        "duration": 1766,
        "start_time": "2022-12-04T14:00:02.250Z"
      },
      {
        "duration": 106,
        "start_time": "2022-12-04T14:00:04.018Z"
      },
      {
        "duration": 0,
        "start_time": "2022-12-04T14:00:04.126Z"
      },
      {
        "duration": 0,
        "start_time": "2022-12-04T14:00:04.127Z"
      },
      {
        "duration": 0,
        "start_time": "2022-12-04T14:00:04.128Z"
      },
      {
        "duration": 77,
        "start_time": "2022-12-04T14:00:57.885Z"
      },
      {
        "duration": 49,
        "start_time": "2022-12-04T19:08:09.277Z"
      },
      {
        "duration": 1278,
        "start_time": "2022-12-04T19:08:28.787Z"
      },
      {
        "duration": 101,
        "start_time": "2022-12-04T19:08:30.068Z"
      },
      {
        "duration": 23,
        "start_time": "2022-12-04T19:08:30.170Z"
      },
      {
        "duration": 55,
        "start_time": "2022-12-04T19:08:30.195Z"
      },
      {
        "duration": 4,
        "start_time": "2022-12-04T19:08:30.941Z"
      },
      {
        "duration": 13,
        "start_time": "2022-12-04T19:08:31.481Z"
      },
      {
        "duration": 7,
        "start_time": "2022-12-04T19:08:31.803Z"
      },
      {
        "duration": 8,
        "start_time": "2022-12-04T19:08:32.434Z"
      },
      {
        "duration": 9,
        "start_time": "2022-12-04T19:08:33.005Z"
      },
      {
        "duration": 5,
        "start_time": "2022-12-04T19:08:33.617Z"
      },
      {
        "duration": 21,
        "start_time": "2022-12-04T19:08:33.881Z"
      },
      {
        "duration": 15,
        "start_time": "2022-12-04T19:08:35.256Z"
      },
      {
        "duration": 150,
        "start_time": "2022-12-04T19:08:37.704Z"
      },
      {
        "duration": 7,
        "start_time": "2022-12-04T19:08:39.100Z"
      },
      {
        "duration": 254,
        "start_time": "2022-12-04T19:08:39.705Z"
      },
      {
        "duration": 114,
        "start_time": "2022-12-04T19:08:42.113Z"
      },
      {
        "duration": 132,
        "start_time": "2022-12-04T19:08:42.367Z"
      },
      {
        "duration": 137,
        "start_time": "2022-12-04T19:08:42.909Z"
      },
      {
        "duration": 140,
        "start_time": "2022-12-04T19:08:43.048Z"
      },
      {
        "duration": 123,
        "start_time": "2022-12-04T19:08:43.189Z"
      },
      {
        "duration": 143,
        "start_time": "2022-12-04T19:08:43.314Z"
      },
      {
        "duration": 231,
        "start_time": "2022-12-04T19:08:43.459Z"
      },
      {
        "duration": 144,
        "start_time": "2022-12-04T19:08:43.692Z"
      },
      {
        "duration": 21,
        "start_time": "2022-12-04T19:08:46.399Z"
      },
      {
        "duration": 306,
        "start_time": "2022-12-04T19:08:50.755Z"
      },
      {
        "duration": 161,
        "start_time": "2022-12-04T19:08:57.174Z"
      },
      {
        "duration": 2,
        "start_time": "2022-12-04T19:09:02.169Z"
      },
      {
        "duration": 2,
        "start_time": "2022-12-04T19:09:02.492Z"
      },
      {
        "duration": 266,
        "start_time": "2022-12-04T19:09:20.213Z"
      },
      {
        "duration": 149,
        "start_time": "2022-12-04T19:09:23.398Z"
      },
      {
        "duration": 5,
        "start_time": "2022-12-04T19:09:31.183Z"
      },
      {
        "duration": 185,
        "start_time": "2022-12-04T19:09:32.846Z"
      },
      {
        "duration": 15,
        "start_time": "2022-12-04T19:09:41.101Z"
      },
      {
        "duration": 176,
        "start_time": "2022-12-04T19:09:42.584Z"
      },
      {
        "duration": 10,
        "start_time": "2022-12-04T19:09:47.332Z"
      },
      {
        "duration": 7,
        "start_time": "2022-12-04T19:09:51.867Z"
      },
      {
        "duration": 259,
        "start_time": "2022-12-04T19:09:52.510Z"
      },
      {
        "duration": 261,
        "start_time": "2022-12-04T19:09:53.241Z"
      },
      {
        "duration": 6,
        "start_time": "2022-12-04T19:10:03.020Z"
      },
      {
        "duration": 418,
        "start_time": "2022-12-04T19:10:04.589Z"
      },
      {
        "duration": 1548,
        "start_time": "2022-12-04T19:10:07.304Z"
      },
      {
        "duration": 60,
        "start_time": "2022-12-04T19:10:13.246Z"
      },
      {
        "duration": 1663,
        "start_time": "2022-12-04T19:10:41.513Z"
      },
      {
        "duration": 941,
        "start_time": "2022-12-04T19:10:54.183Z"
      },
      {
        "duration": 1365,
        "start_time": "2022-12-05T06:45:26.380Z"
      },
      {
        "duration": 198,
        "start_time": "2022-12-05T06:45:27.747Z"
      },
      {
        "duration": 25,
        "start_time": "2022-12-05T06:45:27.947Z"
      },
      {
        "duration": 14,
        "start_time": "2022-12-05T06:45:27.974Z"
      },
      {
        "duration": 4,
        "start_time": "2022-12-05T06:45:27.990Z"
      },
      {
        "duration": 15,
        "start_time": "2022-12-05T06:45:27.996Z"
      },
      {
        "duration": 12,
        "start_time": "2022-12-05T06:45:28.013Z"
      },
      {
        "duration": 8,
        "start_time": "2022-12-05T06:45:28.027Z"
      },
      {
        "duration": 13,
        "start_time": "2022-12-05T06:45:28.037Z"
      },
      {
        "duration": 8,
        "start_time": "2022-12-05T06:45:28.052Z"
      },
      {
        "duration": 30,
        "start_time": "2022-12-05T06:45:28.062Z"
      },
      {
        "duration": 24,
        "start_time": "2022-12-05T06:45:28.093Z"
      },
      {
        "duration": 179,
        "start_time": "2022-12-05T06:45:28.119Z"
      },
      {
        "duration": 7,
        "start_time": "2022-12-05T06:45:28.304Z"
      },
      {
        "duration": 309,
        "start_time": "2022-12-05T06:45:28.312Z"
      },
      {
        "duration": 137,
        "start_time": "2022-12-05T06:45:28.623Z"
      },
      {
        "duration": 135,
        "start_time": "2022-12-05T06:45:28.762Z"
      },
      {
        "duration": 148,
        "start_time": "2022-12-05T06:45:28.904Z"
      },
      {
        "duration": 159,
        "start_time": "2022-12-05T06:45:29.054Z"
      },
      {
        "duration": 145,
        "start_time": "2022-12-05T06:45:29.215Z"
      },
      {
        "duration": 161,
        "start_time": "2022-12-05T06:45:29.362Z"
      },
      {
        "duration": 269,
        "start_time": "2022-12-05T06:45:29.525Z"
      },
      {
        "duration": 150,
        "start_time": "2022-12-05T06:45:29.796Z"
      },
      {
        "duration": 23,
        "start_time": "2022-12-05T06:45:29.948Z"
      },
      {
        "duration": 356,
        "start_time": "2022-12-05T06:45:29.973Z"
      },
      {
        "duration": 190,
        "start_time": "2022-12-05T06:45:30.331Z"
      },
      {
        "duration": 6,
        "start_time": "2022-12-05T06:45:30.523Z"
      },
      {
        "duration": 223,
        "start_time": "2022-12-05T06:45:30.530Z"
      },
      {
        "duration": 17,
        "start_time": "2022-12-05T06:45:30.755Z"
      },
      {
        "duration": 193,
        "start_time": "2022-12-05T06:45:30.774Z"
      },
      {
        "duration": 11,
        "start_time": "2022-12-05T06:45:30.969Z"
      },
      {
        "duration": 45,
        "start_time": "2022-12-05T06:45:30.981Z"
      },
      {
        "duration": 314,
        "start_time": "2022-12-05T06:45:31.028Z"
      },
      {
        "duration": 309,
        "start_time": "2022-12-05T06:45:31.344Z"
      },
      {
        "duration": 5,
        "start_time": "2022-12-05T06:45:31.654Z"
      },
      {
        "duration": 399,
        "start_time": "2022-12-05T06:45:31.661Z"
      },
      {
        "duration": 1696,
        "start_time": "2022-12-05T06:45:32.061Z"
      },
      {
        "duration": 1632,
        "start_time": "2022-12-05T06:45:33.758Z"
      },
      {
        "duration": 1106,
        "start_time": "2022-12-05T06:45:35.392Z"
      },
      {
        "duration": 10,
        "start_time": "2022-12-05T06:45:36.504Z"
      },
      {
        "duration": 46,
        "start_time": "2022-12-05T06:45:36.517Z"
      },
      {
        "duration": 74,
        "start_time": "2022-12-05T06:51:28.725Z"
      },
      {
        "duration": 48,
        "start_time": "2022-12-12T10:56:57.062Z"
      },
      {
        "duration": 1086,
        "start_time": "2022-12-12T10:57:17.661Z"
      },
      {
        "duration": 196,
        "start_time": "2022-12-12T10:57:18.749Z"
      },
      {
        "duration": 24,
        "start_time": "2022-12-12T10:57:18.946Z"
      },
      {
        "duration": 13,
        "start_time": "2022-12-12T10:57:19.721Z"
      },
      {
        "duration": 4,
        "start_time": "2022-12-12T10:57:22.902Z"
      },
      {
        "duration": 58,
        "start_time": "2022-12-12T10:57:29.227Z"
      },
      {
        "duration": 8,
        "start_time": "2022-12-12T10:57:49.686Z"
      },
      {
        "duration": 50,
        "start_time": "2022-12-12T10:57:59.994Z"
      },
      {
        "duration": 19,
        "start_time": "2022-12-12T10:58:00.608Z"
      },
      {
        "duration": 13,
        "start_time": "2022-12-12T10:58:01.508Z"
      },
      {
        "duration": 3,
        "start_time": "2022-12-12T10:58:07.115Z"
      },
      {
        "duration": 21,
        "start_time": "2022-12-12T10:58:16.665Z"
      },
      {
        "duration": 4,
        "start_time": "2022-12-12T10:58:45.779Z"
      },
      {
        "duration": 19,
        "start_time": "2022-12-12T11:13:47.402Z"
      },
      {
        "duration": 3,
        "start_time": "2022-12-12T11:13:54.693Z"
      },
      {
        "duration": 63,
        "start_time": "2022-12-12T11:13:54.890Z"
      },
      {
        "duration": 27,
        "start_time": "2022-12-12T11:13:55.103Z"
      },
      {
        "duration": 13,
        "start_time": "2022-12-12T11:13:55.358Z"
      },
      {
        "duration": 4,
        "start_time": "2022-12-12T11:13:56.845Z"
      },
      {
        "duration": 9,
        "start_time": "2022-12-12T11:13:57.224Z"
      },
      {
        "duration": 13,
        "start_time": "2022-12-12T11:13:57.544Z"
      },
      {
        "duration": 7,
        "start_time": "2022-12-12T11:13:58.369Z"
      },
      {
        "duration": 8,
        "start_time": "2022-12-12T11:13:59.231Z"
      },
      {
        "duration": 5,
        "start_time": "2022-12-12T11:14:00.241Z"
      },
      {
        "duration": 21,
        "start_time": "2022-12-12T11:14:00.682Z"
      },
      {
        "duration": 18,
        "start_time": "2022-12-12T11:14:02.420Z"
      },
      {
        "duration": 158,
        "start_time": "2022-12-12T11:14:04.638Z"
      },
      {
        "duration": 10,
        "start_time": "2022-12-12T11:14:06.205Z"
      },
      {
        "duration": 299,
        "start_time": "2022-12-12T11:14:06.517Z"
      },
      {
        "duration": 135,
        "start_time": "2022-12-12T11:14:07.605Z"
      },
      {
        "duration": 123,
        "start_time": "2022-12-12T11:14:07.960Z"
      },
      {
        "duration": 162,
        "start_time": "2022-12-12T11:14:08.318Z"
      },
      {
        "duration": 140,
        "start_time": "2022-12-12T11:14:08.717Z"
      },
      {
        "duration": 146,
        "start_time": "2022-12-12T11:14:09.102Z"
      },
      {
        "duration": 155,
        "start_time": "2022-12-12T11:14:09.470Z"
      },
      {
        "duration": 246,
        "start_time": "2022-12-12T11:14:09.846Z"
      },
      {
        "duration": 136,
        "start_time": "2022-12-12T11:14:10.218Z"
      },
      {
        "duration": 30,
        "start_time": "2022-12-12T11:14:12.003Z"
      },
      {
        "duration": 367,
        "start_time": "2022-12-12T11:14:14.102Z"
      },
      {
        "duration": 172,
        "start_time": "2022-12-12T11:14:16.527Z"
      },
      {
        "duration": 6,
        "start_time": "2022-12-12T11:14:20.217Z"
      },
      {
        "duration": 172,
        "start_time": "2022-12-12T11:14:21.171Z"
      },
      {
        "duration": 8,
        "start_time": "2022-12-12T11:14:33.758Z"
      },
      {
        "duration": 153,
        "start_time": "2022-12-12T11:14:34.425Z"
      },
      {
        "duration": 207,
        "start_time": "2022-12-12T11:14:42.966Z"
      },
      {
        "duration": 17,
        "start_time": "2022-12-12T11:15:10.039Z"
      },
      {
        "duration": 192,
        "start_time": "2022-12-12T11:15:13.584Z"
      },
      {
        "duration": 10,
        "start_time": "2022-12-12T11:15:15.046Z"
      },
      {
        "duration": 8,
        "start_time": "2022-12-12T11:15:19.553Z"
      },
      {
        "duration": 318,
        "start_time": "2022-12-12T11:15:20.018Z"
      },
      {
        "duration": 300,
        "start_time": "2022-12-12T11:15:20.493Z"
      },
      {
        "duration": 5,
        "start_time": "2022-12-12T11:15:28.631Z"
      },
      {
        "duration": 455,
        "start_time": "2022-12-12T11:15:29.902Z"
      },
      {
        "duration": 1704,
        "start_time": "2022-12-12T11:15:38.701Z"
      },
      {
        "duration": 1635,
        "start_time": "2022-12-12T11:15:41.887Z"
      },
      {
        "duration": 1175,
        "start_time": "2022-12-12T11:15:48.891Z"
      },
      {
        "duration": 16,
        "start_time": "2022-12-12T11:15:53.203Z"
      }
    ],
    "kernelspec": {
      "display_name": "Python 3 (ipykernel)",
      "language": "python",
      "name": "python3"
    },
    "language_info": {
      "codemirror_mode": {
        "name": "ipython",
        "version": 3
      },
      "file_extension": ".py",
      "mimetype": "text/x-python",
      "name": "python",
      "nbconvert_exporter": "python",
      "pygments_lexer": "ipython3",
      "version": "3.9.5"
    },
    "toc": {
      "base_numbering": 1,
      "nav_menu": {},
      "number_sections": true,
      "sideBar": true,
      "skip_h1_title": true,
      "title_cell": "Table of Contents",
      "title_sidebar": "Contents",
      "toc_cell": false,
      "toc_position": {
        "height": "calc(100% - 180px)",
        "left": "10px",
        "top": "150px",
        "width": "165px"
      },
      "toc_section_display": true,
      "toc_window_display": false
    },
    "colab": {
      "provenance": [],
      "toc_visible": true
    }
  },
  "nbformat": 4,
  "nbformat_minor": 0
}